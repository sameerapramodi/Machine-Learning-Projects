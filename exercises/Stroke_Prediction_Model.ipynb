{
  "cells": [
    {
      "cell_type": "markdown",
      "metadata": {
        "id": "WeaMlpEZV4uz"
      },
      "source": [
        "<a href=\"https://colab.research.google.com/github/chris-lovejoy/CodingForMedicine/blob/main/exercises/Stroke_Prediction_Model.ipynb\" target=\"_parent\"><img src=\"https://colab.research.google.com/assets/colab-badge.svg\" alt=\"Open In Colab\"/></a>"
      ]
    },
    {
      "cell_type": "markdown",
      "source": [
        "Healthcare dataset - testing 2"
      ],
      "metadata": {
        "id": "4xEGDwLdWlF3"
      }
    },
    {
      "cell_type": "markdown",
      "metadata": {
        "id": "14TVtNQSEtmy"
      },
      "source": [
        "# Predicting Strokes from Admission Data\n",
        "\n",
        "**In this exercise, we will train different machine learning models to predict whether a patient has a stroke, based on background clinical information.\n",
        "\n",
        "This exercise uses a [stroke dataset from Kaggle](https://www.kaggle.com/datasets/fedesoriano/stroke-prediction-dataset).\n",
        "\n",
        "This is a **classification problem** because we're asking the algorithm to classify samples into one of two classes: **stroke** or **not stroke**.\n",
        "\n",
        "In this exercise, we'll learn how to:\n",
        "- **Download data** and **load it into our Jupyter Notebook**\n",
        "- Import useful libraries like **[pandas](https://pandas.pydata.org/docs/)**, **[sci-kit learn](https://scikit-learn.org/stable/)**, and **[imbalanced-learn](https://imbalanced-learn.org/stable/)**. (Click the links for the documentation - which is really helpful reference!)\n",
        "- **Clean our data**, and **modify it with sci-kit learn pipelines**: an approach that helps us clean and transform our data into a more effective form for machine learning algorithms to interpret and learn with.\n",
        "- Deal with **class imbalance**: where we have more data points in one class than another (e.g. more patients without stroke than with stroke)\n",
        "- Quantify our model with **various metrics**\n"
      ]
    },
    {
      "cell_type": "markdown",
      "metadata": {
        "id": "JfozLuuxEtm0"
      },
      "source": [
        "## Part 1: Downloading and Importing Data\n"
      ]
    },
    {
      "cell_type": "markdown",
      "metadata": {
        "id": "SHlVonzGV4u4"
      },
      "source": [
        "To begin with, let's set up our notebook with the necessary packages and grab the data from Kaggle!\n",
        "\n",
        "One option is to set up a virtual environment on your computer. Popular virtual environments for Python are Venv and Conda. Here are some guides on how to do so: [**1**](https://protostar.space/why-you-need-python-environments-and-how-to-manage-them-with-conda) and [**2**](https://realpython.com/python-virtual-environments-a-primer/).\n",
        "\n",
        "The easiest way to get started, however, is to run a \"command line argument\" directly within our Jupyter notebook. We can do that by adding \"%\" or \"!\" to the start of our Jupyter Notebook cell. (We don't have to run it in a separate terminal.)"
      ]
    },
    {
      "cell_type": "code",
      "execution_count": 1,
      "metadata": {
        "colab": {
          "base_uri": "https://localhost:8080/"
        },
        "id": "h_bqpO1PEtm0",
        "outputId": "aae21da9-fb7e-4668-a728-e2e80354410d"
      },
      "outputs": [
        {
          "output_type": "stream",
          "name": "stdout",
          "text": [
            "Requirement already satisfied: pandas in /usr/local/lib/python3.11/dist-packages (2.2.2)\n",
            "Requirement already satisfied: numpy in /usr/local/lib/python3.11/dist-packages (2.0.2)\n",
            "Requirement already satisfied: matplotlib in /usr/local/lib/python3.11/dist-packages (3.10.0)\n",
            "Requirement already satisfied: seaborn in /usr/local/lib/python3.11/dist-packages (0.13.2)\n",
            "Requirement already satisfied: imbalanced-learn in /usr/local/lib/python3.11/dist-packages (0.13.0)\n",
            "Requirement already satisfied: python-dateutil>=2.8.2 in /usr/local/lib/python3.11/dist-packages (from pandas) (2.9.0.post0)\n",
            "Requirement already satisfied: pytz>=2020.1 in /usr/local/lib/python3.11/dist-packages (from pandas) (2025.2)\n",
            "Requirement already satisfied: tzdata>=2022.7 in /usr/local/lib/python3.11/dist-packages (from pandas) (2025.2)\n",
            "Requirement already satisfied: contourpy>=1.0.1 in /usr/local/lib/python3.11/dist-packages (from matplotlib) (1.3.2)\n",
            "Requirement already satisfied: cycler>=0.10 in /usr/local/lib/python3.11/dist-packages (from matplotlib) (0.12.1)\n",
            "Requirement already satisfied: fonttools>=4.22.0 in /usr/local/lib/python3.11/dist-packages (from matplotlib) (4.57.0)\n",
            "Requirement already satisfied: kiwisolver>=1.3.1 in /usr/local/lib/python3.11/dist-packages (from matplotlib) (1.4.8)\n",
            "Requirement already satisfied: packaging>=20.0 in /usr/local/lib/python3.11/dist-packages (from matplotlib) (24.2)\n",
            "Requirement already satisfied: pillow>=8 in /usr/local/lib/python3.11/dist-packages (from matplotlib) (11.2.1)\n",
            "Requirement already satisfied: pyparsing>=2.3.1 in /usr/local/lib/python3.11/dist-packages (from matplotlib) (3.2.3)\n",
            "Requirement already satisfied: scipy<2,>=1.10.1 in /usr/local/lib/python3.11/dist-packages (from imbalanced-learn) (1.15.3)\n",
            "Requirement already satisfied: scikit-learn<2,>=1.3.2 in /usr/local/lib/python3.11/dist-packages (from imbalanced-learn) (1.6.1)\n",
            "Requirement already satisfied: sklearn-compat<1,>=0.1 in /usr/local/lib/python3.11/dist-packages (from imbalanced-learn) (0.1.3)\n",
            "Requirement already satisfied: joblib<2,>=1.1.1 in /usr/local/lib/python3.11/dist-packages (from imbalanced-learn) (1.5.0)\n",
            "Requirement already satisfied: threadpoolctl<4,>=2.0.0 in /usr/local/lib/python3.11/dist-packages (from imbalanced-learn) (3.6.0)\n",
            "Requirement already satisfied: six>=1.5 in /usr/local/lib/python3.11/dist-packages (from python-dateutil>=2.8.2->pandas) (1.17.0)\n"
          ]
        }
      ],
      "source": [
        "%pip install pandas numpy matplotlib seaborn imbalanced-learn"
      ]
    },
    {
      "cell_type": "markdown",
      "metadata": {
        "id": "BEC7FiyxEtm1"
      },
      "source": [
        "This ensures our environment/colab instance has installed the latest versions of several commonly used data science packages."
      ]
    },
    {
      "cell_type": "code",
      "execution_count": 2,
      "metadata": {
        "id": "xa33VNHSEtm1"
      },
      "outputs": [],
      "source": [
        "# Setup matplotlib to display plots correctly within pandas\n",
        "%matplotlib inline\n",
        "\n",
        "# Import packages into our runtime\n",
        "import pandas as pd\n",
        "import numpy as np\n",
        "import matplotlib.pyplot as plt\n",
        "import seaborn as sns\n",
        "\n",
        "np.random.seed(42)"
      ]
    },
    {
      "cell_type": "markdown",
      "metadata": {
        "id": "-H9gHvb6Etm1"
      },
      "source": [
        "### Download data from Kaggle\n",
        "\n",
        "To train a machine learning model, the first thing we need is data.\n",
        "\n",
        "There are various open-source datasets available on the internet. Great sources of datasets include [Kaggle](https://www.kaggle.com/), [Papers with Code](https://paperswithcode.com/datasets) and [data.world](https://data.world/datasets/health).\n",
        "\n",
        "For this exercise, we're using a dataset available on Kaggle. You can view information about the dataset and download it [here](https://www.kaggle.com/datasets/fedesoriano/stroke-prediction-dataset). (You may need to create a Kaggle account, which is definitely worth doing - Kaggle is great.)\n",
        "\n",
        "There are two ways to get our data - either via the a \"command line argument\" or manually (by going to Kaggle and downloading it).\n"
      ]
    },
    {
      "cell_type": "markdown",
      "metadata": {
        "id": "5Xw6cmdLV4u6"
      },
      "source": [
        "#### **Option #1. Using Kaggle CLI Command**\n",
        "\n",
        "Those who have downloaded and set up the kaggle CLI (Command Line Interface) can run the following command to download the dataset:\n"
      ]
    },
    {
      "cell_type": "code",
      "execution_count": 3,
      "metadata": {
        "colab": {
          "base_uri": "https://localhost:8080/"
        },
        "id": "cmmeFOODEtm1",
        "outputId": "9cf66df4-f56b-4195-a521-a11646ce1bfe"
      },
      "outputs": [
        {
          "output_type": "stream",
          "name": "stdout",
          "text": [
            "Traceback (most recent call last):\n",
            "  File \"/usr/local/bin/kaggle\", line 10, in <module>\n",
            "    sys.exit(main())\n",
            "             ^^^^^^\n",
            "  File \"/usr/local/lib/python3.11/dist-packages/kaggle/cli.py\", line 68, in main\n",
            "    out = args.func(**command_args)\n",
            "          ^^^^^^^^^^^^^^^^^^^^^^^^^\n",
            "  File \"/usr/local/lib/python3.11/dist-packages/kaggle/api/kaggle_api_extended.py\", line 1741, in dataset_download_cli\n",
            "    with self.build_kaggle_client() as kaggle:\n",
            "         ^^^^^^^^^^^^^^^^^^^^^^^^^^\n",
            "  File \"/usr/local/lib/python3.11/dist-packages/kaggle/api/kaggle_api_extended.py\", line 688, in build_kaggle_client\n",
            "    username=self.config_values['username'],\n",
            "             ~~~~~~~~~~~~~~~~~~^^^^^^^^^^^^\n",
            "KeyError: 'username'\n"
          ]
        }
      ],
      "source": [
        "# Download the stroke prediction dataset into the ./data folder\n",
        "!kaggle datasets download -d fedesoriano/stroke-prediction-dataset --path ./data"
      ]
    },
    {
      "cell_type": "code",
      "source": [
        "from google.colab import files\n",
        "uploaded = files.upload()\n"
      ],
      "metadata": {
        "colab": {
          "base_uri": "https://localhost:8080/",
          "height": 73
        },
        "id": "TJ80IlmJWUtL",
        "outputId": "d17c0ee4-f730-44cd-b070-d6daf4301879"
      },
      "execution_count": 5,
      "outputs": [
        {
          "output_type": "display_data",
          "data": {
            "text/plain": [
              "<IPython.core.display.HTML object>"
            ],
            "text/html": [
              "\n",
              "     <input type=\"file\" id=\"files-da0861f9-a4f3-4e8e-847b-b15b384eb6b5\" name=\"files[]\" multiple disabled\n",
              "        style=\"border:none\" />\n",
              "     <output id=\"result-da0861f9-a4f3-4e8e-847b-b15b384eb6b5\">\n",
              "      Upload widget is only available when the cell has been executed in the\n",
              "      current browser session. Please rerun this cell to enable.\n",
              "      </output>\n",
              "      <script>// Copyright 2017 Google LLC\n",
              "//\n",
              "// Licensed under the Apache License, Version 2.0 (the \"License\");\n",
              "// you may not use this file except in compliance with the License.\n",
              "// You may obtain a copy of the License at\n",
              "//\n",
              "//      http://www.apache.org/licenses/LICENSE-2.0\n",
              "//\n",
              "// Unless required by applicable law or agreed to in writing, software\n",
              "// distributed under the License is distributed on an \"AS IS\" BASIS,\n",
              "// WITHOUT WARRANTIES OR CONDITIONS OF ANY KIND, either express or implied.\n",
              "// See the License for the specific language governing permissions and\n",
              "// limitations under the License.\n",
              "\n",
              "/**\n",
              " * @fileoverview Helpers for google.colab Python module.\n",
              " */\n",
              "(function(scope) {\n",
              "function span(text, styleAttributes = {}) {\n",
              "  const element = document.createElement('span');\n",
              "  element.textContent = text;\n",
              "  for (const key of Object.keys(styleAttributes)) {\n",
              "    element.style[key] = styleAttributes[key];\n",
              "  }\n",
              "  return element;\n",
              "}\n",
              "\n",
              "// Max number of bytes which will be uploaded at a time.\n",
              "const MAX_PAYLOAD_SIZE = 100 * 1024;\n",
              "\n",
              "function _uploadFiles(inputId, outputId) {\n",
              "  const steps = uploadFilesStep(inputId, outputId);\n",
              "  const outputElement = document.getElementById(outputId);\n",
              "  // Cache steps on the outputElement to make it available for the next call\n",
              "  // to uploadFilesContinue from Python.\n",
              "  outputElement.steps = steps;\n",
              "\n",
              "  return _uploadFilesContinue(outputId);\n",
              "}\n",
              "\n",
              "// This is roughly an async generator (not supported in the browser yet),\n",
              "// where there are multiple asynchronous steps and the Python side is going\n",
              "// to poll for completion of each step.\n",
              "// This uses a Promise to block the python side on completion of each step,\n",
              "// then passes the result of the previous step as the input to the next step.\n",
              "function _uploadFilesContinue(outputId) {\n",
              "  const outputElement = document.getElementById(outputId);\n",
              "  const steps = outputElement.steps;\n",
              "\n",
              "  const next = steps.next(outputElement.lastPromiseValue);\n",
              "  return Promise.resolve(next.value.promise).then((value) => {\n",
              "    // Cache the last promise value to make it available to the next\n",
              "    // step of the generator.\n",
              "    outputElement.lastPromiseValue = value;\n",
              "    return next.value.response;\n",
              "  });\n",
              "}\n",
              "\n",
              "/**\n",
              " * Generator function which is called between each async step of the upload\n",
              " * process.\n",
              " * @param {string} inputId Element ID of the input file picker element.\n",
              " * @param {string} outputId Element ID of the output display.\n",
              " * @return {!Iterable<!Object>} Iterable of next steps.\n",
              " */\n",
              "function* uploadFilesStep(inputId, outputId) {\n",
              "  const inputElement = document.getElementById(inputId);\n",
              "  inputElement.disabled = false;\n",
              "\n",
              "  const outputElement = document.getElementById(outputId);\n",
              "  outputElement.innerHTML = '';\n",
              "\n",
              "  const pickedPromise = new Promise((resolve) => {\n",
              "    inputElement.addEventListener('change', (e) => {\n",
              "      resolve(e.target.files);\n",
              "    });\n",
              "  });\n",
              "\n",
              "  const cancel = document.createElement('button');\n",
              "  inputElement.parentElement.appendChild(cancel);\n",
              "  cancel.textContent = 'Cancel upload';\n",
              "  const cancelPromise = new Promise((resolve) => {\n",
              "    cancel.onclick = () => {\n",
              "      resolve(null);\n",
              "    };\n",
              "  });\n",
              "\n",
              "  // Wait for the user to pick the files.\n",
              "  const files = yield {\n",
              "    promise: Promise.race([pickedPromise, cancelPromise]),\n",
              "    response: {\n",
              "      action: 'starting',\n",
              "    }\n",
              "  };\n",
              "\n",
              "  cancel.remove();\n",
              "\n",
              "  // Disable the input element since further picks are not allowed.\n",
              "  inputElement.disabled = true;\n",
              "\n",
              "  if (!files) {\n",
              "    return {\n",
              "      response: {\n",
              "        action: 'complete',\n",
              "      }\n",
              "    };\n",
              "  }\n",
              "\n",
              "  for (const file of files) {\n",
              "    const li = document.createElement('li');\n",
              "    li.append(span(file.name, {fontWeight: 'bold'}));\n",
              "    li.append(span(\n",
              "        `(${file.type || 'n/a'}) - ${file.size} bytes, ` +\n",
              "        `last modified: ${\n",
              "            file.lastModifiedDate ? file.lastModifiedDate.toLocaleDateString() :\n",
              "                                    'n/a'} - `));\n",
              "    const percent = span('0% done');\n",
              "    li.appendChild(percent);\n",
              "\n",
              "    outputElement.appendChild(li);\n",
              "\n",
              "    const fileDataPromise = new Promise((resolve) => {\n",
              "      const reader = new FileReader();\n",
              "      reader.onload = (e) => {\n",
              "        resolve(e.target.result);\n",
              "      };\n",
              "      reader.readAsArrayBuffer(file);\n",
              "    });\n",
              "    // Wait for the data to be ready.\n",
              "    let fileData = yield {\n",
              "      promise: fileDataPromise,\n",
              "      response: {\n",
              "        action: 'continue',\n",
              "      }\n",
              "    };\n",
              "\n",
              "    // Use a chunked sending to avoid message size limits. See b/62115660.\n",
              "    let position = 0;\n",
              "    do {\n",
              "      const length = Math.min(fileData.byteLength - position, MAX_PAYLOAD_SIZE);\n",
              "      const chunk = new Uint8Array(fileData, position, length);\n",
              "      position += length;\n",
              "\n",
              "      const base64 = btoa(String.fromCharCode.apply(null, chunk));\n",
              "      yield {\n",
              "        response: {\n",
              "          action: 'append',\n",
              "          file: file.name,\n",
              "          data: base64,\n",
              "        },\n",
              "      };\n",
              "\n",
              "      let percentDone = fileData.byteLength === 0 ?\n",
              "          100 :\n",
              "          Math.round((position / fileData.byteLength) * 100);\n",
              "      percent.textContent = `${percentDone}% done`;\n",
              "\n",
              "    } while (position < fileData.byteLength);\n",
              "  }\n",
              "\n",
              "  // All done.\n",
              "  yield {\n",
              "    response: {\n",
              "      action: 'complete',\n",
              "    }\n",
              "  };\n",
              "}\n",
              "\n",
              "scope.google = scope.google || {};\n",
              "scope.google.colab = scope.google.colab || {};\n",
              "scope.google.colab._files = {\n",
              "  _uploadFiles,\n",
              "  _uploadFilesContinue,\n",
              "};\n",
              "})(self);\n",
              "</script> "
            ]
          },
          "metadata": {}
        },
        {
          "output_type": "stream",
          "name": "stdout",
          "text": [
            "Saving healthcare-dataset-stroke-data.csv to healthcare-dataset-stroke-data.csv\n"
          ]
        }
      ]
    },
    {
      "cell_type": "markdown",
      "metadata": {
        "id": "zYVExXkBU2z-"
      },
      "source": [
        "#### **Option #2. Download manually**\n",
        "\n",
        "Alternatively, you can view information about the dataset and download it [here](https://www.kaggle.com/datasets/fedesoriano/stroke-prediction-dataset).\n",
        "\n",
        "#### Downloading and moving our data:\n",
        "Once we've downloaded the data, we're looking for the .csv file (it may be within a .zip file, which needs unzipping). CSV stands for 'comma-separated value' and means that each row of data is stored with values separated by commas. You can open the file in a 'plain text' editor (like Notepad (windows) or TextEdit (Mac)) to see what this looks like.\n",
        "\n",
        "Where we put that file will depend on whether we're running Jupyter Notebook locally or in Google Colab. These options are discussed in the Jupyter Notebook setup exercise.\n",
        "\n",
        "**If you are using Google Colab**, you need to:\n",
        "\n",
        "- Make sure you are connected to a runtime (click Connect in the top right if you aren't)\n",
        "- Select the 'Files' folder on the left-hand tab\n",
        "- Drag our downloaded  'healthcare-dataset-stroke-data.csv' file into the Files tab (it should show the file uploading in the bottom left, and then you'll see 'healthcare-dataset-stroke-data.csv' within the Files tab).\n",
        "\n",
        "**If you are running Jupyter Notebook on your local computer**, you can simply:\n",
        "\n",
        "- Drag our 'healthcare-dataset-stroke-data.csv' file into the same folder (aka. directory) as this Jupyter Notebook.\n",
        "\n"
      ]
    },
    {
      "cell_type": "markdown",
      "metadata": {
        "id": "JvX-g9IVEtm1"
      },
      "source": [
        "## Part 2: Data Exploration\n",
        "Now we have the data downloaded; we need to load this into a data frame to explore it and perform further analysis."
      ]
    },
    {
      "cell_type": "markdown",
      "metadata": {
        "id": "LidKyjBe2cxb"
      },
      "source": [
        "We can either do this by unzipping the dataset or just loading it directly with pandas:"
      ]
    },
    {
      "cell_type": "code",
      "execution_count": 6,
      "metadata": {
        "id": "yfCLg5zqEtm1"
      },
      "outputs": [],
      "source": [
        "# No need to unzip the file - we can load the .csv file within directly into a DataFrame (commonly notated as `df`)\n",
        "df = pd.read_csv(\"./healthcare-dataset-stroke-data.csv\")\n",
        "df = df.rename({\"Residence_type\": \"residence_type\"}, axis=1)"
      ]
    },
    {
      "cell_type": "markdown",
      "metadata": {
        "id": "jhnB9DngEtm2"
      },
      "source": [
        "It is good practice to explore what data we are actually dealing with and get a *feel* for it. We should check for missing data, what data is present, and relevant data types!\n",
        "\n",
        "There are many ways of doing this with `pandas` ([API](https://pandas.pydata.org/docs/reference/frame.html#attributes-and-underlying-data)) - the most useful and commonly used methods being `head()`, `info()`, `describe()` initially:"
      ]
    },
    {
      "cell_type": "code",
      "execution_count": 7,
      "metadata": {
        "colab": {
          "base_uri": "https://localhost:8080/",
          "height": 363
        },
        "id": "1rjFUUJmEtm2",
        "outputId": "c479e546-865b-413c-ab57-c244e2e505d6"
      },
      "outputs": [
        {
          "output_type": "execute_result",
          "data": {
            "text/plain": [
              "      id  gender   age  hypertension  heart_disease ever_married  \\\n",
              "0   9046    Male  67.0             0              1          Yes   \n",
              "1  51676  Female  61.0             0              0          Yes   \n",
              "2  31112    Male  80.0             0              1          Yes   \n",
              "3  60182  Female  49.0             0              0          Yes   \n",
              "4   1665  Female  79.0             1              0          Yes   \n",
              "5  56669    Male  81.0             0              0          Yes   \n",
              "6  53882    Male  74.0             1              1          Yes   \n",
              "7  10434  Female  69.0             0              0           No   \n",
              "8  27419  Female  59.0             0              0          Yes   \n",
              "9  60491  Female  78.0             0              0          Yes   \n",
              "\n",
              "       work_type residence_type  avg_glucose_level   bmi   smoking_status  \\\n",
              "0        Private          Urban             228.69  36.6  formerly smoked   \n",
              "1  Self-employed          Rural             202.21   NaN     never smoked   \n",
              "2        Private          Rural             105.92  32.5     never smoked   \n",
              "3        Private          Urban             171.23  34.4           smokes   \n",
              "4  Self-employed          Rural             174.12  24.0     never smoked   \n",
              "5        Private          Urban             186.21  29.0  formerly smoked   \n",
              "6        Private          Rural              70.09  27.4     never smoked   \n",
              "7        Private          Urban              94.39  22.8     never smoked   \n",
              "8        Private          Rural              76.15   NaN          Unknown   \n",
              "9        Private          Urban              58.57  24.2          Unknown   \n",
              "\n",
              "   stroke  \n",
              "0       1  \n",
              "1       1  \n",
              "2       1  \n",
              "3       1  \n",
              "4       1  \n",
              "5       1  \n",
              "6       1  \n",
              "7       1  \n",
              "8       1  \n",
              "9       1  "
            ],
            "text/html": [
              "\n",
              "  <div id=\"df-aeb2defa-0293-4282-bd00-6f07c67e0636\" class=\"colab-df-container\">\n",
              "    <div>\n",
              "<style scoped>\n",
              "    .dataframe tbody tr th:only-of-type {\n",
              "        vertical-align: middle;\n",
              "    }\n",
              "\n",
              "    .dataframe tbody tr th {\n",
              "        vertical-align: top;\n",
              "    }\n",
              "\n",
              "    .dataframe thead th {\n",
              "        text-align: right;\n",
              "    }\n",
              "</style>\n",
              "<table border=\"1\" class=\"dataframe\">\n",
              "  <thead>\n",
              "    <tr style=\"text-align: right;\">\n",
              "      <th></th>\n",
              "      <th>id</th>\n",
              "      <th>gender</th>\n",
              "      <th>age</th>\n",
              "      <th>hypertension</th>\n",
              "      <th>heart_disease</th>\n",
              "      <th>ever_married</th>\n",
              "      <th>work_type</th>\n",
              "      <th>residence_type</th>\n",
              "      <th>avg_glucose_level</th>\n",
              "      <th>bmi</th>\n",
              "      <th>smoking_status</th>\n",
              "      <th>stroke</th>\n",
              "    </tr>\n",
              "  </thead>\n",
              "  <tbody>\n",
              "    <tr>\n",
              "      <th>0</th>\n",
              "      <td>9046</td>\n",
              "      <td>Male</td>\n",
              "      <td>67.0</td>\n",
              "      <td>0</td>\n",
              "      <td>1</td>\n",
              "      <td>Yes</td>\n",
              "      <td>Private</td>\n",
              "      <td>Urban</td>\n",
              "      <td>228.69</td>\n",
              "      <td>36.6</td>\n",
              "      <td>formerly smoked</td>\n",
              "      <td>1</td>\n",
              "    </tr>\n",
              "    <tr>\n",
              "      <th>1</th>\n",
              "      <td>51676</td>\n",
              "      <td>Female</td>\n",
              "      <td>61.0</td>\n",
              "      <td>0</td>\n",
              "      <td>0</td>\n",
              "      <td>Yes</td>\n",
              "      <td>Self-employed</td>\n",
              "      <td>Rural</td>\n",
              "      <td>202.21</td>\n",
              "      <td>NaN</td>\n",
              "      <td>never smoked</td>\n",
              "      <td>1</td>\n",
              "    </tr>\n",
              "    <tr>\n",
              "      <th>2</th>\n",
              "      <td>31112</td>\n",
              "      <td>Male</td>\n",
              "      <td>80.0</td>\n",
              "      <td>0</td>\n",
              "      <td>1</td>\n",
              "      <td>Yes</td>\n",
              "      <td>Private</td>\n",
              "      <td>Rural</td>\n",
              "      <td>105.92</td>\n",
              "      <td>32.5</td>\n",
              "      <td>never smoked</td>\n",
              "      <td>1</td>\n",
              "    </tr>\n",
              "    <tr>\n",
              "      <th>3</th>\n",
              "      <td>60182</td>\n",
              "      <td>Female</td>\n",
              "      <td>49.0</td>\n",
              "      <td>0</td>\n",
              "      <td>0</td>\n",
              "      <td>Yes</td>\n",
              "      <td>Private</td>\n",
              "      <td>Urban</td>\n",
              "      <td>171.23</td>\n",
              "      <td>34.4</td>\n",
              "      <td>smokes</td>\n",
              "      <td>1</td>\n",
              "    </tr>\n",
              "    <tr>\n",
              "      <th>4</th>\n",
              "      <td>1665</td>\n",
              "      <td>Female</td>\n",
              "      <td>79.0</td>\n",
              "      <td>1</td>\n",
              "      <td>0</td>\n",
              "      <td>Yes</td>\n",
              "      <td>Self-employed</td>\n",
              "      <td>Rural</td>\n",
              "      <td>174.12</td>\n",
              "      <td>24.0</td>\n",
              "      <td>never smoked</td>\n",
              "      <td>1</td>\n",
              "    </tr>\n",
              "    <tr>\n",
              "      <th>5</th>\n",
              "      <td>56669</td>\n",
              "      <td>Male</td>\n",
              "      <td>81.0</td>\n",
              "      <td>0</td>\n",
              "      <td>0</td>\n",
              "      <td>Yes</td>\n",
              "      <td>Private</td>\n",
              "      <td>Urban</td>\n",
              "      <td>186.21</td>\n",
              "      <td>29.0</td>\n",
              "      <td>formerly smoked</td>\n",
              "      <td>1</td>\n",
              "    </tr>\n",
              "    <tr>\n",
              "      <th>6</th>\n",
              "      <td>53882</td>\n",
              "      <td>Male</td>\n",
              "      <td>74.0</td>\n",
              "      <td>1</td>\n",
              "      <td>1</td>\n",
              "      <td>Yes</td>\n",
              "      <td>Private</td>\n",
              "      <td>Rural</td>\n",
              "      <td>70.09</td>\n",
              "      <td>27.4</td>\n",
              "      <td>never smoked</td>\n",
              "      <td>1</td>\n",
              "    </tr>\n",
              "    <tr>\n",
              "      <th>7</th>\n",
              "      <td>10434</td>\n",
              "      <td>Female</td>\n",
              "      <td>69.0</td>\n",
              "      <td>0</td>\n",
              "      <td>0</td>\n",
              "      <td>No</td>\n",
              "      <td>Private</td>\n",
              "      <td>Urban</td>\n",
              "      <td>94.39</td>\n",
              "      <td>22.8</td>\n",
              "      <td>never smoked</td>\n",
              "      <td>1</td>\n",
              "    </tr>\n",
              "    <tr>\n",
              "      <th>8</th>\n",
              "      <td>27419</td>\n",
              "      <td>Female</td>\n",
              "      <td>59.0</td>\n",
              "      <td>0</td>\n",
              "      <td>0</td>\n",
              "      <td>Yes</td>\n",
              "      <td>Private</td>\n",
              "      <td>Rural</td>\n",
              "      <td>76.15</td>\n",
              "      <td>NaN</td>\n",
              "      <td>Unknown</td>\n",
              "      <td>1</td>\n",
              "    </tr>\n",
              "    <tr>\n",
              "      <th>9</th>\n",
              "      <td>60491</td>\n",
              "      <td>Female</td>\n",
              "      <td>78.0</td>\n",
              "      <td>0</td>\n",
              "      <td>0</td>\n",
              "      <td>Yes</td>\n",
              "      <td>Private</td>\n",
              "      <td>Urban</td>\n",
              "      <td>58.57</td>\n",
              "      <td>24.2</td>\n",
              "      <td>Unknown</td>\n",
              "      <td>1</td>\n",
              "    </tr>\n",
              "  </tbody>\n",
              "</table>\n",
              "</div>\n",
              "    <div class=\"colab-df-buttons\">\n",
              "\n",
              "  <div class=\"colab-df-container\">\n",
              "    <button class=\"colab-df-convert\" onclick=\"convertToInteractive('df-aeb2defa-0293-4282-bd00-6f07c67e0636')\"\n",
              "            title=\"Convert this dataframe to an interactive table.\"\n",
              "            style=\"display:none;\">\n",
              "\n",
              "  <svg xmlns=\"http://www.w3.org/2000/svg\" height=\"24px\" viewBox=\"0 -960 960 960\">\n",
              "    <path d=\"M120-120v-720h720v720H120Zm60-500h600v-160H180v160Zm220 220h160v-160H400v160Zm0 220h160v-160H400v160ZM180-400h160v-160H180v160Zm440 0h160v-160H620v160ZM180-180h160v-160H180v160Zm440 0h160v-160H620v160Z\"/>\n",
              "  </svg>\n",
              "    </button>\n",
              "\n",
              "  <style>\n",
              "    .colab-df-container {\n",
              "      display:flex;\n",
              "      gap: 12px;\n",
              "    }\n",
              "\n",
              "    .colab-df-convert {\n",
              "      background-color: #E8F0FE;\n",
              "      border: none;\n",
              "      border-radius: 50%;\n",
              "      cursor: pointer;\n",
              "      display: none;\n",
              "      fill: #1967D2;\n",
              "      height: 32px;\n",
              "      padding: 0 0 0 0;\n",
              "      width: 32px;\n",
              "    }\n",
              "\n",
              "    .colab-df-convert:hover {\n",
              "      background-color: #E2EBFA;\n",
              "      box-shadow: 0px 1px 2px rgba(60, 64, 67, 0.3), 0px 1px 3px 1px rgba(60, 64, 67, 0.15);\n",
              "      fill: #174EA6;\n",
              "    }\n",
              "\n",
              "    .colab-df-buttons div {\n",
              "      margin-bottom: 4px;\n",
              "    }\n",
              "\n",
              "    [theme=dark] .colab-df-convert {\n",
              "      background-color: #3B4455;\n",
              "      fill: #D2E3FC;\n",
              "    }\n",
              "\n",
              "    [theme=dark] .colab-df-convert:hover {\n",
              "      background-color: #434B5C;\n",
              "      box-shadow: 0px 1px 3px 1px rgba(0, 0, 0, 0.15);\n",
              "      filter: drop-shadow(0px 1px 2px rgba(0, 0, 0, 0.3));\n",
              "      fill: #FFFFFF;\n",
              "    }\n",
              "  </style>\n",
              "\n",
              "    <script>\n",
              "      const buttonEl =\n",
              "        document.querySelector('#df-aeb2defa-0293-4282-bd00-6f07c67e0636 button.colab-df-convert');\n",
              "      buttonEl.style.display =\n",
              "        google.colab.kernel.accessAllowed ? 'block' : 'none';\n",
              "\n",
              "      async function convertToInteractive(key) {\n",
              "        const element = document.querySelector('#df-aeb2defa-0293-4282-bd00-6f07c67e0636');\n",
              "        const dataTable =\n",
              "          await google.colab.kernel.invokeFunction('convertToInteractive',\n",
              "                                                    [key], {});\n",
              "        if (!dataTable) return;\n",
              "\n",
              "        const docLinkHtml = 'Like what you see? Visit the ' +\n",
              "          '<a target=\"_blank\" href=https://colab.research.google.com/notebooks/data_table.ipynb>data table notebook</a>'\n",
              "          + ' to learn more about interactive tables.';\n",
              "        element.innerHTML = '';\n",
              "        dataTable['output_type'] = 'display_data';\n",
              "        await google.colab.output.renderOutput(dataTable, element);\n",
              "        const docLink = document.createElement('div');\n",
              "        docLink.innerHTML = docLinkHtml;\n",
              "        element.appendChild(docLink);\n",
              "      }\n",
              "    </script>\n",
              "  </div>\n",
              "\n",
              "\n",
              "    <div id=\"df-32f5a080-b59f-4206-9251-ac62b284d14f\">\n",
              "      <button class=\"colab-df-quickchart\" onclick=\"quickchart('df-32f5a080-b59f-4206-9251-ac62b284d14f')\"\n",
              "                title=\"Suggest charts\"\n",
              "                style=\"display:none;\">\n",
              "\n",
              "<svg xmlns=\"http://www.w3.org/2000/svg\" height=\"24px\"viewBox=\"0 0 24 24\"\n",
              "     width=\"24px\">\n",
              "    <g>\n",
              "        <path d=\"M19 3H5c-1.1 0-2 .9-2 2v14c0 1.1.9 2 2 2h14c1.1 0 2-.9 2-2V5c0-1.1-.9-2-2-2zM9 17H7v-7h2v7zm4 0h-2V7h2v10zm4 0h-2v-4h2v4z\"/>\n",
              "    </g>\n",
              "</svg>\n",
              "      </button>\n",
              "\n",
              "<style>\n",
              "  .colab-df-quickchart {\n",
              "      --bg-color: #E8F0FE;\n",
              "      --fill-color: #1967D2;\n",
              "      --hover-bg-color: #E2EBFA;\n",
              "      --hover-fill-color: #174EA6;\n",
              "      --disabled-fill-color: #AAA;\n",
              "      --disabled-bg-color: #DDD;\n",
              "  }\n",
              "\n",
              "  [theme=dark] .colab-df-quickchart {\n",
              "      --bg-color: #3B4455;\n",
              "      --fill-color: #D2E3FC;\n",
              "      --hover-bg-color: #434B5C;\n",
              "      --hover-fill-color: #FFFFFF;\n",
              "      --disabled-bg-color: #3B4455;\n",
              "      --disabled-fill-color: #666;\n",
              "  }\n",
              "\n",
              "  .colab-df-quickchart {\n",
              "    background-color: var(--bg-color);\n",
              "    border: none;\n",
              "    border-radius: 50%;\n",
              "    cursor: pointer;\n",
              "    display: none;\n",
              "    fill: var(--fill-color);\n",
              "    height: 32px;\n",
              "    padding: 0;\n",
              "    width: 32px;\n",
              "  }\n",
              "\n",
              "  .colab-df-quickchart:hover {\n",
              "    background-color: var(--hover-bg-color);\n",
              "    box-shadow: 0 1px 2px rgba(60, 64, 67, 0.3), 0 1px 3px 1px rgba(60, 64, 67, 0.15);\n",
              "    fill: var(--button-hover-fill-color);\n",
              "  }\n",
              "\n",
              "  .colab-df-quickchart-complete:disabled,\n",
              "  .colab-df-quickchart-complete:disabled:hover {\n",
              "    background-color: var(--disabled-bg-color);\n",
              "    fill: var(--disabled-fill-color);\n",
              "    box-shadow: none;\n",
              "  }\n",
              "\n",
              "  .colab-df-spinner {\n",
              "    border: 2px solid var(--fill-color);\n",
              "    border-color: transparent;\n",
              "    border-bottom-color: var(--fill-color);\n",
              "    animation:\n",
              "      spin 1s steps(1) infinite;\n",
              "  }\n",
              "\n",
              "  @keyframes spin {\n",
              "    0% {\n",
              "      border-color: transparent;\n",
              "      border-bottom-color: var(--fill-color);\n",
              "      border-left-color: var(--fill-color);\n",
              "    }\n",
              "    20% {\n",
              "      border-color: transparent;\n",
              "      border-left-color: var(--fill-color);\n",
              "      border-top-color: var(--fill-color);\n",
              "    }\n",
              "    30% {\n",
              "      border-color: transparent;\n",
              "      border-left-color: var(--fill-color);\n",
              "      border-top-color: var(--fill-color);\n",
              "      border-right-color: var(--fill-color);\n",
              "    }\n",
              "    40% {\n",
              "      border-color: transparent;\n",
              "      border-right-color: var(--fill-color);\n",
              "      border-top-color: var(--fill-color);\n",
              "    }\n",
              "    60% {\n",
              "      border-color: transparent;\n",
              "      border-right-color: var(--fill-color);\n",
              "    }\n",
              "    80% {\n",
              "      border-color: transparent;\n",
              "      border-right-color: var(--fill-color);\n",
              "      border-bottom-color: var(--fill-color);\n",
              "    }\n",
              "    90% {\n",
              "      border-color: transparent;\n",
              "      border-bottom-color: var(--fill-color);\n",
              "    }\n",
              "  }\n",
              "</style>\n",
              "\n",
              "      <script>\n",
              "        async function quickchart(key) {\n",
              "          const quickchartButtonEl =\n",
              "            document.querySelector('#' + key + ' button');\n",
              "          quickchartButtonEl.disabled = true;  // To prevent multiple clicks.\n",
              "          quickchartButtonEl.classList.add('colab-df-spinner');\n",
              "          try {\n",
              "            const charts = await google.colab.kernel.invokeFunction(\n",
              "                'suggestCharts', [key], {});\n",
              "          } catch (error) {\n",
              "            console.error('Error during call to suggestCharts:', error);\n",
              "          }\n",
              "          quickchartButtonEl.classList.remove('colab-df-spinner');\n",
              "          quickchartButtonEl.classList.add('colab-df-quickchart-complete');\n",
              "        }\n",
              "        (() => {\n",
              "          let quickchartButtonEl =\n",
              "            document.querySelector('#df-32f5a080-b59f-4206-9251-ac62b284d14f button');\n",
              "          quickchartButtonEl.style.display =\n",
              "            google.colab.kernel.accessAllowed ? 'block' : 'none';\n",
              "        })();\n",
              "      </script>\n",
              "    </div>\n",
              "\n",
              "    </div>\n",
              "  </div>\n"
            ],
            "application/vnd.google.colaboratory.intrinsic+json": {
              "type": "dataframe",
              "variable_name": "df",
              "summary": "{\n  \"name\": \"df\",\n  \"rows\": 5110,\n  \"fields\": [\n    {\n      \"column\": \"id\",\n      \"properties\": {\n        \"dtype\": \"number\",\n        \"std\": 21161,\n        \"min\": 67,\n        \"max\": 72940,\n        \"num_unique_values\": 5110,\n        \"samples\": [\n          40041,\n          55244,\n          70992\n        ],\n        \"semantic_type\": \"\",\n        \"description\": \"\"\n      }\n    },\n    {\n      \"column\": \"gender\",\n      \"properties\": {\n        \"dtype\": \"category\",\n        \"num_unique_values\": 3,\n        \"samples\": [\n          \"Male\",\n          \"Female\",\n          \"Other\"\n        ],\n        \"semantic_type\": \"\",\n        \"description\": \"\"\n      }\n    },\n    {\n      \"column\": \"age\",\n      \"properties\": {\n        \"dtype\": \"number\",\n        \"std\": 22.61264672311352,\n        \"min\": 0.08,\n        \"max\": 82.0,\n        \"num_unique_values\": 104,\n        \"samples\": [\n          45.0,\n          24.0,\n          33.0\n        ],\n        \"semantic_type\": \"\",\n        \"description\": \"\"\n      }\n    },\n    {\n      \"column\": \"hypertension\",\n      \"properties\": {\n        \"dtype\": \"number\",\n        \"std\": 0,\n        \"min\": 0,\n        \"max\": 1,\n        \"num_unique_values\": 2,\n        \"samples\": [\n          1,\n          0\n        ],\n        \"semantic_type\": \"\",\n        \"description\": \"\"\n      }\n    },\n    {\n      \"column\": \"heart_disease\",\n      \"properties\": {\n        \"dtype\": \"number\",\n        \"std\": 0,\n        \"min\": 0,\n        \"max\": 1,\n        \"num_unique_values\": 2,\n        \"samples\": [\n          0,\n          1\n        ],\n        \"semantic_type\": \"\",\n        \"description\": \"\"\n      }\n    },\n    {\n      \"column\": \"ever_married\",\n      \"properties\": {\n        \"dtype\": \"category\",\n        \"num_unique_values\": 2,\n        \"samples\": [\n          \"No\",\n          \"Yes\"\n        ],\n        \"semantic_type\": \"\",\n        \"description\": \"\"\n      }\n    },\n    {\n      \"column\": \"work_type\",\n      \"properties\": {\n        \"dtype\": \"category\",\n        \"num_unique_values\": 5,\n        \"samples\": [\n          \"Self-employed\",\n          \"Never_worked\"\n        ],\n        \"semantic_type\": \"\",\n        \"description\": \"\"\n      }\n    },\n    {\n      \"column\": \"residence_type\",\n      \"properties\": {\n        \"dtype\": \"category\",\n        \"num_unique_values\": 2,\n        \"samples\": [\n          \"Rural\",\n          \"Urban\"\n        ],\n        \"semantic_type\": \"\",\n        \"description\": \"\"\n      }\n    },\n    {\n      \"column\": \"avg_glucose_level\",\n      \"properties\": {\n        \"dtype\": \"number\",\n        \"std\": 45.28356015058203,\n        \"min\": 55.12,\n        \"max\": 271.74,\n        \"num_unique_values\": 3979,\n        \"samples\": [\n          178.29,\n          156.69\n        ],\n        \"semantic_type\": \"\",\n        \"description\": \"\"\n      }\n    },\n    {\n      \"column\": \"bmi\",\n      \"properties\": {\n        \"dtype\": \"number\",\n        \"std\": 7.854066729680158,\n        \"min\": 10.3,\n        \"max\": 97.6,\n        \"num_unique_values\": 418,\n        \"samples\": [\n          49.5,\n          18.5\n        ],\n        \"semantic_type\": \"\",\n        \"description\": \"\"\n      }\n    },\n    {\n      \"column\": \"smoking_status\",\n      \"properties\": {\n        \"dtype\": \"category\",\n        \"num_unique_values\": 4,\n        \"samples\": [\n          \"never smoked\",\n          \"Unknown\"\n        ],\n        \"semantic_type\": \"\",\n        \"description\": \"\"\n      }\n    },\n    {\n      \"column\": \"stroke\",\n      \"properties\": {\n        \"dtype\": \"number\",\n        \"std\": 0,\n        \"min\": 0,\n        \"max\": 1,\n        \"num_unique_values\": 2,\n        \"samples\": [\n          0,\n          1\n        ],\n        \"semantic_type\": \"\",\n        \"description\": \"\"\n      }\n    }\n  ]\n}"
            }
          },
          "metadata": {},
          "execution_count": 7
        }
      ],
      "source": [
        "# Let's have a look at the first 10 entries of the dataset\n",
        "df.head(10)"
      ]
    },
    {
      "cell_type": "markdown",
      "metadata": {
        "id": "OH-TvL2j22J0"
      },
      "source": [
        " **Execute the 2 following commands, *df.info()* and *df. describe()*, and describe the returned results and the difference between the two commands**"
      ]
    },
    {
      "cell_type": "code",
      "execution_count": 8,
      "metadata": {
        "colab": {
          "base_uri": "https://localhost:8080/"
        },
        "id": "yGBrGmVpEtm2",
        "outputId": "6c2f2587-7293-43fd-d398-87214854560c"
      },
      "outputs": [
        {
          "output_type": "stream",
          "name": "stdout",
          "text": [
            "<class 'pandas.core.frame.DataFrame'>\n",
            "RangeIndex: 5110 entries, 0 to 5109\n",
            "Data columns (total 12 columns):\n",
            " #   Column             Non-Null Count  Dtype  \n",
            "---  ------             --------------  -----  \n",
            " 0   id                 5110 non-null   int64  \n",
            " 1   gender             5110 non-null   object \n",
            " 2   age                5110 non-null   float64\n",
            " 3   hypertension       5110 non-null   int64  \n",
            " 4   heart_disease      5110 non-null   int64  \n",
            " 5   ever_married       5110 non-null   object \n",
            " 6   work_type          5110 non-null   object \n",
            " 7   residence_type     5110 non-null   object \n",
            " 8   avg_glucose_level  5110 non-null   float64\n",
            " 9   bmi                4909 non-null   float64\n",
            " 10  smoking_status     5110 non-null   object \n",
            " 11  stroke             5110 non-null   int64  \n",
            "dtypes: float64(3), int64(4), object(5)\n",
            "memory usage: 479.2+ KB\n"
          ]
        }
      ],
      "source": [
        "df.info()"
      ]
    },
    {
      "cell_type": "code",
      "execution_count": 9,
      "metadata": {
        "colab": {
          "base_uri": "https://localhost:8080/",
          "height": 300
        },
        "id": "vg72M3TKEtm2",
        "outputId": "a6b22f8e-d670-4f27-890d-7cff5bd22e98"
      },
      "outputs": [
        {
          "output_type": "execute_result",
          "data": {
            "text/plain": [
              "                 id          age  hypertension  heart_disease  \\\n",
              "count   5110.000000  5110.000000   5110.000000    5110.000000   \n",
              "mean   36517.829354    43.226614      0.097456       0.054012   \n",
              "std    21161.721625    22.612647      0.296607       0.226063   \n",
              "min       67.000000     0.080000      0.000000       0.000000   \n",
              "25%    17741.250000    25.000000      0.000000       0.000000   \n",
              "50%    36932.000000    45.000000      0.000000       0.000000   \n",
              "75%    54682.000000    61.000000      0.000000       0.000000   \n",
              "max    72940.000000    82.000000      1.000000       1.000000   \n",
              "\n",
              "       avg_glucose_level          bmi       stroke  \n",
              "count        5110.000000  4909.000000  5110.000000  \n",
              "mean          106.147677    28.893237     0.048728  \n",
              "std            45.283560     7.854067     0.215320  \n",
              "min            55.120000    10.300000     0.000000  \n",
              "25%            77.245000    23.500000     0.000000  \n",
              "50%            91.885000    28.100000     0.000000  \n",
              "75%           114.090000    33.100000     0.000000  \n",
              "max           271.740000    97.600000     1.000000  "
            ],
            "text/html": [
              "\n",
              "  <div id=\"df-a13dd3a9-9e40-4f43-8a83-675e5bc7afb4\" class=\"colab-df-container\">\n",
              "    <div>\n",
              "<style scoped>\n",
              "    .dataframe tbody tr th:only-of-type {\n",
              "        vertical-align: middle;\n",
              "    }\n",
              "\n",
              "    .dataframe tbody tr th {\n",
              "        vertical-align: top;\n",
              "    }\n",
              "\n",
              "    .dataframe thead th {\n",
              "        text-align: right;\n",
              "    }\n",
              "</style>\n",
              "<table border=\"1\" class=\"dataframe\">\n",
              "  <thead>\n",
              "    <tr style=\"text-align: right;\">\n",
              "      <th></th>\n",
              "      <th>id</th>\n",
              "      <th>age</th>\n",
              "      <th>hypertension</th>\n",
              "      <th>heart_disease</th>\n",
              "      <th>avg_glucose_level</th>\n",
              "      <th>bmi</th>\n",
              "      <th>stroke</th>\n",
              "    </tr>\n",
              "  </thead>\n",
              "  <tbody>\n",
              "    <tr>\n",
              "      <th>count</th>\n",
              "      <td>5110.000000</td>\n",
              "      <td>5110.000000</td>\n",
              "      <td>5110.000000</td>\n",
              "      <td>5110.000000</td>\n",
              "      <td>5110.000000</td>\n",
              "      <td>4909.000000</td>\n",
              "      <td>5110.000000</td>\n",
              "    </tr>\n",
              "    <tr>\n",
              "      <th>mean</th>\n",
              "      <td>36517.829354</td>\n",
              "      <td>43.226614</td>\n",
              "      <td>0.097456</td>\n",
              "      <td>0.054012</td>\n",
              "      <td>106.147677</td>\n",
              "      <td>28.893237</td>\n",
              "      <td>0.048728</td>\n",
              "    </tr>\n",
              "    <tr>\n",
              "      <th>std</th>\n",
              "      <td>21161.721625</td>\n",
              "      <td>22.612647</td>\n",
              "      <td>0.296607</td>\n",
              "      <td>0.226063</td>\n",
              "      <td>45.283560</td>\n",
              "      <td>7.854067</td>\n",
              "      <td>0.215320</td>\n",
              "    </tr>\n",
              "    <tr>\n",
              "      <th>min</th>\n",
              "      <td>67.000000</td>\n",
              "      <td>0.080000</td>\n",
              "      <td>0.000000</td>\n",
              "      <td>0.000000</td>\n",
              "      <td>55.120000</td>\n",
              "      <td>10.300000</td>\n",
              "      <td>0.000000</td>\n",
              "    </tr>\n",
              "    <tr>\n",
              "      <th>25%</th>\n",
              "      <td>17741.250000</td>\n",
              "      <td>25.000000</td>\n",
              "      <td>0.000000</td>\n",
              "      <td>0.000000</td>\n",
              "      <td>77.245000</td>\n",
              "      <td>23.500000</td>\n",
              "      <td>0.000000</td>\n",
              "    </tr>\n",
              "    <tr>\n",
              "      <th>50%</th>\n",
              "      <td>36932.000000</td>\n",
              "      <td>45.000000</td>\n",
              "      <td>0.000000</td>\n",
              "      <td>0.000000</td>\n",
              "      <td>91.885000</td>\n",
              "      <td>28.100000</td>\n",
              "      <td>0.000000</td>\n",
              "    </tr>\n",
              "    <tr>\n",
              "      <th>75%</th>\n",
              "      <td>54682.000000</td>\n",
              "      <td>61.000000</td>\n",
              "      <td>0.000000</td>\n",
              "      <td>0.000000</td>\n",
              "      <td>114.090000</td>\n",
              "      <td>33.100000</td>\n",
              "      <td>0.000000</td>\n",
              "    </tr>\n",
              "    <tr>\n",
              "      <th>max</th>\n",
              "      <td>72940.000000</td>\n",
              "      <td>82.000000</td>\n",
              "      <td>1.000000</td>\n",
              "      <td>1.000000</td>\n",
              "      <td>271.740000</td>\n",
              "      <td>97.600000</td>\n",
              "      <td>1.000000</td>\n",
              "    </tr>\n",
              "  </tbody>\n",
              "</table>\n",
              "</div>\n",
              "    <div class=\"colab-df-buttons\">\n",
              "\n",
              "  <div class=\"colab-df-container\">\n",
              "    <button class=\"colab-df-convert\" onclick=\"convertToInteractive('df-a13dd3a9-9e40-4f43-8a83-675e5bc7afb4')\"\n",
              "            title=\"Convert this dataframe to an interactive table.\"\n",
              "            style=\"display:none;\">\n",
              "\n",
              "  <svg xmlns=\"http://www.w3.org/2000/svg\" height=\"24px\" viewBox=\"0 -960 960 960\">\n",
              "    <path d=\"M120-120v-720h720v720H120Zm60-500h600v-160H180v160Zm220 220h160v-160H400v160Zm0 220h160v-160H400v160ZM180-400h160v-160H180v160Zm440 0h160v-160H620v160ZM180-180h160v-160H180v160Zm440 0h160v-160H620v160Z\"/>\n",
              "  </svg>\n",
              "    </button>\n",
              "\n",
              "  <style>\n",
              "    .colab-df-container {\n",
              "      display:flex;\n",
              "      gap: 12px;\n",
              "    }\n",
              "\n",
              "    .colab-df-convert {\n",
              "      background-color: #E8F0FE;\n",
              "      border: none;\n",
              "      border-radius: 50%;\n",
              "      cursor: pointer;\n",
              "      display: none;\n",
              "      fill: #1967D2;\n",
              "      height: 32px;\n",
              "      padding: 0 0 0 0;\n",
              "      width: 32px;\n",
              "    }\n",
              "\n",
              "    .colab-df-convert:hover {\n",
              "      background-color: #E2EBFA;\n",
              "      box-shadow: 0px 1px 2px rgba(60, 64, 67, 0.3), 0px 1px 3px 1px rgba(60, 64, 67, 0.15);\n",
              "      fill: #174EA6;\n",
              "    }\n",
              "\n",
              "    .colab-df-buttons div {\n",
              "      margin-bottom: 4px;\n",
              "    }\n",
              "\n",
              "    [theme=dark] .colab-df-convert {\n",
              "      background-color: #3B4455;\n",
              "      fill: #D2E3FC;\n",
              "    }\n",
              "\n",
              "    [theme=dark] .colab-df-convert:hover {\n",
              "      background-color: #434B5C;\n",
              "      box-shadow: 0px 1px 3px 1px rgba(0, 0, 0, 0.15);\n",
              "      filter: drop-shadow(0px 1px 2px rgba(0, 0, 0, 0.3));\n",
              "      fill: #FFFFFF;\n",
              "    }\n",
              "  </style>\n",
              "\n",
              "    <script>\n",
              "      const buttonEl =\n",
              "        document.querySelector('#df-a13dd3a9-9e40-4f43-8a83-675e5bc7afb4 button.colab-df-convert');\n",
              "      buttonEl.style.display =\n",
              "        google.colab.kernel.accessAllowed ? 'block' : 'none';\n",
              "\n",
              "      async function convertToInteractive(key) {\n",
              "        const element = document.querySelector('#df-a13dd3a9-9e40-4f43-8a83-675e5bc7afb4');\n",
              "        const dataTable =\n",
              "          await google.colab.kernel.invokeFunction('convertToInteractive',\n",
              "                                                    [key], {});\n",
              "        if (!dataTable) return;\n",
              "\n",
              "        const docLinkHtml = 'Like what you see? Visit the ' +\n",
              "          '<a target=\"_blank\" href=https://colab.research.google.com/notebooks/data_table.ipynb>data table notebook</a>'\n",
              "          + ' to learn more about interactive tables.';\n",
              "        element.innerHTML = '';\n",
              "        dataTable['output_type'] = 'display_data';\n",
              "        await google.colab.output.renderOutput(dataTable, element);\n",
              "        const docLink = document.createElement('div');\n",
              "        docLink.innerHTML = docLinkHtml;\n",
              "        element.appendChild(docLink);\n",
              "      }\n",
              "    </script>\n",
              "  </div>\n",
              "\n",
              "\n",
              "    <div id=\"df-01c0726c-7651-49c4-a46b-37e2ee50d242\">\n",
              "      <button class=\"colab-df-quickchart\" onclick=\"quickchart('df-01c0726c-7651-49c4-a46b-37e2ee50d242')\"\n",
              "                title=\"Suggest charts\"\n",
              "                style=\"display:none;\">\n",
              "\n",
              "<svg xmlns=\"http://www.w3.org/2000/svg\" height=\"24px\"viewBox=\"0 0 24 24\"\n",
              "     width=\"24px\">\n",
              "    <g>\n",
              "        <path d=\"M19 3H5c-1.1 0-2 .9-2 2v14c0 1.1.9 2 2 2h14c1.1 0 2-.9 2-2V5c0-1.1-.9-2-2-2zM9 17H7v-7h2v7zm4 0h-2V7h2v10zm4 0h-2v-4h2v4z\"/>\n",
              "    </g>\n",
              "</svg>\n",
              "      </button>\n",
              "\n",
              "<style>\n",
              "  .colab-df-quickchart {\n",
              "      --bg-color: #E8F0FE;\n",
              "      --fill-color: #1967D2;\n",
              "      --hover-bg-color: #E2EBFA;\n",
              "      --hover-fill-color: #174EA6;\n",
              "      --disabled-fill-color: #AAA;\n",
              "      --disabled-bg-color: #DDD;\n",
              "  }\n",
              "\n",
              "  [theme=dark] .colab-df-quickchart {\n",
              "      --bg-color: #3B4455;\n",
              "      --fill-color: #D2E3FC;\n",
              "      --hover-bg-color: #434B5C;\n",
              "      --hover-fill-color: #FFFFFF;\n",
              "      --disabled-bg-color: #3B4455;\n",
              "      --disabled-fill-color: #666;\n",
              "  }\n",
              "\n",
              "  .colab-df-quickchart {\n",
              "    background-color: var(--bg-color);\n",
              "    border: none;\n",
              "    border-radius: 50%;\n",
              "    cursor: pointer;\n",
              "    display: none;\n",
              "    fill: var(--fill-color);\n",
              "    height: 32px;\n",
              "    padding: 0;\n",
              "    width: 32px;\n",
              "  }\n",
              "\n",
              "  .colab-df-quickchart:hover {\n",
              "    background-color: var(--hover-bg-color);\n",
              "    box-shadow: 0 1px 2px rgba(60, 64, 67, 0.3), 0 1px 3px 1px rgba(60, 64, 67, 0.15);\n",
              "    fill: var(--button-hover-fill-color);\n",
              "  }\n",
              "\n",
              "  .colab-df-quickchart-complete:disabled,\n",
              "  .colab-df-quickchart-complete:disabled:hover {\n",
              "    background-color: var(--disabled-bg-color);\n",
              "    fill: var(--disabled-fill-color);\n",
              "    box-shadow: none;\n",
              "  }\n",
              "\n",
              "  .colab-df-spinner {\n",
              "    border: 2px solid var(--fill-color);\n",
              "    border-color: transparent;\n",
              "    border-bottom-color: var(--fill-color);\n",
              "    animation:\n",
              "      spin 1s steps(1) infinite;\n",
              "  }\n",
              "\n",
              "  @keyframes spin {\n",
              "    0% {\n",
              "      border-color: transparent;\n",
              "      border-bottom-color: var(--fill-color);\n",
              "      border-left-color: var(--fill-color);\n",
              "    }\n",
              "    20% {\n",
              "      border-color: transparent;\n",
              "      border-left-color: var(--fill-color);\n",
              "      border-top-color: var(--fill-color);\n",
              "    }\n",
              "    30% {\n",
              "      border-color: transparent;\n",
              "      border-left-color: var(--fill-color);\n",
              "      border-top-color: var(--fill-color);\n",
              "      border-right-color: var(--fill-color);\n",
              "    }\n",
              "    40% {\n",
              "      border-color: transparent;\n",
              "      border-right-color: var(--fill-color);\n",
              "      border-top-color: var(--fill-color);\n",
              "    }\n",
              "    60% {\n",
              "      border-color: transparent;\n",
              "      border-right-color: var(--fill-color);\n",
              "    }\n",
              "    80% {\n",
              "      border-color: transparent;\n",
              "      border-right-color: var(--fill-color);\n",
              "      border-bottom-color: var(--fill-color);\n",
              "    }\n",
              "    90% {\n",
              "      border-color: transparent;\n",
              "      border-bottom-color: var(--fill-color);\n",
              "    }\n",
              "  }\n",
              "</style>\n",
              "\n",
              "      <script>\n",
              "        async function quickchart(key) {\n",
              "          const quickchartButtonEl =\n",
              "            document.querySelector('#' + key + ' button');\n",
              "          quickchartButtonEl.disabled = true;  // To prevent multiple clicks.\n",
              "          quickchartButtonEl.classList.add('colab-df-spinner');\n",
              "          try {\n",
              "            const charts = await google.colab.kernel.invokeFunction(\n",
              "                'suggestCharts', [key], {});\n",
              "          } catch (error) {\n",
              "            console.error('Error during call to suggestCharts:', error);\n",
              "          }\n",
              "          quickchartButtonEl.classList.remove('colab-df-spinner');\n",
              "          quickchartButtonEl.classList.add('colab-df-quickchart-complete');\n",
              "        }\n",
              "        (() => {\n",
              "          let quickchartButtonEl =\n",
              "            document.querySelector('#df-01c0726c-7651-49c4-a46b-37e2ee50d242 button');\n",
              "          quickchartButtonEl.style.display =\n",
              "            google.colab.kernel.accessAllowed ? 'block' : 'none';\n",
              "        })();\n",
              "      </script>\n",
              "    </div>\n",
              "\n",
              "    </div>\n",
              "  </div>\n"
            ],
            "application/vnd.google.colaboratory.intrinsic+json": {
              "type": "dataframe",
              "summary": "{\n  \"name\": \"df\",\n  \"rows\": 8,\n  \"fields\": [\n    {\n      \"column\": \"id\",\n      \"properties\": {\n        \"dtype\": \"number\",\n        \"std\": 24739.06835358706,\n        \"min\": 67.0,\n        \"max\": 72940.0,\n        \"num_unique_values\": 8,\n        \"samples\": [\n          36517.82935420744,\n          36932.0,\n          5110.0\n        ],\n        \"semantic_type\": \"\",\n        \"description\": \"\"\n      }\n    },\n    {\n      \"column\": \"age\",\n      \"properties\": {\n        \"dtype\": \"number\",\n        \"std\": 1792.744047061404,\n        \"min\": 0.08,\n        \"max\": 5110.0,\n        \"num_unique_values\": 8,\n        \"samples\": [\n          43.226614481409,\n          45.0,\n          5110.0\n        ],\n        \"semantic_type\": \"\",\n        \"description\": \"\"\n      }\n    },\n    {\n      \"column\": \"hypertension\",\n      \"properties\": {\n        \"dtype\": \"number\",\n        \"std\": 1806.5874475501562,\n        \"min\": 0.0,\n        \"max\": 5110.0,\n        \"num_unique_values\": 5,\n        \"samples\": [\n          0.0974559686888454,\n          1.0,\n          0.29660667423378534\n        ],\n        \"semantic_type\": \"\",\n        \"description\": \"\"\n      }\n    },\n    {\n      \"column\": \"heart_disease\",\n      \"properties\": {\n        \"dtype\": \"number\",\n        \"std\": 1806.593204812832,\n        \"min\": 0.0,\n        \"max\": 5110.0,\n        \"num_unique_values\": 5,\n        \"samples\": [\n          0.05401174168297456,\n          1.0,\n          0.22606298750336476\n        ],\n        \"semantic_type\": \"\",\n        \"description\": \"\"\n      }\n    },\n    {\n      \"column\": \"avg_glucose_level\",\n      \"properties\": {\n        \"dtype\": \"number\",\n        \"std\": 1769.6002138244987,\n        \"min\": 45.28356015058203,\n        \"max\": 5110.0,\n        \"num_unique_values\": 8,\n        \"samples\": [\n          106.1476771037182,\n          91.88499999999999,\n          5110.0\n        ],\n        \"semantic_type\": \"\",\n        \"description\": \"\"\n      }\n    },\n    {\n      \"column\": \"bmi\",\n      \"properties\": {\n        \"dtype\": \"number\",\n        \"std\": 1724.2356567020179,\n        \"min\": 7.854066729680158,\n        \"max\": 4909.0,\n        \"num_unique_values\": 8,\n        \"samples\": [\n          28.893236911794666,\n          28.1,\n          4909.0\n        ],\n        \"semantic_type\": \"\",\n        \"description\": \"\"\n      }\n    },\n    {\n      \"column\": \"stroke\",\n      \"properties\": {\n        \"dtype\": \"number\",\n        \"std\": 1806.5940143142543,\n        \"min\": 0.0,\n        \"max\": 5110.0,\n        \"num_unique_values\": 5,\n        \"samples\": [\n          0.0487279843444227,\n          1.0,\n          0.21531985698026107\n        ],\n        \"semantic_type\": \"\",\n        \"description\": \"\"\n      }\n    }\n  ]\n}"
            }
          },
          "metadata": {},
          "execution_count": 9
        }
      ],
      "source": [
        "df.describe()"
      ]
    },
    {
      "cell_type": "markdown",
      "metadata": {
        "id": "JEFkZCR92rP6"
      },
      "source": [
        "Describe is useful for looking at continuous data (i.e. int or float datatypes) - we can see it also has a look at data which is stored as 1's and 0's, as well as ID's (i.e. hypertension, heart_disease, and stroke and id columns)"
      ]
    },
    {
      "cell_type": "markdown",
      "metadata": {
        "id": "kZ0zF_WVV4u8"
      },
      "source": [
        "**Below, can you return a summary of the columns `age,` `avg_glucose_level,` and `bmi` only**. Try to do this without looking at the cell below."
      ]
    },
    {
      "cell_type": "code",
      "execution_count": 9,
      "metadata": {
        "id": "_8M1fA4BEtm2"
      },
      "outputs": [],
      "source": []
    },
    {
      "cell_type": "code",
      "execution_count": 10,
      "metadata": {
        "colab": {
          "base_uri": "https://localhost:8080/",
          "height": 300
        },
        "id": "iBGWPnYKV4u8",
        "outputId": "9224662d-1b0b-490b-95d1-2fa2403d5a31"
      },
      "outputs": [
        {
          "output_type": "execute_result",
          "data": {
            "text/plain": [
              "               age  avg_glucose_level          bmi\n",
              "count  5110.000000        5110.000000  4909.000000\n",
              "mean     43.226614         106.147677    28.893237\n",
              "std      22.612647          45.283560     7.854067\n",
              "min       0.080000          55.120000    10.300000\n",
              "25%      25.000000          77.245000    23.500000\n",
              "50%      45.000000          91.885000    28.100000\n",
              "75%      61.000000         114.090000    33.100000\n",
              "max      82.000000         271.740000    97.600000"
            ],
            "text/html": [
              "\n",
              "  <div id=\"df-5e326202-2d2d-41dc-b356-d0ae3873e330\" class=\"colab-df-container\">\n",
              "    <div>\n",
              "<style scoped>\n",
              "    .dataframe tbody tr th:only-of-type {\n",
              "        vertical-align: middle;\n",
              "    }\n",
              "\n",
              "    .dataframe tbody tr th {\n",
              "        vertical-align: top;\n",
              "    }\n",
              "\n",
              "    .dataframe thead th {\n",
              "        text-align: right;\n",
              "    }\n",
              "</style>\n",
              "<table border=\"1\" class=\"dataframe\">\n",
              "  <thead>\n",
              "    <tr style=\"text-align: right;\">\n",
              "      <th></th>\n",
              "      <th>age</th>\n",
              "      <th>avg_glucose_level</th>\n",
              "      <th>bmi</th>\n",
              "    </tr>\n",
              "  </thead>\n",
              "  <tbody>\n",
              "    <tr>\n",
              "      <th>count</th>\n",
              "      <td>5110.000000</td>\n",
              "      <td>5110.000000</td>\n",
              "      <td>4909.000000</td>\n",
              "    </tr>\n",
              "    <tr>\n",
              "      <th>mean</th>\n",
              "      <td>43.226614</td>\n",
              "      <td>106.147677</td>\n",
              "      <td>28.893237</td>\n",
              "    </tr>\n",
              "    <tr>\n",
              "      <th>std</th>\n",
              "      <td>22.612647</td>\n",
              "      <td>45.283560</td>\n",
              "      <td>7.854067</td>\n",
              "    </tr>\n",
              "    <tr>\n",
              "      <th>min</th>\n",
              "      <td>0.080000</td>\n",
              "      <td>55.120000</td>\n",
              "      <td>10.300000</td>\n",
              "    </tr>\n",
              "    <tr>\n",
              "      <th>25%</th>\n",
              "      <td>25.000000</td>\n",
              "      <td>77.245000</td>\n",
              "      <td>23.500000</td>\n",
              "    </tr>\n",
              "    <tr>\n",
              "      <th>50%</th>\n",
              "      <td>45.000000</td>\n",
              "      <td>91.885000</td>\n",
              "      <td>28.100000</td>\n",
              "    </tr>\n",
              "    <tr>\n",
              "      <th>75%</th>\n",
              "      <td>61.000000</td>\n",
              "      <td>114.090000</td>\n",
              "      <td>33.100000</td>\n",
              "    </tr>\n",
              "    <tr>\n",
              "      <th>max</th>\n",
              "      <td>82.000000</td>\n",
              "      <td>271.740000</td>\n",
              "      <td>97.600000</td>\n",
              "    </tr>\n",
              "  </tbody>\n",
              "</table>\n",
              "</div>\n",
              "    <div class=\"colab-df-buttons\">\n",
              "\n",
              "  <div class=\"colab-df-container\">\n",
              "    <button class=\"colab-df-convert\" onclick=\"convertToInteractive('df-5e326202-2d2d-41dc-b356-d0ae3873e330')\"\n",
              "            title=\"Convert this dataframe to an interactive table.\"\n",
              "            style=\"display:none;\">\n",
              "\n",
              "  <svg xmlns=\"http://www.w3.org/2000/svg\" height=\"24px\" viewBox=\"0 -960 960 960\">\n",
              "    <path d=\"M120-120v-720h720v720H120Zm60-500h600v-160H180v160Zm220 220h160v-160H400v160Zm0 220h160v-160H400v160ZM180-400h160v-160H180v160Zm440 0h160v-160H620v160ZM180-180h160v-160H180v160Zm440 0h160v-160H620v160Z\"/>\n",
              "  </svg>\n",
              "    </button>\n",
              "\n",
              "  <style>\n",
              "    .colab-df-container {\n",
              "      display:flex;\n",
              "      gap: 12px;\n",
              "    }\n",
              "\n",
              "    .colab-df-convert {\n",
              "      background-color: #E8F0FE;\n",
              "      border: none;\n",
              "      border-radius: 50%;\n",
              "      cursor: pointer;\n",
              "      display: none;\n",
              "      fill: #1967D2;\n",
              "      height: 32px;\n",
              "      padding: 0 0 0 0;\n",
              "      width: 32px;\n",
              "    }\n",
              "\n",
              "    .colab-df-convert:hover {\n",
              "      background-color: #E2EBFA;\n",
              "      box-shadow: 0px 1px 2px rgba(60, 64, 67, 0.3), 0px 1px 3px 1px rgba(60, 64, 67, 0.15);\n",
              "      fill: #174EA6;\n",
              "    }\n",
              "\n",
              "    .colab-df-buttons div {\n",
              "      margin-bottom: 4px;\n",
              "    }\n",
              "\n",
              "    [theme=dark] .colab-df-convert {\n",
              "      background-color: #3B4455;\n",
              "      fill: #D2E3FC;\n",
              "    }\n",
              "\n",
              "    [theme=dark] .colab-df-convert:hover {\n",
              "      background-color: #434B5C;\n",
              "      box-shadow: 0px 1px 3px 1px rgba(0, 0, 0, 0.15);\n",
              "      filter: drop-shadow(0px 1px 2px rgba(0, 0, 0, 0.3));\n",
              "      fill: #FFFFFF;\n",
              "    }\n",
              "  </style>\n",
              "\n",
              "    <script>\n",
              "      const buttonEl =\n",
              "        document.querySelector('#df-5e326202-2d2d-41dc-b356-d0ae3873e330 button.colab-df-convert');\n",
              "      buttonEl.style.display =\n",
              "        google.colab.kernel.accessAllowed ? 'block' : 'none';\n",
              "\n",
              "      async function convertToInteractive(key) {\n",
              "        const element = document.querySelector('#df-5e326202-2d2d-41dc-b356-d0ae3873e330');\n",
              "        const dataTable =\n",
              "          await google.colab.kernel.invokeFunction('convertToInteractive',\n",
              "                                                    [key], {});\n",
              "        if (!dataTable) return;\n",
              "\n",
              "        const docLinkHtml = 'Like what you see? Visit the ' +\n",
              "          '<a target=\"_blank\" href=https://colab.research.google.com/notebooks/data_table.ipynb>data table notebook</a>'\n",
              "          + ' to learn more about interactive tables.';\n",
              "        element.innerHTML = '';\n",
              "        dataTable['output_type'] = 'display_data';\n",
              "        await google.colab.output.renderOutput(dataTable, element);\n",
              "        const docLink = document.createElement('div');\n",
              "        docLink.innerHTML = docLinkHtml;\n",
              "        element.appendChild(docLink);\n",
              "      }\n",
              "    </script>\n",
              "  </div>\n",
              "\n",
              "\n",
              "    <div id=\"df-1da11401-9097-424e-ae8b-be4a0d7a4af2\">\n",
              "      <button class=\"colab-df-quickchart\" onclick=\"quickchart('df-1da11401-9097-424e-ae8b-be4a0d7a4af2')\"\n",
              "                title=\"Suggest charts\"\n",
              "                style=\"display:none;\">\n",
              "\n",
              "<svg xmlns=\"http://www.w3.org/2000/svg\" height=\"24px\"viewBox=\"0 0 24 24\"\n",
              "     width=\"24px\">\n",
              "    <g>\n",
              "        <path d=\"M19 3H5c-1.1 0-2 .9-2 2v14c0 1.1.9 2 2 2h14c1.1 0 2-.9 2-2V5c0-1.1-.9-2-2-2zM9 17H7v-7h2v7zm4 0h-2V7h2v10zm4 0h-2v-4h2v4z\"/>\n",
              "    </g>\n",
              "</svg>\n",
              "      </button>\n",
              "\n",
              "<style>\n",
              "  .colab-df-quickchart {\n",
              "      --bg-color: #E8F0FE;\n",
              "      --fill-color: #1967D2;\n",
              "      --hover-bg-color: #E2EBFA;\n",
              "      --hover-fill-color: #174EA6;\n",
              "      --disabled-fill-color: #AAA;\n",
              "      --disabled-bg-color: #DDD;\n",
              "  }\n",
              "\n",
              "  [theme=dark] .colab-df-quickchart {\n",
              "      --bg-color: #3B4455;\n",
              "      --fill-color: #D2E3FC;\n",
              "      --hover-bg-color: #434B5C;\n",
              "      --hover-fill-color: #FFFFFF;\n",
              "      --disabled-bg-color: #3B4455;\n",
              "      --disabled-fill-color: #666;\n",
              "  }\n",
              "\n",
              "  .colab-df-quickchart {\n",
              "    background-color: var(--bg-color);\n",
              "    border: none;\n",
              "    border-radius: 50%;\n",
              "    cursor: pointer;\n",
              "    display: none;\n",
              "    fill: var(--fill-color);\n",
              "    height: 32px;\n",
              "    padding: 0;\n",
              "    width: 32px;\n",
              "  }\n",
              "\n",
              "  .colab-df-quickchart:hover {\n",
              "    background-color: var(--hover-bg-color);\n",
              "    box-shadow: 0 1px 2px rgba(60, 64, 67, 0.3), 0 1px 3px 1px rgba(60, 64, 67, 0.15);\n",
              "    fill: var(--button-hover-fill-color);\n",
              "  }\n",
              "\n",
              "  .colab-df-quickchart-complete:disabled,\n",
              "  .colab-df-quickchart-complete:disabled:hover {\n",
              "    background-color: var(--disabled-bg-color);\n",
              "    fill: var(--disabled-fill-color);\n",
              "    box-shadow: none;\n",
              "  }\n",
              "\n",
              "  .colab-df-spinner {\n",
              "    border: 2px solid var(--fill-color);\n",
              "    border-color: transparent;\n",
              "    border-bottom-color: var(--fill-color);\n",
              "    animation:\n",
              "      spin 1s steps(1) infinite;\n",
              "  }\n",
              "\n",
              "  @keyframes spin {\n",
              "    0% {\n",
              "      border-color: transparent;\n",
              "      border-bottom-color: var(--fill-color);\n",
              "      border-left-color: var(--fill-color);\n",
              "    }\n",
              "    20% {\n",
              "      border-color: transparent;\n",
              "      border-left-color: var(--fill-color);\n",
              "      border-top-color: var(--fill-color);\n",
              "    }\n",
              "    30% {\n",
              "      border-color: transparent;\n",
              "      border-left-color: var(--fill-color);\n",
              "      border-top-color: var(--fill-color);\n",
              "      border-right-color: var(--fill-color);\n",
              "    }\n",
              "    40% {\n",
              "      border-color: transparent;\n",
              "      border-right-color: var(--fill-color);\n",
              "      border-top-color: var(--fill-color);\n",
              "    }\n",
              "    60% {\n",
              "      border-color: transparent;\n",
              "      border-right-color: var(--fill-color);\n",
              "    }\n",
              "    80% {\n",
              "      border-color: transparent;\n",
              "      border-right-color: var(--fill-color);\n",
              "      border-bottom-color: var(--fill-color);\n",
              "    }\n",
              "    90% {\n",
              "      border-color: transparent;\n",
              "      border-bottom-color: var(--fill-color);\n",
              "    }\n",
              "  }\n",
              "</style>\n",
              "\n",
              "      <script>\n",
              "        async function quickchart(key) {\n",
              "          const quickchartButtonEl =\n",
              "            document.querySelector('#' + key + ' button');\n",
              "          quickchartButtonEl.disabled = true;  // To prevent multiple clicks.\n",
              "          quickchartButtonEl.classList.add('colab-df-spinner');\n",
              "          try {\n",
              "            const charts = await google.colab.kernel.invokeFunction(\n",
              "                'suggestCharts', [key], {});\n",
              "          } catch (error) {\n",
              "            console.error('Error during call to suggestCharts:', error);\n",
              "          }\n",
              "          quickchartButtonEl.classList.remove('colab-df-spinner');\n",
              "          quickchartButtonEl.classList.add('colab-df-quickchart-complete');\n",
              "        }\n",
              "        (() => {\n",
              "          let quickchartButtonEl =\n",
              "            document.querySelector('#df-1da11401-9097-424e-ae8b-be4a0d7a4af2 button');\n",
              "          quickchartButtonEl.style.display =\n",
              "            google.colab.kernel.accessAllowed ? 'block' : 'none';\n",
              "        })();\n",
              "      </script>\n",
              "    </div>\n",
              "\n",
              "    </div>\n",
              "  </div>\n"
            ],
            "application/vnd.google.colaboratory.intrinsic+json": {
              "type": "dataframe",
              "summary": "{\n  \"name\": \"df[[\\\"age\\\", \\\"avg_glucose_level\\\", \\\"bmi\\\"]]\",\n  \"rows\": 8,\n  \"fields\": [\n    {\n      \"column\": \"age\",\n      \"properties\": {\n        \"dtype\": \"number\",\n        \"std\": 1792.744047061404,\n        \"min\": 0.08,\n        \"max\": 5110.0,\n        \"num_unique_values\": 8,\n        \"samples\": [\n          43.226614481409,\n          45.0,\n          5110.0\n        ],\n        \"semantic_type\": \"\",\n        \"description\": \"\"\n      }\n    },\n    {\n      \"column\": \"avg_glucose_level\",\n      \"properties\": {\n        \"dtype\": \"number\",\n        \"std\": 1769.6002138244987,\n        \"min\": 45.28356015058203,\n        \"max\": 5110.0,\n        \"num_unique_values\": 8,\n        \"samples\": [\n          106.1476771037182,\n          91.88499999999999,\n          5110.0\n        ],\n        \"semantic_type\": \"\",\n        \"description\": \"\"\n      }\n    },\n    {\n      \"column\": \"bmi\",\n      \"properties\": {\n        \"dtype\": \"number\",\n        \"std\": 1724.2356567020179,\n        \"min\": 7.854066729680158,\n        \"max\": 4909.0,\n        \"num_unique_values\": 8,\n        \"samples\": [\n          28.893236911794666,\n          28.1,\n          4909.0\n        ],\n        \"semantic_type\": \"\",\n        \"description\": \"\"\n      }\n    }\n  ]\n}"
            }
          },
          "metadata": {},
          "execution_count": 10
        }
      ],
      "source": [
        "\n",
        "df[[\"age\", \"avg_glucose_level\", \"bmi\"]].describe()"
      ]
    },
    {
      "cell_type": "markdown",
      "metadata": {
        "id": "w9s9TMv-V4u8"
      },
      "source": [
        "By passing a list of column names to the DataFrame, we can select certain parts of the DataFrame we want to understand the summary of."
      ]
    },
    {
      "cell_type": "markdown",
      "metadata": {
        "id": "O51tVM56Etm2"
      },
      "source": [
        "### Graphing\n",
        "\n",
        "We can explore the data further by:\n",
        "\n",
        "- Plotting the distribution of some continuous variables\n",
        "- Number of cases of stroke vs non-stroke to check whether the dataset is imbalanced\n",
        "- Plotting discrete variables using a bar chart"
      ]
    },
    {
      "cell_type": "markdown",
      "metadata": {
        "id": "_T4E3zPYEtm3"
      },
      "source": [
        "#### Continuous Variables"
      ]
    },
    {
      "cell_type": "code",
      "execution_count": 11,
      "metadata": {
        "colab": {
          "base_uri": "https://localhost:8080/",
          "height": 465
        },
        "id": "rKvPep66Etm3",
        "outputId": "787d534e-8496-418f-9795-0c70700ddb72"
      },
      "outputs": [
        {
          "output_type": "display_data",
          "data": {
            "text/plain": [
              "<Figure size 1500x500 with 3 Axes>"
            ],
            "image/png": "[encoded data removed]"
          },
          "metadata": {}
        }
      ],
      "source": [
        "continuous_features = [\"age\", \"avg_glucose_level\", \"bmi\"]\n",
        "\n",
        "fig, ax = plt.subplots(nrows=1, ncols=3, figsize=(15, 5))\n",
        "\n",
        "for idx, feature in enumerate(continuous_features):\n",
        "    sns.histplot(data=df, x=feature, ax=ax[idx], kde=True)\n",
        "plt.show()"
      ]
    },
    {
      "cell_type": "markdown",
      "metadata": {
        "id": "H7_-lbRdV4u8"
      },
      "source": [
        "To show the distribution of a variable, we can use a histogram. In this case, we want to create a chart that displays three histograms.\n",
        "\n",
        "We define the variables we wish to plot first. Using the `subplots` method, we define the chart dimensions of 1 row and three columns and set the figure size in inches, in this case, 15 inches by 5 inches. The `subplot` method returns 3 axis objects specified by each chart and a figure representing the whole chart.\n",
        "\n",
        "We loop around the variables we wish to plot. For each variable, we invoke the `histplot` method of the seaborn package. Specifying the DataFrame, the variable to be plotted across the x-axis, we specify the axis object for the chart within the plot. Lastly, we set the 'Kernel Density Estimation to `True` Without getting too technical; this smoothes out the curve."
      ]
    },
    {
      "cell_type": "markdown",
      "metadata": {
        "id": "pHSvtjBwV4u8"
      },
      "source": [
        "Now let's show the proportion of patients who have had a stroke to those who haven't. Let's show a pie chart to illustrate this.\n",
        "\n",
        "First, we want to obtain the frequencies of those who've had a stroke and those who haven't. We can do this for a single variable using the `value_counts()` method."
      ]
    },
    {
      "cell_type": "markdown",
      "metadata": {
        "id": "ZmklANdyV4u8"
      },
      "source": [
        "In the cell below, use the `value_counts` method to find the frequency of those who have had strokes and those who haven't."
      ]
    },
    {
      "cell_type": "code",
      "execution_count": null,
      "metadata": {
        "id": "KrB2W5tZV4u9"
      },
      "outputs": [],
      "source": []
    },
    {
      "cell_type": "markdown",
      "metadata": {
        "id": "hgwUGTwpV4u9"
      },
      "source": [
        " By passing `normalize=True` as an argument, we can normalise the dataset, changing the data values between 0 and 1. We can then see the relative differences between the data frequencies, which is useful for comparison."
      ]
    },
    {
      "cell_type": "markdown",
      "metadata": {
        "id": "LpFui7PbV4u9"
      },
      "source": [
        "Modify the cell above to see the difference between passing the keyword argument `normalize=True` and not doing so."
      ]
    },
    {
      "cell_type": "markdown",
      "metadata": {
        "id": "Idi3ksuqV4u9"
      },
      "source": [
        "We can use the `plot` method from pandas to plot this data. Note that this method uses matplotlib, a data visualisation library under the hood, and we can use methods from that library, like adding labels."
      ]
    },
    {
      "cell_type": "code",
      "execution_count": 12,
      "metadata": {
        "colab": {
          "base_uri": "https://localhost:8080/",
          "height": 443
        },
        "id": "hoeratZpEtm3",
        "outputId": "aa57f9d7-48e9-4a46-93b0-4b1ae1d40014"
      },
      "outputs": [
        {
          "output_type": "execute_result",
          "data": {
            "text/plain": [
              "Text(0, 0.5, 'Percentage')"
            ]
          },
          "metadata": {},
          "execution_count": 12
        },
        {
          "output_type": "display_data",
          "data": {
            "text/plain": [
              "<Figure size 640x480 with 1 Axes>"
            ],
            "image/png": "[encoded data removed]"
          },
          "metadata": {}
        }
      ],
      "source": [
        "df[\"stroke\"].value_counts(normalize=True).plot(kind=\"pie\", autopct=\"%.2f\")\n",
        "plt.xlabel(\"Stroke\")\n",
        "plt.ylabel(\"Percentage\")"
      ]
    },
    {
      "cell_type": "markdown",
      "metadata": {
        "id": "ZhtHZY3zV4u9"
      },
      "source": [
        "Above, we've specified the chart as a piechart and then specified we only want to show the percentage to 2 decimal places `%.2f` means to specify to 2 decimal places."
      ]
    },
    {
      "cell_type": "markdown",
      "metadata": {
        "id": "A8HZvDO1Etm3"
      },
      "source": [
        "We can see that most of our dataset has not had a stroke - infact less than 5% have.\n",
        "\n",
        "We will explore the implications of this later..."
      ]
    },
    {
      "cell_type": "markdown",
      "metadata": {
        "id": "zBURBg9dEtm3"
      },
      "source": [
        "#### Discrete Variables"
      ]
    },
    {
      "cell_type": "markdown",
      "metadata": {
        "id": "kDXtmJKvV4u9"
      },
      "source": [
        "We can also use histograms to plot the distribution of discrete variables. A discrete variable is one where the values have specific labels like never smoked vs smoked."
      ]
    },
    {
      "cell_type": "code",
      "execution_count": 13,
      "metadata": {
        "colab": {
          "base_uri": "https://localhost:8080/",
          "height": 757
        },
        "id": "dLa12fuxEtm3",
        "outputId": "af76b330-5f04-418d-f4df-0b9c154e449f"
      },
      "outputs": [
        {
          "output_type": "display_data",
          "data": {
            "text/plain": [
              "<Figure size 800x800 with 4 Axes>"
            ],
            "image/png": "[encoded data removed]"
          },
          "metadata": {}
        }
      ],
      "source": [
        "discrete_features = [\"ever_married\", \"work_type\", \"residence_type\", \"smoking_status\"]\n",
        "\n",
        "fig, ax = plt.subplots(nrows=2, ncols=2, figsize=(8, 8))\n",
        "\n",
        "for idx, axis in enumerate(fig.axes):\n",
        "    sns.histplot(df[discrete_features[idx]], ax=axis)\n",
        "    axis.tick_params(labelrotation=30)\n",
        "\n",
        "\n",
        "plt.show()"
      ]
    },
    {
      "cell_type": "markdown",
      "metadata": {
        "id": "kcNvylkaV4vG"
      },
      "source": [
        "Similarly, we can create a subplot or plot with many charts like before. We specify 2 rows and 2 columns with a figure size of 8 inches by 8 inches.\n",
        "\n",
        "This time we're using the `fig,` which represents the whole figure and specifically the axes objects on `fig. axes`. We loop over these axes for each subplot. We then use the `histplot` function to plot the bar charts. We pass in the subset of the DataFrame for each discrete variable and specify the axes object for each one.\n",
        "\n",
        "Using the `tick_params` method on the `axis` object and passing in `labelrotation=30`, we can slightly rotate the labels 30 degrees."
      ]
    },
    {
      "cell_type": "markdown",
      "metadata": {
        "id": "iR15hPZzEtm4"
      },
      "source": [
        "## Part 3: Preparing our Data for Model Training\n",
        "Now we have a feel for our dataset, we can begin building a useful model to try and predict outcomes.\n",
        "\n",
        "### 3a. Data Pre-processing\n",
        "\n",
        "One common problem with real-world datasets is missing data or outliers. We can check the number of missing values with the `isna()` function.\n",
        "This will return a table that shows whether each cell is a `NaN` or not. A `NaN` value is a special floating-point value for values that are not available (i.e., missing data) or a mathematical operation that isn't possible to do if we're calculating something.\n",
        "\n",
        "We can find the total number of `NaN` values in each table column using the following cell.\n",
        "\n"
      ]
    },
    {
      "cell_type": "code",
      "execution_count": 14,
      "metadata": {
        "colab": {
          "base_uri": "https://localhost:8080/",
          "height": 460
        },
        "id": "7zgY0poBEtm4",
        "outputId": "d6322119-6c61-4536-d2c2-7939d9ad322c"
      },
      "outputs": [
        {
          "output_type": "execute_result",
          "data": {
            "text/plain": [
              "id                     0\n",
              "gender                 0\n",
              "age                    0\n",
              "hypertension           0\n",
              "heart_disease          0\n",
              "ever_married           0\n",
              "work_type              0\n",
              "residence_type         0\n",
              "avg_glucose_level      0\n",
              "bmi                  201\n",
              "smoking_status         0\n",
              "stroke                 0\n",
              "dtype: int64"
            ],
            "text/html": [
              "<div>\n",
              "<style scoped>\n",
              "    .dataframe tbody tr th:only-of-type {\n",
              "        vertical-align: middle;\n",
              "    }\n",
              "\n",
              "    .dataframe tbody tr th {\n",
              "        vertical-align: top;\n",
              "    }\n",
              "\n",
              "    .dataframe thead th {\n",
              "        text-align: right;\n",
              "    }\n",
              "</style>\n",
              "<table border=\"1\" class=\"dataframe\">\n",
              "  <thead>\n",
              "    <tr style=\"text-align: right;\">\n",
              "      <th></th>\n",
              "      <th>0</th>\n",
              "    </tr>\n",
              "  </thead>\n",
              "  <tbody>\n",
              "    <tr>\n",
              "      <th>id</th>\n",
              "      <td>0</td>\n",
              "    </tr>\n",
              "    <tr>\n",
              "      <th>gender</th>\n",
              "      <td>0</td>\n",
              "    </tr>\n",
              "    <tr>\n",
              "      <th>age</th>\n",
              "      <td>0</td>\n",
              "    </tr>\n",
              "    <tr>\n",
              "      <th>hypertension</th>\n",
              "      <td>0</td>\n",
              "    </tr>\n",
              "    <tr>\n",
              "      <th>heart_disease</th>\n",
              "      <td>0</td>\n",
              "    </tr>\n",
              "    <tr>\n",
              "      <th>ever_married</th>\n",
              "      <td>0</td>\n",
              "    </tr>\n",
              "    <tr>\n",
              "      <th>work_type</th>\n",
              "      <td>0</td>\n",
              "    </tr>\n",
              "    <tr>\n",
              "      <th>residence_type</th>\n",
              "      <td>0</td>\n",
              "    </tr>\n",
              "    <tr>\n",
              "      <th>avg_glucose_level</th>\n",
              "      <td>0</td>\n",
              "    </tr>\n",
              "    <tr>\n",
              "      <th>bmi</th>\n",
              "      <td>201</td>\n",
              "    </tr>\n",
              "    <tr>\n",
              "      <th>smoking_status</th>\n",
              "      <td>0</td>\n",
              "    </tr>\n",
              "    <tr>\n",
              "      <th>stroke</th>\n",
              "      <td>0</td>\n",
              "    </tr>\n",
              "  </tbody>\n",
              "</table>\n",
              "</div><br><label><b>dtype:</b> int64</label>"
            ]
          },
          "metadata": {},
          "execution_count": 14
        }
      ],
      "source": [
        "df.isna().sum()"
      ]
    },
    {
      "cell_type": "markdown",
      "metadata": {
        "id": "H6LQdGL5Etm4"
      },
      "source": [
        "We can see we are missing 201 BMI values: at this point, we have two options: to drop the missing data rows or to _impute_ their values. In this case, we will go for the latter!\n",
        "\n",
        "Imputing is where you estimate missing values based on the known values from other data points.\n",
        "\n",
        "More complex approaches to doing this can be done using the [`sklearn.imputer`](https://scikit-learn.org/stable/modules/impute.html) classes."
      ]
    },
    {
      "cell_type": "markdown",
      "metadata": {
        "id": "_jD1ApwRcPfa"
      },
      "source": [
        "**Calculate the mean of the BMI column and use it to fill in missing values**"
      ]
    },
    {
      "cell_type": "code",
      "execution_count": 15,
      "metadata": {
        "colab": {
          "base_uri": "https://localhost:8080/",
          "height": 460
        },
        "id": "r4COquogEtm4",
        "outputId": "2a7936b9-2172-4167-be82-926a69161213"
      },
      "outputs": [
        {
          "output_type": "execute_result",
          "data": {
            "text/plain": [
              "id                   0\n",
              "gender               0\n",
              "age                  0\n",
              "hypertension         0\n",
              "heart_disease        0\n",
              "ever_married         0\n",
              "work_type            0\n",
              "residence_type       0\n",
              "avg_glucose_level    0\n",
              "bmi                  0\n",
              "smoking_status       0\n",
              "stroke               0\n",
              "dtype: int64"
            ],
            "text/html": [
              "<div>\n",
              "<style scoped>\n",
              "    .dataframe tbody tr th:only-of-type {\n",
              "        vertical-align: middle;\n",
              "    }\n",
              "\n",
              "    .dataframe tbody tr th {\n",
              "        vertical-align: top;\n",
              "    }\n",
              "\n",
              "    .dataframe thead th {\n",
              "        text-align: right;\n",
              "    }\n",
              "</style>\n",
              "<table border=\"1\" class=\"dataframe\">\n",
              "  <thead>\n",
              "    <tr style=\"text-align: right;\">\n",
              "      <th></th>\n",
              "      <th>0</th>\n",
              "    </tr>\n",
              "  </thead>\n",
              "  <tbody>\n",
              "    <tr>\n",
              "      <th>id</th>\n",
              "      <td>0</td>\n",
              "    </tr>\n",
              "    <tr>\n",
              "      <th>gender</th>\n",
              "      <td>0</td>\n",
              "    </tr>\n",
              "    <tr>\n",
              "      <th>age</th>\n",
              "      <td>0</td>\n",
              "    </tr>\n",
              "    <tr>\n",
              "      <th>hypertension</th>\n",
              "      <td>0</td>\n",
              "    </tr>\n",
              "    <tr>\n",
              "      <th>heart_disease</th>\n",
              "      <td>0</td>\n",
              "    </tr>\n",
              "    <tr>\n",
              "      <th>ever_married</th>\n",
              "      <td>0</td>\n",
              "    </tr>\n",
              "    <tr>\n",
              "      <th>work_type</th>\n",
              "      <td>0</td>\n",
              "    </tr>\n",
              "    <tr>\n",
              "      <th>residence_type</th>\n",
              "      <td>0</td>\n",
              "    </tr>\n",
              "    <tr>\n",
              "      <th>avg_glucose_level</th>\n",
              "      <td>0</td>\n",
              "    </tr>\n",
              "    <tr>\n",
              "      <th>bmi</th>\n",
              "      <td>0</td>\n",
              "    </tr>\n",
              "    <tr>\n",
              "      <th>smoking_status</th>\n",
              "      <td>0</td>\n",
              "    </tr>\n",
              "    <tr>\n",
              "      <th>stroke</th>\n",
              "      <td>0</td>\n",
              "    </tr>\n",
              "  </tbody>\n",
              "</table>\n",
              "</div><br><label><b>dtype:</b> int64</label>"
            ]
          },
          "metadata": {},
          "execution_count": 15
        }
      ],
      "source": [
        "# First calculate the average\n",
        "mean_bmi = df[\"bmi\"].mean()\n",
        "\n",
        "# Now fill missing values with this mean\n",
        "df[\"bmi\"] = df['bmi'].fillna(mean_bmi)\n",
        "\n",
        "# Check that our commands have worked!\n",
        "df.isna().sum()"
      ]
    },
    {
      "cell_type": "code",
      "execution_count": 16,
      "metadata": {
        "id": "BIxkzTZJEtm4"
      },
      "outputs": [],
      "source": [
        "# We can get rid of 'ID' column, this isn't needed!\n",
        "# df = df.drop(columns=[\"id\"])\n",
        "\n",
        "# We can then develop our `X` and `y` sets\n",
        "X = df.drop(columns=[\"stroke\"])\n",
        "y = df[\"stroke\"]"
      ]
    },
    {
      "cell_type": "markdown",
      "metadata": {
        "id": "ksvU-XJqV4vG"
      },
      "source": [
        " Can you check in the cell below if we have the right shape of data - we should have 5110 rows, with 10 features in the X set - and 5110 rows where only a column of 1 or 0 in the y set."
      ]
    },
    {
      "cell_type": "code",
      "execution_count": 17,
      "metadata": {
        "colab": {
          "base_uri": "https://localhost:8080/"
        },
        "id": "gJQ460hcEtm4",
        "outputId": "b1c5bd6f-48e0-40b9-b829-2464025d7d99"
      },
      "outputs": [
        {
          "output_type": "stream",
          "name": "stdout",
          "text": [
            "\n",
            "\n"
          ]
        }
      ],
      "source": [
        "print()\n",
        "print()"
      ]
    },
    {
      "cell_type": "markdown",
      "metadata": {
        "id": "GUoYwXkMV4vG"
      },
      "source": [
        "Using the shape attribute, we can find out about the shape of the DataFrame columns. Using the `unique()` method, we can also return what unique values in the y set are."
      ]
    },
    {
      "cell_type": "code",
      "execution_count": 18,
      "metadata": {
        "colab": {
          "base_uri": "https://localhost:8080/"
        },
        "id": "tgMXFbkHV4vG",
        "outputId": "a2067a02-7045-441e-e9bb-faeecd856661"
      },
      "outputs": [
        {
          "output_type": "stream",
          "name": "stdout",
          "text": [
            "(5110, 11)\n",
            "(5110,)\n",
            "[1 0]\n"
          ]
        }
      ],
      "source": [
        "print(X.shape)\n",
        "print(y.shape)\n",
        "print(y.unique())"
      ]
    },
    {
      "cell_type": "code",
      "execution_count": null,
      "metadata": {
        "id": "h8mWDJYQV4vH"
      },
      "outputs": [],
      "source": []
    },
    {
      "cell_type": "markdown",
      "metadata": {
        "id": "LOk8tFNOEtm4"
      },
      "source": [
        "#### Train-Test Splits\n",
        "\n",
        "Using our input **features** we have stored in the variable `X` (gender, age, hypertension, heart disease, marriage, work type, residence type, glucose level, BMI, smoking status), we can try to predict the output class for each case (`y').\n",
        "\n",
        "However, to train and test our models, we need to split the data into `train` and `test` bins to ensure that the models we make haven't _'seen'_ the test data to ensure they're working as we want.\n",
        "\n",
        "![image.png](https://miro.medium.com/v2/resize:fit:640/format:webp/0*VH8IKfRP4mewrsTo.png)\n",
        "<sup>[image source](https://medium.com/@rinu.gour123/train-and-test-set-in-python-machine-learning-how-to-split-58029a0d657b)</sup>\n",
        "\n",
        "It's sort of like running an exam - it is pointless if everybody has already seen the questions beforehand!\n",
        "\n",
        "To do this, we import the function `train_test_split` from `sklearn`, and then split the data up as below - we set the test_size to be 20% of the overall dataset size:"
      ]
    },
    {
      "cell_type": "code",
      "execution_count": 19,
      "metadata": {
        "id": "7ibzjStfEtm4"
      },
      "outputs": [],
      "source": [
        "from sklearn.model_selection import train_test_split\n",
        "\n",
        "X_train, X_test, y_train, y_test = train_test_split(\n",
        "    X, y, test_size=0.2, random_state=2023\n",
        ")"
      ]
    },
    {
      "cell_type": "markdown",
      "metadata": {
        "id": "u_-FHzcnV4vH"
      },
      "source": [
        "You may notice we're passing a variable here called **\"random_state\"**. This means that if we were to run this multiple times with the same data we'd get the *exact same* random split. This means we can achieve randomness, but also be able to reproduce our results."
      ]
    },
    {
      "cell_type": "markdown",
      "metadata": {
        "id": "IS1zLcaEEtm5"
      },
      "source": [
        "### 3b. Data Encoding\n",
        "Many machine learning algorithms are sensitive to how **continuous data** (e.g. Age, BMI) and **categorical data** (e.g. Hypertension, Smoking status) are provided. Let's define what those categories are, and how we can handle them."
      ]
    },
    {
      "cell_type": "markdown",
      "metadata": {
        "id": "_C8TKJoWEtm5"
      },
      "source": [
        "### 1 - Continuous data\n",
        "\n",
        "For **continuous data**, it's important to consider **normalising** and **standardising** the data:\n",
        "\n",
        "#### Min-Max Scaling\n",
        "\n",
        "Min-Max scaling, also known as **normalisation**, is where the range of values is compressed to a set range: usually between 0 and 1 (neural networks, in particular, tend to expect their inputs to be between this range). However, this method is sensitive to outliers as the smallest and largest values are used for 0 and 1 in the new scale, respectively. Let's see what happens if we min-max scale average glucose values:\n",
        "\n",
        "<img src=\"data:image/png;base64,iVBORw0KGgoAAAANSUhEUgAAArcAAAEoCAIAAADNJ04rAAAMQGlDQ1BJQ0MgUHJvZmlsZQAASImVVwdYU8kWnluSkEAIELqU0JsgUgNICaEFkF4EGyEJEEqIgaBiL4sKrl0sYENXRRQ7IBYUUSwsig37YkFFWRcLduVNCui6r3zvfN/c+99/zvznzLlzywBAO8kVi3NRDQDyRIWSuNBAxpiUVAbpKUAAAdCAHtDj8grErJiYSABt8Px3e3cDekO76ijT+mf/fzVNvqCABwASA3E6v4CXB/EhAPBKnlhSCABRxltMLhTLMGxAWwIThHihDGcqcKUMpyvwPrlPQhwb4hYAVNS4XEkmAOqXIc8o4mVCDfU+iJ1FfKEIABoDYr+8vHw+xGkQ20IfMcQyfWb6DzqZf9NMH9LkcjOHsGIuclMJEhaIc7lT/89y/G/Ly5UOxrCGTS1LEhYnmzOs282c/AgZVoO4V5QeFQ2xFsQfhHy5P8QoJUsalqjwR414BWxYM6ALsTOfGxQBsRHEIaLcqEgln54hDOFADFcIOkVYyEmAWB/ihYKC4Hilz2ZJfpwyFlqXIWGzlPw5rkQeVxbrvjQnkaXUf50l4Cj1MfXirIRkiCkQWxYJk6IgVofYqSAnPkLpM6o4ix016CORxsnyt4Q4TiAKDVToY0UZkpA4pX9pXsHgfLHNWUJOlBIfKMxKCFPUB2vhceX5w7lglwUiVuKgjqBgTOTgXPiCoGDF3LFnAlFivFLng7gwME4xFqeIc2OU/ri5IDdUxptD7FZQFK8ciycVwgWp0MczxIUxCYo88eJsbniMIh98GYgEbBAEGEAKWzrIB9lA2N5b3wuvFD0hgAskIBMIgKOSGRyRLO8RwWM8KAZ/QiQABUPjAuW9AlAE+a9DrOLoCDLkvUXyETngCcR5IALkwmupfJRoKFoSeAwZ4T+ic2HjwXxzYZP1/3t+kP3OsCATqWSkgxEZtEFPYjAxiBhGDCHa4Ya4H+6DR8JjAGwuOBP3GpzHd3/CE0IH4SHhOqGLcGuicK7kpyxHgy6oH6KsRfqPtcCtoaY7Hoj7QnWojOvihsARd4NxWLg/jOwOWbYyb1lVGD9p/20GP9wNpR/ZmYyS9cgBZNufR6rbq7sPqchq/WN9FLmmD9WbPdTzc3z2D9Xnw3PEz57YQuwg1oqdws5jx7B6wMCasAasDTsuw0Or67F8dQ1Gi5PnkwN1hP+IN3hnZZUscK5x7nH+ougrFEyRvaMBO188VSLMzCpksOAXQcDgiHhOwxkuzi6uAMi+L4rX15tY+XcD0W37zs37AwDfpoGBgaPfufAmAPZ7wsf/yHfOlgk/HaoAnDvCk0qKFBwuOxDgW4IGnzQDYAIsgC2cjwvwAD4gAASDcBANEkAKmACzz4LrXAImg+lgDigBZWAZWA3Wg01gK9gJ9oADoB4cA6fAWXARXAbXwR24errBC9AH3oHPCIKQECpCRwwQU8QKcUBcECbihwQjkUgckoKkIZmICJEi05F5SBmyAlmPbEGqkf3IEeQUch7pQG4hD5Ae5DXyCcVQNVQbNUat0REoE2WhEWgCOh7NRCehxeh8dAm6Fq1Cd6N16Cn0Inod7UJfoP0YwFQxXcwMc8SYGBuLxlKxDEyCzcRKsXKsCqvFGuF9vop1Yb3YR5yI03EG7ghXcBieiPPwSfhMfDG+Ht+J1+Et+FX8Ad6HfyNQCUYEB4I3gUMYQ8gkTCaUEMoJ2wmHCWfgs9RNeEckEnWJNkRP+CymELOJ04iLiRuIe4kniR3ER8R+EolkQHIg+ZKiSVxSIamEtI60m9REukLqJn1QUVUxVXFRCVFJVRGpzFUpV9mlckLlispTlc9kDbIV2ZscTeaTp5KXkreRG8mXyN3kzxRNig3Fl5JAyabMoayl1FLOUO5S3qiqqpqreqnGqgpVZ6uuVd2nek71gepHNS01ezW22jg1qdoStR1qJ9Vuqb2hUqnW1ABqKrWQuoRaTT1NvU/9oE5Xd1LnqPPVZ6lXqNepX1F/SSPTrGgs2gRaMa2cdpB2idarQdaw1mBrcDVmalRoHNHo1OjXpGuO1IzWzNNcrLlL87zmMy2SlrVWsBZfa77WVq3TWo/oGN2Czqbz6PPo2+hn6N3aRG0bbY52tnaZ9h7tdu0+HS0dN50knSk6FTrHdbp0MV1rXY5uru5S3QO6N3Q/6RnrsfQEeov0avWu6L3XH6YfoC/QL9Xfq39d/5MBwyDYIMdguUG9wT1D3NDeMNZwsuFGwzOGvcO0h/kM4w0rHXZg2G0j1MjeKM5omtFWozajfmMT41BjsfE649PGvSa6JgEm2SarTE6Y9JjSTf1MhaarTJtMnzN0GCxGLmMto4XRZ2ZkFmYmNdti1m722dzGPNF8rvle83sWFAumRYbFKotmiz5LU8vRltMtayxvW5GtmFZZVmusWq3eW9tYJ1svsK63fmajb8OxKbapsblrS7X1t51kW2V7zY5ox7TLsdtgd9ketXe3z7KvsL/kgDp4OAgdNjh0DCcM9xouGl41vNNRzZHlWORY4/jASdcp0mmuU73TyxGWI1JHLB/ROuKbs7tzrvM25zsjtUaGj5w7snHkaxd7F55Lhcs1V6priOss1wbXV24ObgK3jW433enuo90XuDe7f/Xw9JB41Hr0eFp6pnlWenYytZkxzMXMc14Er0CvWV7HvD56e3gXeh/w/svH0SfHZ5fPs1E2owSjto165Gvuy/Xd4tvlx/BL89vs1+Vv5s/1r/J/GGARwA/YHvCUZcfKZu1mvQx0DpQEHg58z/Zmz2CfDMKCQoNKg9qDtYITg9cH3w8xD8kMqQnpC3UPnRZ6MowQFhG2PKyTY8zhcao5feGe4TPCWyLUIuIj1kc8jLSPlEQ2jkZHh49eOfpulFWUKKo+GkRzoldG34uxiZkUczSWGBsTWxH7JG5k3PS41nh6/MT4XfHvEgITlibcSbRNlCY2J9GSxiVVJ71PDkpekdw1ZsSYGWMuphimCFMaUkmpSanbU/vHBo9dPbZ7nPu4knE3xtuMnzL+/ATDCbkTjk+kTeROPJhGSEtO25X2hRvNreL2p3PSK9P7eGzeGt4LfgB/Fb9H4CtYIXia4ZuxIuNZpm/mysyeLP+s8qxeIVu4XvgqOyx7U/b7nOicHTkDucm5e/NU8tLyjoi0RDmilnyT/Cn5HWIHcYm4a5L3pNWT+iQRku0FSMH4goZCbfgj3ya1lf4ifVDkV1RR9GFy0uSDUzSniKa0TbWfumjq0+KQ4t+m4dN405qnm02fM/3BDNaMLTORmekzm2dZzJo/q3t26Oydcyhzcub8Ptd57oq5b+clz2ucbzx/9vxHv4T+UlOiXiIp6Vzgs2DTQnyhcGH7ItdF6xZ9K+WXXihzLisv+7KYt/jCryN/XfvrwJKMJe1LPZZuXEZcJlp2Y7n/8p0rNFcUr3i0cvTKulWMVaWr3q6euPp8uVv5pjWUNdI1XWsj1zass1y3bN2X9Vnrr1cEVuytNKpcVPl+A3/DlY0BG2s3GW8q2/Rps3DzzS2hW+qqrKvKtxK3Fm19si1pW+tvzN+qtxtuL9v+dYdoR9fOuJ0t1Z7V1buMdi2tQWukNT27x+2+vCdoT0OtY+2Wvbp7y/aBfdJ9z/en7b9xIOJA80HmwdpDVocqD9MPl9YhdVPr+uqz6rsaUho6joQfaW70aTx81OnojmNmxyqO6xxfeoJyYv6Jgabipv6T4pO9pzJPPWqe2Hzn9JjT11piW9rPRJw5dzbk7OlWVmvTOd9zx857nz9ygXmh/qLHxbo297bDv7v/frjdo73ukuelhstelxs7RnWcuOJ/5dTVoKtnr3GuXbwedb3jRuKNm53jOrtu8m8+u5V769Xtotuf78y+S7hbek/jXvl9o/tVf9j9sbfLo+v4g6AHbQ/jH955xHv04nHB4y/d859Qn5Q/NX1a/czl2bGekJ7Lz8c+734hfvG5t+RPzT8rX9q+PPRXwF9tfWP6ul9JXg28XvzG4M2Ot25vm/tj+u+/y3v3+X3pB4MPOz8yP7Z+Sv709PPkL6Qva7/afW38FvHt7kDewICYK+HKfwUw2NCMDABe7wCAmgIAHe7PKGMV+z+5IYo9qxyB/4QVe0S5eQBQC//fY3vh300nAPu2we0X1KeNAyCGCkCCF0BdXYfa4F5Nvq+UGRHuAzYHf03PSwf/xhR7zh/y/vkMZKpu4OfzvwCHFnxCwBXI8wAAADhlWElmTU0AKgAAAAgAAYdpAAQAAAABAAAAGgAAAAAAAqACAAQAAAABAAACt6ADAAQAAAABAAABKAAAAAD8+Z3wAABAAElEQVR4Ae2dCZwVxZ3Hg8M9cg+nIOJFIpcsIIiG+zSAiMuorAayqBAUHc4NoGQwARQFxkhEzRK5gmBWQXZBriAgQQzgwgwoBBNQBjkCcmeY4dpvqFj09nsz82be1e/N7334DP+urq7617e6uv/1r6quYleuXPmefiIgAiIgAiIgAiLgQ+A6nxAFiIAIiIAIiIAIiMA/CMhK0H0gAiIgAiIgAiLgn4CsBP9cFCoCIiACIiACIiArQfeACIiACIiACIiAfwKyEvxzUagIiIAIiIAIiICsBN0DIiACIiACIiAC/gnISvDPRaEiIAIiIAIiIAKyEnQPiIAIiIAIiIAI+CcgK8E/F4WKgAiIgAiIgAjIStA9IAIiIAIiIAIi4J9Acf/BIQqdefW3f/9+0mvQoMH48eO7d++OPGDAgDlz5thMWrZsuXnzZnOYnZ09cuTId955Jysrq2PHjq+//nrt2rVtTL/C5cuXv/nmm3LlyhUrVsxvBAWKgAgESIBPtp85c6ZWrVrXXVfILoRafYCoFU0EPEIgn1bP6fD9li5dumzZsj1Xf2PHji1RosTOnTvJrn///t26dTv03e/48eNWh8GDB99www2rV6/+7LPP2rdv36RJk4sXL9qzfoUDBw54hLXUEIH4IECb8tvWAglUq4+Pe0ClKGoEcmv1xWj2EWNRuXLll19+eeDAgfgSTp48uWTJElfWp06dqlq16rx58x566CFO4SGoU6fO8uXLu3bt6orpPOSqihUrUsLy5cs7w8Mq//iZnyU07WOz2DJ3Yosfj7OHl/73/bm/etEeShCBWCFw+vRpGh3Ns0KFCiHROZ5afUiAKBER8BqBvFt9eEccLItLly79/ve/P3fu3N13320C161bV61aNd7ubdu2nThxIjLh27Ztu3DhQpcuXUwc3J4NGzbctGmTr5XAwAQ/Ew0HKQImQiSthBIlSyWUSTQK8Pe6hOIlnIclS0VSGauGBBEICYGQDN7FX6sPCVslIgLeJJBbqw+7lZCRkYFlcP78+euvv37x4sV33HEHgJid0Ldv37p16+7bt+/555/v0KED9kGpUqUOHz5csmTJSpUqWYjVq1cn0B5aYfLkyRMmTLCHXhMy0nf0fXKY1ap2UoXpk1LtoQQRiG8CRbPVx3edqnRFlkDYrYT69etv374dB+Z7773HdIT169djKJgBBaDjKmjevDnmAtMX+vS55sC39cGAiF8DZ8yYMcOHDzfRjLfEXuIF4fzlhITmyVaTzK3vWlmCCMQ9gaLZ6uO+WlXAokkg7FYCvoFbb70VuFgDW7ZsefXVV998800n65o1a2Il7N27l8AaNWrk5OScOHHCuhOOHj3aunVrZ3wj43jg5xuuEBEQgagTUKuPehVIAREIFYFCLnYqXPY4BuxkApsCCxyYeIitQEizZs1YB8ECB3OWNRCsifBrJdjLY0IwAxCMQZh/w8amxoTaUlIEgidQZFt98OiUggh4gUB4fQmsfmQKAlOmmWC4cOFCZiyuWLHi7NmzqampDz74IJYBn1IgTlJS0gMPPAAOplWzAmLEiBFVqlRhajQfTmjUqFGnTp28QCoYHTQAEQw9XRtbBNTqY6u+pK0I5E0gvFbCkSNHHnvsMVwCvP4bN26MidC5c2c+l8Tkprlz5zJZAUOBjyIsWrSIbyIZRadPn168ePHk5GTzVaXZs2cnJCTkXQadFQER8A4BtXrv1IU0EYHgCYTXSpg1a5avimXKlFm5cqVvuAkpXbr0a1d/uUVQuAiIgJcJqNV7uXakmwgUlEBE5yUUVDnFFwEREAEREAERiCKB8PoSolgwZS0CIiACkSEwOGXUwWOnbV43JJV/I+1leyhBBGKagKyEmK4+KS8CIhB9ApgIiW0GWD0ObphtZQkiEOsENOIQ6zUo/UVABERABEQgXARkJYSLrNIVAREQAREQgVgnoBGHWK9B6S8CIhBRAq5ZCOS9a/eeu9pEVAdlJgIRIyArIWKolZEIiEA8EHDNQqBI2emj4qFgKoMI+COgEQd/VBQmAiIgAiIgAiLwve/JStBdIAIiIAIiIAIi4J+ArAT/XBQqAiIgAiIgAiIgK0H3gAiIgAiIgAiIgH8CshL8c1GoCIiACIiACIiArATdAyIgAiIgAiIgAv4JyErwz0WhIiACIiACIiACshJ0D4iACIiACIiACPgnoK8q+efiGzpsbGrmsVM2fOfnu5s0t0cSREAEREAERCAOCchKCLRSMRESmifb2Fnbx1tZggiIgAiIgAjEJQGNOMRltapQIiACIiACIhACArISQgBRSYiACIiACIhAXBKQlRCX1apCiYAIiIAIiEAICGheQgggFjSJjPQdfZ8cZq+qnVRh+qRUeyhBBERABERABDxCQFZCFCri/OUE50TIzK3vRkEJZSkCIiACIiAC+REI74jDzJkzGzduXP7q7+677/7www+NPleuXElNTa1Vq1aZMmXatWu3a9cuq2d2dvbQoUOTkpISExN79eqVmZlpT0kQARHwPgG1+p0Z6T0fHeT8NzhllPcrThqKgF8C4bUSateu/eKLL269+uvQocP9999vDIIpU6ZMmzZtxowZW7ZsqVGjRufOnc+cOWP0S0lJWbx48cKFCzdu3Hj27NkePXpcunTJr+oKFAER8CABtfqcKwmJbQY4/x08dtqDNSWVRCAQAuG1Enr27HnffffdfvU3ceLE66+/fvPmzTgS0tLSxo0b16dPn4YNG86ZM+fvf//7ggULUPfUqVOzZs2aOnVqp06dmjZtOn/+/IyMjDVr1viWBJfDacfPN4JCREAEokJArT4q2JWpCISJQHitBKs0/gDcA+fOnWPcYd++fYcPH+7SpYs5W6pUqbZt227atInDbdu2XbhwwZ5iSAIzwpyySRlh8uTJFb771alTx3VWhyIgAlEnoFYf9SqQAiIQPIGwWwk4A3AhYAoMHjyYoYQ77rgDEwG9q1evbrVHNoH8LVmyZKVKlXxP2RAjjBkzBseD+R04cMB1VociIAJRJKBWH0X4yloEQksg7Gsc6tevv3379pMnT7733nv9+/dfv369KUCxYsVsSRiDcB7acITcTmF28HPGlCwCIuARAmr1HqkIqSECwRMIu5WAb+DWW29F0ebNmzNX8dVXX/2P//gPDnEb1KxZ0xTg6NGjxrXATMacnJwTJ05YdwKnWrduHXw5lYIIiEDECMRZq2eFgnP64a7de+5qEzGWykgEokwg7CMOzvLhGGDWYb169bAGVq9ebU5hFuBgMKZAs2bNSpQoYU8dOnRo586dshKcDCWLQGwRiINWj4ngXLCQnXMxtqpA2opAMATC60sYO3Zs9+7dmV3IQkdmL65bt27FihUMLrDccdKkSbdd/SGULVu2X79+FIP5iAMHDhwxYkSVKlUqV648cuTIRo0asd4hmBLqWhEQgUgSUKuPJG3lJQLhJhBeK+HIkSOPPfYYLgFe/3xeCROBTyNQpNGjR2dlZQ0ZMoTBhZYtW65atapcuXKmqNOnTy9evHhycjIROnbsOHv27ISEhHBTUPoiIAKhIqBWHyqSSkcEvEAgvFYCHz/wW0jcCXx7kZ/v2dKlS7929ed7KsIhw8amZh47ZTPd+fnuJs3tkQQREAH/BGK61fsvkkJFoAgTCK+VENNgMRGcuy1kbR8f08WR8iIgAiIgAiJQUAIRnb1YUOUUXwREQAREQAREIIoEZCVEEb6yFgEREAEREAFPE5CV4OnqkXIiIAIiIAIiEEUCshKiCF9Zi4AIiIAIiICnCchK8HT1SDkREAEREAERiCIBWQlRhK+sRUAEREAERMDTBGQleLp6pJwIiIAIiIAIRJGArIQowlfWIiACIiACIuBpArISPF09Uk4EREAEREAEokhAVkIU4StrERABERABEfA0AX2h2dPVI+VEQATigMDOjPSejw6yBbkhqfwbaS/bQwki4GUCshK8XDvSTQREIB4I5FxJSGwzwJbk4IbZVpYgAh4noBEHj1eQ1BMBERABERCBqBGQlRA19MpYBERABERABDxOQFaCxytI6omACIiACIhA1AjISogaemUsAiIgAiIgAh4nICvB4xUk9URABERABEQgagRkJUQNvTIWAREQAREQAY8TkJXg8QqSeiIgAiIgAiIQNQKyEqKGXhmLgAiIgAiIgMcJhNdKmDx5cosWLcqVK1etWrXevXvv2bPH4hgwYEAxx69Vq1b2VHZ29tChQ5OSkhITE3v16pWZmWlPSRABEfA4AbV6j1eQ1BOBAhEIr5Wwfv36p556avPmzatXr7548WKXLl3OnTtn9evWrduh737Lly+34SkpKYsXL164cOHGjRvPnj3bo0ePS5cu2bMSREAEvExArd7LtSPdRKCgBML7heYVK1ZYhd5++208Ctu2bWvTpo0JLFWqVI0aNWwEI5w6dWrWrFnz5s3r1KkTIfPnz69Tp86aNWu6du3qiqlDERABDxJQq/dgpUglESg0gfBaCU61eP1zWLlyZRu4bt067IaKFSu2bdt24sSJyJzCjLhw4QJeBxOtVq1aDRs23LRpk8tKYFSCn4lz+vRpm2YsChnpO/o+OcxqXjupwvRJqfZQggjELgG1+titO2kuAoZAhKyEK1euDB8+/N577+WVbzLu3r17375969atu2/fvueff75Dhw7YB3gXDh8+XLJkyUqVKtkaql69OoH20AiMfU6YMMEVGKOH5y8nJDRPtspnbn3XyhJEIHYJqNXHbt1JcxGwBCJkJTz99NPp6enMM7AZP/TQQ0bGbmjevDnmwrJly/r06WMjWIFnDdMc7aERxowZg9lhZHwJjEq4IuhQBEQgugTU6qPLX7mLQEgIhHf2olGRBQtLly796KOPateu7VfpmjVrYiXs3buXs8xUyMnJOXHihI159OhR3An20Ah4Hco7fq6zOhQBEYguAbX66PJX7iIQKgLhtRJwA9CfeP/999euXVuvXr3clD5+/PiBAwewFYjQrFmzEiVKsCbCRGYNxM6dO1u3bp3btQoXARHwFAG1ek9Vh5QRgSAJhHfEgWWQCxYs+OCDD/hkgplbUKFChTJlyrC+MTU19cEHH8Qy2L9//9ixY/k6wgMPPEBhiDBw4MARI0ZUqVKFqY4jR45s1KiRWe8QZFF1uQiIQAQIqNVHALKyEIGIEQivlTBz5kxK0q5dO1se1kPyPaWEhISMjIy5c+eePHkSQ6F9+/aLFi3CkjDRpk+fXrx48eTk5KysrI4dO86ePZv4NgUJIiACXiagVu/l2pFuIlBQAuG1EvA9+lUId8LKlSv9niKwdOnSr1395RZB4SIgAp4loFbv2aqRYiJQCALhnZdQCIV0iQiIgAiIgAiIgEcIyErwSEVIDREQAREQARHwHIHwjjh4rrhSSAREQATyJDA4ZdTBY//vc667du+565+flc/zSp0UgXgkICshHmtVZRIBESgsAUyExDYDnFdnp49yHkoWgSJFQCMORaq6VVgREAEREAERKAABWQkFgKWoIiACIiACIlCkCMhKKFLVrcKKgAiIgAiIQAEIyEooACxFFQEREAEREIEiRUBWQpGqbhVWBERABERABApAQGscCgArMlEz0nf0fXKYzat2UoXpk1LtoQQREAEREAERiBgBWQkRQx1oRucvJyQ0T7axM7e+a2UJIiACIiACIhBJArISIklbeYmACIjA93ZmpPd8dJAFcUNS+TfSXraHEkTAUwRkJXiqOqSMCIhA/BPIuZLg/HDTwQ2z47/MKmHMEpCVcK3qho1NzTx2yh7v/Hx3k+b2SIIIiIAIiIAIFDkCshKuVTkmgnNCQNb28dfOSRIBERABERCBokdAKyGLXp2rxCIgAiIgAiIQGAFZCYFxUiwREAEREAERKHoEZCUUvTpXiUVABERABEQgMAKyEgLjpFgiIAIiIAIiUPQIyEooenWuEouACIiACIhAYAS0xiEwToolAiIQpwQGp4w6eOy0Ldyu3XvuamOPJIhAUScgK6Go3wEqvwgUcQKYCM5vHGWnjyriQFR8EXASCHTE4eabbz5+/LjzypMnTxLoDPGVJ0+e3KJFi3LlylWrVq1379579uyxca5cuZKamlqrVq0yZcq0a9du165d9lR2dvbQoUOTkpISExN79eqVmZlpT0kQARHwOAG1+oJWkPlgM99stv9wbxQ0EcUXgTARCNRK2L9//6VLl5xK8C4/ePCgM8RXXr9+/VNPPbV58+bVq1dfvHixS5cu586dM9GmTJkybdq0GTNmbNmypUaNGp07dz5z5ow5lZKSsnjx4oULF27cuPHs2bM9evRwZe2bkUJEQAQ8QkCtvqAVYT7YjD/D/nOOgBQ0NcUXgdASyH/EYenSpSbLlStXVqhQwci8tv/whz/cdNNNeWuzYsUKG+Htt9/Go7Bt27Y2bdrgSEhLSxs3blyfPn2IMGfOnOrVqy9YsGDQoEGnTp2aNWvWvHnzOnXqxKn58+fXqVNnzZo1Xbt2tUkVZcH1GWntK12UbwZvll2t3pv1Iq1EoHAE8rcSGCkg6WLFivXv39/mUaJECUyEqVOn2pB8BV7/xKlcuTJ/9+3bd/jwYVwL5qpSpUq1bdt206ZNWAmYERcuXLCnGJJo2LAhp1xWAp4Mfuby06evzTwyIXH81/UZae0rHcd1HQdFU6uPg0pUEYo4gfxHHC5f/d14441Hjx41Mn95QzPJgLGAAPHhPBg+fPi9997LK59LMBH4i//AXo5sAvlbsmTJSpUq+Z6yIQiMfeLYMD+cDc5TkkVABLxAQK3eC7UgHUQgSAL5+xJMBvT+g8np6aefTk9PZ56BMxH8E/aQB4rz0IYj+D01ZswYzA4TDV9C4QwFl/dem0A6sUsWgSAJeLPVB1koXS4CRY1AoFYCXJiIwM94FCym3/72t1bOTWDBApMbNmzYULt2bROH6YoIuA1q1qxpQkjWuBY4lZOTc+LECetO4FTr1q1diTNIwc8VWNBDl/dem0AWFKDii0BuBDzb6nNTWOEiIAJ+CeQ/4mAumzBhAnMFsBKOHTvGK9z+/CZqA3ED0J94//33165dW69ePRuOjDXAwgcTglnAvGhjCjRr1oxJD/bUoUOHdu7c6Wsl2KQkiIAIeIqAWr2nqkPKiECQBAL1JbzxxhuzZ89+7LHHCpQfyyBZufDBBx/wyQQz7YCZBHwggcEFljtOmjTptqs/hLJly/br14/EiTBw4MARI0ZUqVKFqY4jR45s1KiRWe9QoKwVWQREICoE1Oqjgl2ZikCYCARqJdDdL0SHfubMmejNR5Os9qyHHDBgAIejR4/OysoaMmQIbomWLVuuWrUKS8JEmz59evHixZOTk4nQsWNHrJOEhASbQjCCJiIEQ0/XikAgBLzW6gPRWXFEQARyIxColfD444/jFXj++edzS8hvOL5Hv+EE4k7g24v8fCOULl36tas/31NBhmgiQpAAdbkI5EvAa60+X4UVQQREIA8CgVoJ58+ff+utt/i6UePGjZk3YFPk+4lWlhAOAhnpO/o+OcymrIUYFoUEERABERCBcBMI1EpgHeOdd96JNswltDrltnbRRpAQPIHzlxMSmifbdLQQw6KQIAIiIAIiEG4CgVoJH330UbhVUfoiIAIiIAIiIAKeIhDoSkhPKS1lREAEREAEREAEIkAgUF9C+/bt/Y4v8CGECGipLERABERABERABCJPIFArwUxKMPqxG9P27duZoODc/ynyqitHERABERABERCBsBII1ErgGwYuPVjEePbsWVegDkVABERABERABOKGQKBWgm+BH3300bvuuuuVV17xPaUQERABERCBUBEYnDLq4LHTztRuSCr/RtrLzhDJIhAmAoW3Ej755BM+fxQmtZSsCIiACIiAIYCJkNhmgJPGwQ2znYeSRSB8BAK1Evr06WOV4NtqbMK0devWgn6K0aYgQQREQAREQAREwPsEArUS2ITJFua6666rX7/+Cy+8wC6RNlCCCIiACIiACIhAnBEI1Epgl6Y4K7mKIwIiIAIiIAIikDeBQK0Ek8q2bdu++OILPpxwxx13NG3aNO+kdVYEREAEREAERCCmCQRqJRw9evThhx9et25dxYoVmZdw6tQpvrO0cOHCqlWrxnT5pbwIiIAIeI3Azoz0no8Oslrt2r3nrjb2SIIIRJRAoF9oHjp06OnTp3ft2vXtt9+eOHGCTypx+Mwzz0RUWWUmAiIgAkWAQM6VBBY12H/ZOReLQKFVRI8SCNSXsGLFCraN/sEPfmDKwYjDr3/9a81e9GitSi0REAEREAERCAWBQH0Jly9fLlGihDNHDgl0hkgWAREQAREQARGIJwKB+hI6dOjw7LPPvvPOO7Vq1aL8Bw8eHDZsWMeOHeOJhcoiAiIQ9wR8v2OoUf+4r3QVMBgCgVoJM2bMuP/++2+66aY6deqwxuHrr79u1KjR/Pnzg8lb14qACIhAhAn4fscwO31UhHVQdiIQQwQCtRIwDj777LPVq1fv3r2bNQ7MS+jUqVMMlVOqioAIiIAIiIAIFJRA/vMS1q5di03AigaS7ty5M4sdWNrQokWLBg0afPzxxwXNT/FFQAREQAREQARihUD+VkJaWtoTTzxRvnx5Z5H4YPOgQYOmTZvmDPSVN2zY0LNnT6YyMEixZMkSG2HAgAGE2F+rVq3sqezsbAyRpKSkxMTEXr16ZWZm2lMSREAEvE/Aa62eiQh8e8D+YxaC9xlKQxHwDoH8rYQdO3Z069bNV2OWQfIpRt9wZ8i5c+eaNGnCnAZnoJFJky2jzG/58uU2QkpKyuLFi/le08aNG8+ePdujR49Lly7ZsxJEQAQ8TsBrrd5MRNC3Bzx+20g9zxLIf17CkSNHXGsgTWGKFy/+t7/9Le+Cdb/68xunVKlSNWrUcJ3ik46zZs2aN2+emfTA7EjmQ/Cdhq5du7pi6lAERMCbBNTqvVkv0koECkcgf1/CDTfckJGR4Zt6enp6zZo1fcMDDOFjz9WqVbv99tsZzuDzz+YqnBMXLlywH2tiqKJhw4abNm3yTZOBCaZK2J9vBIWIgAh4jYBavddqRPqIQL4E8rcS7rvvvvHjx58/f96ZVlZW1s9//nOGA5yBgcv0Nn73u98xL3Lq1KlbtmzhYwy89bn88OHDJUuWrFSpkk2qevXqBNpDK0yePJm5EeaHv8GGSxABEfAmAbV6b9aLtBKBvAnkP+Lw3HPPvf/++3T6n3766fr16zPlkG0h+Twz0wXGjRuXd+q5nX3ooYfMKVwFzZs3r1u37rJly/r06eMbn1WX5OgbPmbMmOHDh5twPAoyFHwRKUQEPEVArd5T1SFlRCBAAvlbCfTm8fn/9Kc/5cXMO5t0eW0zUeD111/nVIDZ5BGNYQushL179xKHmQo5OTnsJmXdCQxGtG7d2vdypjXw8w1XiAiIgPcJqNV7v46koQgYAvmPOBCPtzjLEI4dO/bpp59u3rwZgUO+wxgSiMePHz9w4ICZ4tCsWTNmSvLtJpMyKyDYfNKvlRCSrJWICIhAVAio1UcFuzIVgUIQyN+XYBOlf8/HlOxhIAJLGb/88ksTc9++fdu3b6989Zeamvrggw9iGezfv3/s2LF8HeGBBx4gGvMMBg4cOGLEiCpVqhBx5MiRfAdaH3kMBLXiiIBHCKjVe6QipIYIhIRAAayEQuS3devW9u3bmwvNNIL+/fvPnDmTRRNz5849efIkhgIRFi1aVK5cORNt+vTprLFMTk5mgiS7Sc2ePTshIaEQWesSERCBqBBQq48KdmUqAmEiEF4roV27dmYqg0v7lStXukLsYenSpV+7+rMhEkRABGKIgFp9DFWWVBWBfAkENC8h31QUQQREQAREQAREIP4IyEqIvzpViURABERABEQgNARkJYSGo1IRAREQAREQgfgjICsh/upUJRIBERABERCB0BCQlRAajkpFBERABERABOKPgKyE+KtTlUgEREAEREAEQkNAVkJoOCoVERABERABEYg/ArIS4q9OVSIREAEREAERCA0BWQmh4ahUREAEREAERCD+CMhKiL86VYlEQAREQAREIDQEZCWEhqNSEQEREAEREIH4IyArIf7qVCUSAREQAREQgdAQkJUQGo5KRQREQAREQATij4CshPirU5VIBERABERABEJDQFZCaDgqFREQAREQARGIPwKyEuKvTlUiERABERABEQgNAVkJoeGoVERABERABEQg/ggUj78iFakSZaTv6PvkMFvk2kkVpk9KtYcSREAEREAERCAYArISgqEX/WvPX05IaJ5s9cjc+q6VJYiACIiACIhAkAQ04hAkQF0uAiIgAiIgAnFLQFZC3FatCiYCIiACIiACQRKQlRAkQF0uAiIgAiIgAnFLILxWwoYNG3r27FmrVq1ixYotWbLEUrxy5UpqairhZcqUadeu3a5du+yp7OzsoUOHJiUlJSYm9urVKzMz056SIAIi4H0CavXeryNpKAKBEwivlXDu3LkmTZrMmDHDpdCUKVOmTZtG+JYtW2rUqNG5c+czZ86YOCkpKYsXL164cOHGjRvPnj3bo0ePS5cuuS7XoQiIgGcJqNV7tmqkmAgUgkB41zh0v/pzqYUjIS0tbdy4cX369OHUnDlzqlevvmDBgkGDBp06dWrWrFnz5s3r1KkTp+bPn1+nTp01a9Z07drVlYgORUAEvElArd6b9SKtRKBwBMLrS/Cr0759+w4fPtylSxdztlSpUm3btt20aROH27Ztu3Dhgj3FkETDhg3NKVdSDEycdvxcZ3UoAiLgKQJq9Z6qDikjAoETiIKVgImAfvgPrJbIJpC/JUuWrFSpku8pG2KEyZMnV/juh7/BdVaHIiACniKgVu+p6pAyIhA4gShYCUY55jNaLRmDcB7acITcTo0ZM4bhCfM7cOCA8xLJIiAC3iTgbOa5NW00z+2UWr03q1VaxTeB8M5L8MuO6YqE07eoWbOmiXD06FHjWuBUTk7OiRMnrDuBU61bt/ZNh3EKfr7hCnESGDY2NfPYKRui7zdbFBIiTECtPsLAlZ0IhIpAFHwJ9erV45GxevVqUwbMgvXr1xtToFmzZiVKlLCnDh06tHPnTr9WQqjKH9/pYCLw/Wb7z2kxxHfBVTqvEVCr91qNSB8RCJBAeH0JLGX88ssvjSpMX9q+fXvlypVvvPFGljtOmjTptqs/hLJly/br149ozDQYOHDgiBEjqlSpQsyRI0c2atTIrHcIsDyKJgIiEF0CavXR5a/cRSC0BMJrJWzdurV9+/ZG4+HDhyP0799/9uzZo0ePzsrKGjJkCIMLLVu2XLVqVbly5Uy06dOnFy9ePDk5mQgdO3YkckJCQmjLHMepubaI3Pn57ibN47i4KpoXCajVe7FWpJMIFJZAeK0EvqvIRCRf3ZjExLcX+fmeKl269GtXf76nFJIvAdcWkVnbx+d7iSKIQGgJqNWHlqff1HZmpPd8dJA9dUNS+TfSXraHEkQghATCayWEUFElJQIiIAIiYAjkXElIbDPA0ji4YbaVJYhAaAlEYfZiaAug1ERABERABERABMJEQL6EMIFVsiIgAiIQIQKuAQhy1RhEhNAXgWxkJRSBSlYRRUAE4pqAawCCsmoMIq4rPKKF04hDRHErMxEQAREQARGIIQKyEmKosqSqCIiACIiACESUgKyEiOJWZiIgAiIgAiIQQwRkJcRQZUlVERABERABEYgoAVkJEcWtzERABERABEQghgjISoihypKqIiACIiACIhBRArISIopbmYmACIiACIhADBGQlRBDlSVVRUAEREAERCCiBGQlRBS3MhMBERABERCBGCIgKyGGKkuqioAIiIAIiEBECchKiChuZSYCIiACIiACMURA+zjEUGVJVREQAREIiIBr/ydt/hQQNUXyR0BWgj8qChMBERCBWCbg2v9Jmz/FcmVGWXeNOES5ApS9CIiACIiACHiWgKwEz1aNFBMBERABERCBKBOQlRDlClD2IiACIiACIuBZArISPFs1UkwEREAEREAEokwgOlZCampqMcevRo0aBsOVK1c4VatWrTJlyrRr127Xrl1RxqPsReA7AsPGpvZ9cpj9x+F3Z/R/oATU8AMlpXgi4BkC0bESKH6DBg0OfffLyMgwQKZMmTJt2rQZM2Zs2bIF06Fz585nzpzxDCspUqQJZB47ldA82f7jsEjjKGzh1fALS07XiUB0CERtJWTx4sWtC8EUHUdCWlrauHHj+vTpQ8icOXOqV6++YMGCQYMGRYdN3OWakb6DrrAtVu2kCtMnpdrDIijgD3C+7AUkAveAGn4EICsLEQghgaj5Evbu3cvIQr169R5++OG//vWvFGnfvn2HDx/u0qWLKV6pUqXatm27adMmv6XNzs4+7fj5jaNAF4HzlxNsVxjB+YJ0xSwih3IPRL6ig2n4avWRry/lKALR8SW0bNly7ty5t99++5EjR375y1+2bt2aKQiYCNQH/gNbK8hfffWVPXQKkydPnjBhgjNEsgjkS8DlPNj5+e4mzfO9SBFCRiDIhq9WH7KaUEIiEDCB6FgJ3bt3Nxo2atTo7rvvvuWWWxhfaNWqFYFMarTKMwbhPLThCGPGjBk+fLgJwadQp04d51nJIuCXgHEe2FNZ28dbWUIECATZ8NXqI1BHykIEXASiYyU4lUhMTMRWwA/Zu3dvwvEo1KxZ00Q4evSo07XgvIrxCH7OEMkiIAIxRKAQDV+tPobqNz5UHZwy6uCx07YsRXM7jOhbCYw1fvHFFz/84Q+Zo8B8xtWrVzdt2pRaycnJWb9+/UsvvWRrSEIkCbic87E4s89VBOhpiCGSt1Deeanh581HZ71AABMhsc0Aq0nR3A4jOlbCyJEje/bseeONN+ItYF4CQwb9+/dncCElJWXSpEm3Xf0hlC1btl+/fraGJISWQN5LHlzO+cyt74Y29wik5ioCOWqIIQLY88hCDT8POGE95doikryKZrc4rJDjNfHoWAmZmZmPPPLIsWPHqlatynSEzZs3161bF8SjR4/OysoaMmTIiRMnmOi0atWqcuXKxSv6qJfLLHmwasSiHWCVD4mQt9kUkiyKeCJq+NG6AVxbRKLGyl8P7/notUXmcWk05DtekG+EaNWXp/KNjpWwcOFCvxRwJ/B1Nn5+zypQBMJKQGZTWPGSuBp+uAkHnr7LbohLX3q+4wX5RgicZxzHjI6VEMdAVbS4IeByLeQ9p8E1ByIWp3HETcWpIEWTgMsxAIRdu/fc1eYaDN9hF1eEa1ElOQjISnDAkCgCDgIu10LecxpccyA0fOMAKVEEIkHA5Rggy+z0Uc6MXe4T3wjOyJItAVkJFkVRFwrUdfYmLFeHPu/evzeLIK1EwAsEfPvlcTlxwQuova+DrATv11GENCxQ1zlCOhUwG1eHPu/efwHTVnQRKEIEfPvlcTlxoQjVaBBFlZUQBLyidKnL06BxdxcQ+S2KUmuIw7K6xuyL5oC9CwLVnC8Hl9MlLj0ushLisMGHo0guT4PG3V1A5LcIx12nNCNGwDVm7xrRj5ga0c3IBQFl8uXgcrrEpcdFVkJ0b8tYzd3Vk/7rn3fffPv3bWHkaXDxERB7b0gQgTgm4PJGxIdrQVZCHN+xYSyaqyd9fPv425on2/zkaXDxERB7b0gQgVARcHn78x0dCD5flxFAgq5MXd6I+HAtyEoI/s5RCiKQDwG5FvIBpNMiUHACLm9/vqMDBc/BfYXLCOB0BDJ1KxHxY1kJEUeuDIMg4Frr6Brp8OwUQrkWgqhzXeoJAq5u9L69u+vddm2QERXjw7vuCdYeU0JWgscqROrkScC11tE10qEphHnC00kRKDwBVzf6RPqoho7NEkk3PrzrhQcUv1fKSojfuo1eyeRgjx575SwCIiACoSQgKyGUNJWWIeBysH/423GZTw6zcDTh36KQIAJxQ8A1JKEBiLipWVkJcVOV3i2Iy2jQhH/vVpU0E4HCEnANSbh2pibV4O2GyC9qKCyMXK9zFSF4JrnmFLoTshJCx1IphYGAa7qiZ+cnhqHoSlIEYpiAy2igJAWduOB6oZLCP5YdPjnZQonF9QWudRkFZWLLHklBVkIkaSuvfxBwzVpwrVNwHf7DLPjxeAsuPuYnughoCMbWr4Q4JuAaksh3lYTrhQqZmDMLXEWmCK7vK8REdctKiIlqiislXQMQrnUKrsP4MAtc9ecioCEYFx8dxiUBl3fBd5WEa5AiFl+oropzFZmzMWfooLOsBFe16lAEIk1AroVIE1d+niTgeqfG4gvVk1yDVUpWQrAEdb0IBEnA5VrQkpAgeepyERCBEBKQlRBCmEpKBEJAQEZDCCAqCRGIBQK+Exc8uOpBVkIs3ErSsQgTcBkNmsRQhO8FFT3eCLgGWSiea3KGF4wGWQnxdtupPCIgAiIgAjFKwGU3eGGp5HXeRPn666/Xq1evdOnSzZo1+/jjj72ppLQSAREIIQG1+hDCVFLxQcAMSfR8dJD9x2ckIlw0L/oSFi1alJKSwiPjnnvuefPNN7t37/7555/feOONEUaj7EQg1gm4vknl5Q8zqNXH+s0m/cNBwOVaIIvIexe8aCVMmzZt4MCBjz/+OETS0tJWrlw5c+bMyZOvfXIrHJWhNEUgJgi4lk26PkLlOnR9k8rLcxrU6mPi9pOSUSfgmvDo+3EqV0jwMxs8ZyXk5ORs27btZz/7ma2MLl26bNq0yR4aIfvqz8inTp1COH36tCuO7+GFnOzLWeds+OVLFy/o8DsccU+DgsZBGf9+4crlBj/6rtK+97dt22/K/fDctu3OO/xSTna+zcREuHLlis0iAkJ4W/2FHCcE1z2Q710RgQhSydxjLg6uw3wroqDx800w+AjhUOn8xSslW/Q1xPh7/H+fq+849A3Zv+l3wbZ6Hgee+h08eJBy/vGPf7RaTZw48fbbb7eHRvj5z39uMUkQAREILYEDBw64WlxYD9XqQ1t9Sk0ECkEgt1bvOV+CKVuxYsVsIXk8OQ9N+JgxY4YPH27ky5cvf/vtt1WqVHFGw3qqU6cOxS5fvrxNysuCFA537YhwIIRpbmfOnKlVq1YgkUMbx9l+C9fqffXxbKVLMd/KyjdE0PJF5IoQILG8W73nrISkpKSEhITDhw/b0h49erR69er20Ailrv5sYMWKFa3sFDARYsVKMGpLYWf1hUMW4XypVqhQId84oY0Q2lbvq5tnK12K+VZWviGCli8iV4RAiOXR6j23ErJkyZKsfly9erUtJ3Lr1q3toQQREIE4I6BWH2cVquLEEwHP+RKAy1DCY4891rx587vvvvutt976+uuvBw8eHE/QVRYREAEXAbV6FxAdioBHCCSkpqZ6RBWrRsOGDZlkMGnSpFdeeSUrK2vevHlNmjSxZwMXGLlo165d8eJetIT8lkIK+8USwkARDiHM0CYVqlbvq5VnK12K+VZWviGCli8iV4TgiRVj2oIrUR2KgAiIgAiIgAiIAAQ8Ny9BtSICIiACIiACIuARArISPFIRUkMEREAEREAEPEdAVoLnqkQKiYAIiIAIiIBHCMhK8EhFSA0REAEREAER8ByBeLASWKbBV9vsr0aNGgYzEzM5xVfkypQpw2KHXbt2RRH/hg0bevbsiTLouWTJEqtJHkqyVcXQoUP54ExiYmKvXr0yMzPtVREQclN4wIABFjVCq1atrDLRVZj9wFq0aFGuXLlq1ar17t17z549VjFvQs5DYc9Ctkg9KASy8fT69ev5HAtb0t98881vvPFGZEqRr2Lvv/9+586dq1atytdvWP7N/nYeUcyqwSfzWSx255132pCwCvkSI3eeNuPGjatbty4f2Lvlllt++9vfhlUlm3gguv3ud79jXV7ZsmVr1qz5k5/85Pjx4/byMAm5Pa5d2RXy/ucBGus/9nRo0KDBoe9+fKvRlOjFF1/knfHee+9lZGQ89NBDVBifq4xWYZcvX849jTJU2+LFi60aeSjJVyJuuOEGPir12WeftW/fntvu4sWL9sJwC7kp3L9//27dun0H+xANwGoSXYW7du369ttv79y5c/v27T/60Y/Yavzs2bNGN29CzkNhz0K2de01YeHChSVKlPjNb37DLvPPPvsshvVXX33lUvKvf/0rD27OEoeYxP+v//ovV5yQHwaiGCq99NJLf/rTn/785z/z7XkUo8mHXBNXgoEoZi45efIkRhW77vEIciUSjsMAFaPj1LJlSx6P+/bt+/TTT51b/4RDK5NmILp9/PHH11133auvvsr9hsy7iU5L+FQyKef2uHbmW+j7/3vOVGJUxkrwvX3Z3AGnAq8HU6jz58/zBUp6D1Evo9NKyENJWiYPC25KozDb4XDnrVixIvL6OxUmd15g999/v68a3lEY3bAUURvDGTkmIDsVjhXIvvdAFEPuuusujFSrwPe//332lbWHRhg9ejThNnDQoEF4wuxhmIRAFHNlfccdd0yYMMEVGPLDwBWji/Xcc8/5fcyGXCsSDESxDz/8kOe5s4sSDk180wxEt5dffhmjyl77q1/9qnbt2vYw3ILrce3MrtD3fzyMOMBl7969OPPr1av38MMPYzERgoHJZhDYv8j88Eq1bdvWdwdqczZaf/NQku2zL1y4YPWndHx2xiP6r1u3Dq8+G3U+8cQT5vUGQE8pbDYTr1y5MorFBGSnwuZu9D7kaLUa33zNxtO2sRAB2bexfPLJJ844+HK2bt1KK/NNMFQhASrmzA6jlt22zK3rDA+tHLhi+Of+8pe/RGwP3gAVW7p0KR/nnTJlCt5WHkQjR47k+3uhReSbWoC6sZ8Ao8N07nlDHzlyBH8Vrk3f1CIfUuj7Px6sBPxOc+fOZTAPLyKWAZWEjWn2i3JuE4Xs3EQq8pXkm2MeSnKKj9tXqlTJXuUR/bt3786o29q1a6dOnbply5YOHTowQIiS3lGYxsnnfu+9917sKqMYf/3eCR7R2aUw2nofMkp653fs2LFLly75rWKnklS3Kw5DeFzrjBNaOUDFnJnSrM6dO5ecnOwMDLkcoGL0vnDJ0N4j9gXbABWjK7hx40aGFxm9TUtL40381FNPhZySK8EAdeMFBDEcMDzA8WezE+Frr73mSioqh4W+/2Pm68V5YOWRas42atSIuT/MZJkzZ46ZVcf0Onshz2LnoQ2PuuDUKg8l8zgVySJw95vseAdjzjN7aNmyZX369PHVIVoKP/300+np6TxEnCp5GbKvwt6H7GTrETmQKnbFQXNnSJgK4swi70bxzjvvMOH6gw8+wFcXJmWcyeatGIZXv379GPugs+68KgJy3oqhAB4X4vAyNjsZTps27V//9V9//etfM1E93OrlqxuzXp555pnx48fjrGL+1qhRoxgLmzVrVrgVCyR9l/Jc4gzJLYV48CU4y8asJWwFTGCz0gHryZ7FN+7sSdjwKAp5KMkpHFwnTpyw6nlQfyaEYiVAGyU9ojCrQvBGfvTRR4wFGnQeh+yrsK1xI3gQskvDqB8GuPE0d4LrgUAXmS1jwqd/gIoZBRYtWjRw4MB33323U6dO4VPJpByIYgx8MCKDCQslfi+88MKOHTsQ8COGT71AFCN3GgVjDXaz4x/84AeYX+FeBRagbqxduueeezAOGjdujKHAmgjWX2AuhA9agCkX+v6PNysB7/cXX3zBPcQcBaAwA9YQ5I3LXDav7UCdh5Ks12L2otWfmwz3mtf0Z2TnwIED0AZy1BXmMcETjUVlPMUAa1uOZyHnprDV3AieguzSzSOHAW48jaPRNig0X7VqFc4wWln4ShGgYiiAF4HlrwsWLIjMGHYgirEsk9VhrBgyPzrE9evXR2aEN+rEeA1/8803LGIymrA2hMndtmMQJvUCgUbWf//731HG6sBmS8g0dhsSLaHw9z/ax/pvxIgRTPVipGrz5s09evRg9eP+/fspFAscMDZ5bXCvP/LII7zMorgSEsP8f6/+uEXwjyGalVp5KEmz5L5fs2YNy6IY/o/wSki/ChMIbeaFMSWQ/jq3HRa9pRpdhX/6059S3dwJWFTmR3M197Y3IeemsJche/ZZYZao4dfF35uSkoJP0TwEGFZnG3qjNo8IVkIOGzaMOMTEPojYSsi8FcM4oI+Ow/y7O/cQK4bCjToQYk4dIrbGIRDFaCM8Gxll4Cs4dP9uu+22xx9/3KltmORAdGO+J7WJC4FZn4x7YomyMiJM+thk/T6uORuS+z8eVkIyiIsFQJtnIQAD5Nw3hh1jV9zZeBRY4NCmTRtsBcs08gLvVJcJyZJC1MhDSWbt0jlmtjODbVg/X3/9dSTV9qsw711mifP5F2jzQQKK4NQqugq78HJIczXEvAk5N4W9DDmSd2BB8+Ity/gXHb5/+Zd/MYtgSYFblMVNNimMyKZNmxLnpptumjlzpg0Pq5CvYmjouhnMwyGsWpF4voo5FYiYlRCgYviMGZrh2Yi5wGxl2yVw6hwOORBorH5kOSu68WL6t3/7N4ZCwqGJM02/j2sihOT+187RruapQxEQAREQAREQgX8SuDZ8IiQiIAIiIAIiIAIi4CQgK8FJQ7IIiIAIiIAIiMA1ArISrrGQJAIiIAIiIAIi4CQgK8FJQ7IIiIAIiIAIiMA1ArISrrGQJAIiIAIiIAIi4CQgK8FJQ7IIiIAIiIAIiMA1ArISrrGQJAIiIAIiIAIi4CQgK8FJQ7IIiIAIiIAIiMA1ArISrrGQFG4CfDSXLcj4FHy4M1L6IhCLBNq1a8fnpWNR88B15gmwZMmSwOMTkx0uevfuXaBLTORCX1iIvOL4ElkJcVy5/69oNBjaJz++Mc7HldlEwLnh5P+LGtzBl19++e///u9kwYex2eWhY8eObPB68eLF4FLV1SIQ2wRMA2SvE2cxhgwZQpPklAlk05lf/OIXzgj5ysbyplEfPHjQRmY/CEJImbM2MBiBfWf4SDz7WZcuXZqPW/NR/GPHjgWTYKiu5SPEv/nNb9hQhr2prr/++gYNGjz77LM8gkKVvtKBgKyEInQbdOvWjccHD47//M///O///m+eUCEv/J/+9Ce+os8n1vnaOZtY/s///A8WwxtvvMHmGiHPSwmKQGwRqFOnDtsFsd2JUfv8+fNsBYk9bUvBpi1sVmcPAxfYwmbu3Lk2/pw5czDQ7WGQAnvWs2MC+yavXLmSps0+yGxPwL4JQSYb/OWYCP369XvmmWfuu+8+dvhMT09nAwV2T/jlL38ZfOJK4RoB544RkuOYANt+3H///baA7I/CI8kc0tHnXU4XgY7C7bffnpaWZsJpdXRH/va3v3H47bffIrMJmzk1adKkVq1aGdn+ZVMlNnpnC+lLly7ZQCNwCoGdJLnz6JcgsxUTWzjaaIsXL+aUPfzggw9IB29ElSpVHnjgAROODuzvV7FiRR4EWDxsF2vCsXvo6BDOjn9ssrJs2TITjmnSvXt3tgekD/Too4+agtgsJIhAJAmYBtioUaP58+ebfPGxcUir5JQJYdsnusJGZueqiRMn/uQnP6GLjHnx5ptvmnDXX9OmnnvuOfZFtKfY4vn555+nQXGWwNwaOPYK7eWJJ54wF7JnJj3yt956y6ZjBNomnokLFy64ws0hnQFe0hg36HnvvffSjyec3gKGBY2XBNlpb9u2bfZatCJBc8g2SMnJybRcnkW9evUy2nIKhdm6k+cD4aNGjfrxj3/sfHbZpLCxSI1nhQ0xgnnaIDsfevCcPn26jckWu+xfZQ7xqgKBpwQPHLwR9KBMOFuGwoe9wbj2lVdesdfSBbr11luJzCUPPvigCSfTl156iX3qeYo2btz497//vY0f64J8CdxmRe7H42DFihXs62hKzv3NvmrvvvsuO+qOHz9+7NixyJxq2LAh7Zzt9ZA3bNiAzF9zCXvr+W5kx4QDuhojR450bq9u4mNhGCGQv7zm2dvzRz/6EfbEH/7wB7ZeNVfhmN26devSpUs/+eQTGh7PJp5cnHrqqaeys7PRjW0/aag8rQjEa4KGd955J5dQ2CNHjvA8CiR3xRGB8BHgrY99bNKnU451nkdeU6dO5eanFeD2Y4hw9+7duUXmFcurjn2KicBf7OmePXvayLk1cN5nWCo4HpgogGWPCd6+fXvel/ZCI7CtLq9t82p3nWKYAyOAdNauXYspQHGISRw2MuYN/fHHH2/evBnzhaZKiOtavBFkR2ul5aIzAqZ/Tk4O0Sg4cNhu25TFdCFcl3OIlYA9RNldpwr0tAEOfYlNmzZhvfEAZJf5hIQEEqQ4PDEefvhhniqpqalYXbNnzyac5wneixdeeGHPnj08WCi+yR1DjZplo1E6J5g4dEvMk9Ocje2/sW7mSP8ACdBoufvpWNOkzS07bdo0v9fySLIGMm9rdq8mGpOqRowYgdeRNsC7mSb94Ycfui7Hm0rKn332mQnnxUx25of1TaDp9+TrS2CUke1WXYnjOSDxP/7xjyacYVE8ClgzHNIhoxm74tOq2eTaBh44cIDLadg2RIIIRJKA6dfi0KIPSkPAAUZL5DAPXwJvGqMhbzK6rX63urZtihaKCUJ8/vKWopVxw3PWt4zOBs7ZKVOm0K6HDh2KNZCbv42eA+4Eeva8yIl/+PBhk+yYMWPoPfNq983FhmA34GmwHXS0MgYHRgDveIpmYmLo06IZ1OCQEQ3e1iacpw19GL++hO9///uYCDYj3DDmacNoiwk0zI2cmy+BHOnV+D4ZGMvo3LmzTRyXBn4FDt977z0cJKdPn7anEM6ePUttYmrYwIEDBz7yyCP2MKYF+RK4aYvKD8ud7v6nn37KE6Fr1678tSVn6gC9lqpVq/L6ZzbQ119/bU4x6Rq3ATJ2MZdjOCNs2bIFX+U999xjL3cK1pDH90B2/PAomi6CM1oeMpcw59EVAS8Fz6mWLVuacBLnEUMgh5j2jESiDy5ERklMBLoC7LlOccyPBwrhf/nLX8xZ/RWBqBDgfYyTjO47/U4EDvNQA8e1OUub4hXO/AAO6fiaWxrfuPNaXkt4uXl/89fXRZFbAycFrH+a0muvvYZKuenD2AcpkwhvSv7Smuhhcy1N9Yc//KH1Slp9UJV5mgxfMmrAj5eofaTYOLRQhifMUAUlwgRhogYt9NSpUzgC6SqYmLR6602011rBPm0IGTduHPrgDSU7GyFfgUuwQlDVFZNni/MRh7x37148LpgOGBw333wzrhc8MWZ+Bk4IlOfUPx8311/PNJG4edoUd6HRYRwTwNBmOI0CMseHV/6ECRPMhGp65HQ+8PLRMmm0L7/8MpaE4YCVYOYMM/rI44D7Hivh5MmTTBogposVrkVC8Ivi50fAdWGyo527YnKI/Y59bcPN2IE5pEthw63gjGwCCTHPiMcffxyjh3EKZjBNnjyZgmAA0UfB6coAhE0BgT6K81CyCESeAK9w/HPki4Mt79ydb19udW5p4jP12Mx/dJ4lnPFBXt70X5kbhMzLzyaeRwMnDm90etK0Vt6CuArsVS4Bu7zv1R9NrGnTpozTY+v4bapcyOAgbglmOPFCxXfCg8W3n0BxeIzwonVmREfFeZi3zAPHOQrDtfxwuvi9KrcHTm5FsI8Xk5p9/vDcw11K34mnDRYJXkx6TaZqeAQ5J41ScL+axFygfAkxV2WhUZhuN+38m2++ITmGD1u3bo0fksbPe91pApupCfTUmeyDn42RfqwEv5MSSIfLeU6RrGkzeStKe2ao8ty5cyaa86FGF4rpCK7L6cTgurTmy/HjxxmD4IFoojG9i74LC8noGOELIZClFgyOMCWTEtkfdpIrWR2KQIQJmNF33pqYtoXImveQuZ95Absux/6gbfo6EvJo4KRAfJo5fd/Ro0fTJ3al6XvIbL5bbrnFtFyaKok7TXwTn0Cz9ACHBy9Lv8smaaHYJbzUbfNEML4HJVNOKQAAA/pJREFUrHkmNJikaPV4HXzVIASTCPuG2Yt+z7oCeeDgojCBjBeYkRoOKQKTKM2ApvMSHjhmnocJZDQBf4OZskC3h7mZjLzguWTkiDkZRKaY+EucZeGh5EwwdmVZCbFbd0FpjpOABsxSBVLhzmZKDuNzNBWG8zGNbdL0YBhlYF4P8QmkRfF04xVuDm00IxAZpyXtFu8ccwx5BPDQwT9Jr8K0Lmd8xg5YksB4J17HBQsWmJlBJgIWDPOS+IvTD8cmrZFw+g2MTTK1iqa7Y8cOhmx5XBLCKUZkUZ5mj41PizWmA1MamcPFc4Tp1szWxPDnaYjD0KmDZBGIPAHaAjc2P99GEaQytA7aGq41Vzp5NHD8GcwFxkRgGJ4VTMwH8u30s56Z5sZfng+0broBy5cvN00PpwhvXKb48QChvc+bN48I5E6OyJQRs540/fbXCWeAg3QwKWi8dD9wW/LC5nIE5iUwfQFXAb0XnJeuEplD8kVn/jKXkIx4YZPIokWL/ILt0KEDKpEXblEzScskQs+HRxwzsVavXo0aTLdiTiKn6G/woMPbSqnxmsyYMYN52YTDAV8svZqvvvoKbvSIGK/BwcBZPLLEpJfFpBDAIpssYv4vjhT9igIB50QeU158fXQLsH8ZUcNDiBXPBAKmUv/sZz/Dc2CZMGBp2oYJoVXTCBk7tBFcAo8J8mKoD4ubNGmBLOKit0E0GiFJmdmLHPIU4GnCrB/WMbL+ilM2KaYIMWyBejxHmEFpws1KSNLkoUM/jNZrwnlU0bnBlqe7wGAhHRcTTgRWUVIo4uPkwJigSdssJIhAJAn4NkCTOw2KU0bmjcUL0si5zbYzZ+1fV5uy4c7Zi7k1cN7iNA1sdHMVjRrfGx4Fm4gReO1hf9CTJjKtqUWLFnQGbBxMdqYJY/HzpjSDkpzCXmcyAU0S4555Es6y0MzN7EWi0blnlSNtnJiM9JOLebDwuIADzkuyY812bishSQG7n34IXQ7chDwuTCJ0Tox6TuakzJoF0qSLT5/EuRISxyRTPhlS4VmEWwU7wFxuVkIyssM3LRiHNYHYGVRTpUqVoEGvCaPEhPNsefXVV7EYiM+DiAcUJos5Fet/i1EAqk0/ERABERABERABEXAR0IiDC4gORUAEREAEREAE/klAVoJuBREQAREQAREQAf8EZCX456JQERABERABERABWQm6B0RABERABERABPwTkJXgn4tCRUAEREAEREAEZCXoHhABERABERABEfBPQFaCfy4KFQEREAEREAERkJWge0AEREAEREAERMA/AVkJ/rkoVAREQAREQAREQFaC7gEREAEREAEREAH/BGQl+OeiUBEQAREQAREQgf8DZ+jBZj1qBC0AAAAASUVORK5CYII=\">\n",
        "\n",
        "\n",
        "#### Standardisation\n",
        "\n",
        "Machine learning algorithms tend to perform worse if data have very different scales. For example, if we look at our BMI data, we can see that the range of values is quite wide: the lowest value is 10.3 - where the largest is 97.6! However, most values lie between 20 and 40; this large can trip up some algorithms.\n",
        "\n",
        "To combat this, we can \"standardise\" the data to a new scale, where 0 is average. For example, we can do this to our BMI below (look at the x-axis scale):\n",
        "\n",
        "<img src=\"data:image/png;base64,iVBORw0KGgoAAAANSUhEUgAAArcAAAEmCAIAAAD3LS9bAAAMQGlDQ1BJQ0MgUHJvZmlsZQAASImVVwdYU8kWnluSkEAIELqU0JsgUgNICaEFkF4EGyEJEEqIgaBiL4sKrl0sYENXRRQ7IBYUUSwsig37YkFFWRcLduVNCui6r3zvfN/c+99/zvznzLlzywBAO8kVi3NRDQDyRIWSuNBAxpiUVAbpKUAAAdCAHtDj8grErJiYSABt8Px3e3cDekO76ijT+mf/fzVNvqCABwASA3E6v4CXB/EhAPBKnlhSCABRxltMLhTLMGxAWwIThHihDGcqcKUMpyvwPrlPQhwb4hYAVNS4XEkmAOqXIc8o4mVCDfU+iJ1FfKEIABoDYr+8vHw+xGkQ20IfMcQyfWb6DzqZf9NMH9LkcjOHsGIuclMJEhaIc7lT/89y/G/Ly5UOxrCGTS1LEhYnmzOs282c/AgZVoO4V5QeFQ2xFsQfhHy5P8QoJUsalqjwR414BWxYM6ALsTOfGxQBsRHEIaLcqEgln54hDOFADFcIOkVYyEmAWB/ihYKC4Hilz2ZJfpwyFlqXIWGzlPw5rkQeVxbrvjQnkaXUf50l4Cj1MfXirIRkiCkQWxYJk6IgVofYqSAnPkLpM6o4ix016CORxsnyt4Q4TiAKDVToY0UZkpA4pX9pXsHgfLHNWUJOlBIfKMxKCFPUB2vhceX5w7lglwUiVuKgjqBgTOTgXPiCoGDF3LFnAlFivFLng7gwME4xFqeIc2OU/ri5IDdUxptD7FZQFK8ciycVwgWp0MczxIUxCYo88eJsbniMIh98GYgEbBAEGEAKWzrIB9lA2N5b3wuvFD0hgAskIBMIgKOSGRyRLO8RwWM8KAZ/QiQABUPjAuW9AlAE+a9DrOLoCDLkvUXyETngCcR5IALkwmupfJRoKFoSeAwZ4T+ic2HjwXxzYZP1/3t+kP3OsCATqWSkgxEZtEFPYjAxiBhGDCHa4Ya4H+6DR8JjAGwuOBP3GpzHd3/CE0IH4SHhOqGLcGuicK7kpyxHgy6oH6KsRfqPtcCtoaY7Hoj7QnWojOvihsARd4NxWLg/jOwOWbYyb1lVGD9p/20GP9wNpR/ZmYyS9cgBZNufR6rbq7sPqchq/WN9FLmmD9WbPdTzc3z2D9Xnw3PEz57YQuwg1oqdws5jx7B6wMCasAasDTsuw0Or67F8dQ1Gi5PnkwN1hP+IN3hnZZUscK5x7nH+ougrFEyRvaMBO188VSLMzCpksOAXQcDgiHhOwxkuzi6uAMi+L4rX15tY+XcD0W37zs37AwDfpoGBgaPfufAmAPZ7wsf/yHfOlgk/HaoAnDvCk0qKFBwuOxDgW4IGnzQDYAIsgC2cjwvwAD4gAASDcBANEkAKmACzz4LrXAImg+lgDigBZWAZWA3Wg01gK9gJ9oADoB4cA6fAWXARXAbXwR24errBC9AH3oHPCIKQECpCRwwQU8QKcUBcECbihwQjkUgckoKkIZmICJEi05F5SBmyAlmPbEGqkf3IEeQUch7pQG4hD5Ae5DXyCcVQNVQbNUat0REoE2WhEWgCOh7NRCehxeh8dAm6Fq1Cd6N16Cn0Inod7UJfoP0YwFQxXcwMc8SYGBuLxlKxDEyCzcRKsXKsCqvFGuF9vop1Yb3YR5yI03EG7ghXcBieiPPwSfhMfDG+Ht+J1+Et+FX8Ad6HfyNQCUYEB4I3gUMYQ8gkTCaUEMoJ2wmHCWfgs9RNeEckEnWJNkRP+CymELOJ04iLiRuIe4kniR3ER8R+EolkQHIg+ZKiSVxSIamEtI60m9REukLqJn1QUVUxVXFRCVFJVRGpzFUpV9mlckLlispTlc9kDbIV2ZscTeaTp5KXkreRG8mXyN3kzxRNig3Fl5JAyabMoayl1FLOUO5S3qiqqpqreqnGqgpVZ6uuVd2nek71gepHNS01ezW22jg1qdoStR1qJ9Vuqb2hUqnW1ABqKrWQuoRaTT1NvU/9oE5Xd1LnqPPVZ6lXqNepX1F/SSPTrGgs2gRaMa2cdpB2idarQdaw1mBrcDVmalRoHNHo1OjXpGuO1IzWzNNcrLlL87zmMy2SlrVWsBZfa77WVq3TWo/oGN2Czqbz6PPo2+hn6N3aRG0bbY52tnaZ9h7tdu0+HS0dN50knSk6FTrHdbp0MV1rXY5uru5S3QO6N3Q/6RnrsfQEeov0avWu6L3XH6YfoC/QL9Xfq39d/5MBwyDYIMdguUG9wT1D3NDeMNZwsuFGwzOGvcO0h/kM4w0rHXZg2G0j1MjeKM5omtFWozajfmMT41BjsfE649PGvSa6JgEm2SarTE6Y9JjSTf1MhaarTJtMnzN0GCxGLmMto4XRZ2ZkFmYmNdti1m722dzGPNF8rvle83sWFAumRYbFKotmiz5LU8vRltMtayxvW5GtmFZZVmusWq3eW9tYJ1svsK63fmajb8OxKbapsblrS7X1t51kW2V7zY5ox7TLsdtgd9ketXe3z7KvsL/kgDp4OAgdNjh0DCcM9xouGl41vNNRzZHlWORY4/jASdcp0mmuU73TyxGWI1JHLB/ROuKbs7tzrvM25zsjtUaGj5w7snHkaxd7F55Lhcs1V6priOss1wbXV24ObgK3jW433enuo90XuDe7f/Xw9JB41Hr0eFp6pnlWenYytZkxzMXMc14Er0CvWV7HvD56e3gXeh/w/svH0SfHZ5fPs1E2owSjto165Gvuy/Xd4tvlx/BL89vs1+Vv5s/1r/J/GGARwA/YHvCUZcfKZu1mvQx0DpQEHg58z/Zmz2CfDMKCQoNKg9qDtYITg9cH3w8xD8kMqQnpC3UPnRZ6MowQFhG2PKyTY8zhcao5feGe4TPCWyLUIuIj1kc8jLSPlEQ2jkZHh49eOfpulFWUKKo+GkRzoldG34uxiZkUczSWGBsTWxH7JG5k3PS41nh6/MT4XfHvEgITlibcSbRNlCY2J9GSxiVVJ71PDkpekdw1ZsSYGWMuphimCFMaUkmpSanbU/vHBo9dPbZ7nPu4knE3xtuMnzL+/ATDCbkTjk+kTeROPJhGSEtO25X2hRvNreL2p3PSK9P7eGzeGt4LfgB/Fb9H4CtYIXia4ZuxIuNZpm/mysyeLP+s8qxeIVu4XvgqOyx7U/b7nOicHTkDucm5e/NU8tLyjoi0RDmilnyT/Cn5HWIHcYm4a5L3pNWT+iQRku0FSMH4goZCbfgj3ya1lf4ifVDkV1RR9GFy0uSDUzSniKa0TbWfumjq0+KQ4t+m4dN405qnm02fM/3BDNaMLTORmekzm2dZzJo/q3t26Oydcyhzcub8Ptd57oq5b+clz2ucbzx/9vxHv4T+UlOiXiIp6Vzgs2DTQnyhcGH7ItdF6xZ9K+WXXihzLisv+7KYt/jCryN/XfvrwJKMJe1LPZZuXEZcJlp2Y7n/8p0rNFcUr3i0cvTKulWMVaWr3q6euPp8uVv5pjWUNdI1XWsj1zass1y3bN2X9Vnrr1cEVuytNKpcVPl+A3/DlY0BG2s3GW8q2/Rps3DzzS2hW+qqrKvKtxK3Fm19si1pW+tvzN+qtxtuL9v+dYdoR9fOuJ0t1Z7V1buMdi2tQWukNT27x+2+vCdoT0OtY+2Wvbp7y/aBfdJ9z/en7b9xIOJA80HmwdpDVocqD9MPl9YhdVPr+uqz6rsaUho6joQfaW70aTx81OnojmNmxyqO6xxfeoJyYv6Jgabipv6T4pO9pzJPPWqe2Hzn9JjT11piW9rPRJw5dzbk7OlWVmvTOd9zx857nz9ygXmh/qLHxbo297bDv7v/frjdo73ukuelhstelxs7RnWcuOJ/5dTVoKtnr3GuXbwedb3jRuKNm53jOrtu8m8+u5V769Xtotuf78y+S7hbek/jXvl9o/tVf9j9sbfLo+v4g6AHbQ/jH955xHv04nHB4y/d859Qn5Q/NX1a/czl2bGekJ7Lz8c+734hfvG5t+RPzT8rX9q+PPRXwF9tfWP6ul9JXg28XvzG4M2Ot25vm/tj+u+/y3v3+X3pB4MPOz8yP7Z+Sv709PPkL6Qva7/afW38FvHt7kDewICYK+HKfwUw2NCMDABe7wCAmgIAHe7PKGMV+z+5IYo9qxyB/4QVe0S5eQBQC//fY3vh300nAPu2we0X1KeNAyCGCkCCF0BdXYfa4F5Nvq+UGRHuAzYHf03PSwf/xhR7zh/y/vkMZKpu4OfzvwCHFnxCwBXI8wAAADhlWElmTU0AKgAAAAgAAYdpAAQAAAABAAAAGgAAAAAAAqACAAQAAAABAAACt6ADAAQAAAABAAABJgAAAABDySORAAA670lEQVR4Ae2dCZhVxZmGRXaaZuuWpaEFlGVQQBk0TFADyhYFiUNm0KBGJ2gkEBQBSZBo0IlgMCyJIARDAiPDQKJBZdwAjRiCRsSwEwUh7M0SWZodoeeDmhTHe2/fvrf7LnXPee/TTz91qupU/fXWqTr/+WsrV1RUdBE/CEAAAhCAAAQgEEbg4jAfPCAAAQhAAAIQgMA5AmgJPAcQgAAEIAABCEQmgJYQmQu+EIAABCAAAQigJfAMQAACEIAABCAQmQBaQmQu+EIAAhCAAAQggJbAMwABCEAAAhCAQGQCaAmRueALAQhAAAIQgABaAs8ABCAAAQhAAAKRCVSI7J1RvmfPnt21a1d2dna5cuUySnCEhYBzBLTNWmFhYV5e3sUXO/0JQat37tFBoIwlEL3V+0FLkIqQn5+fsRWE4BBwjsD27dsbNWrknFgegWj1Hhg4IZAAAsW1ej9oCbIiiJBKWKNGjQSgSkcSGzdu/OFLq2rUu/Twnm1Pf/Oq5s2bp0MK8oTARYcPH5bObdqUyzh80OpdxotsgSIQvdX7QUswAw1SETJXS6hevXrFKtUqVs3Sf7kztyCBalo+Lqz7g3c+aPU+fn4oWiYSKK7VOz30mImgkRkCEIAABCDgGwJoCb6pSgoCAQhAAAIQSDABtIQEAyU5CEAAAhCAgG8IoCX4piopCAQgAAEIQCDBBNASEgyU5CAAAQhAAAK+IYCW4JuqpCAQgAAEIACBBBNAS0gwUJKDAAQgAAEI+IaAH/ZL8E1lUBAIQCCYBL744osNGzbYsrdq1apCBTpnywNHOgnwIKaTPnlDAAIQEAGpCAOmLMiud6nchXu2TRt0UZs2bSADARcIoCW4UAvIAAEIBJ2AVIRaDS8POgXK7x4B5iW4VydIBAEIQAACEHCDAFqCG/WAFBCAAAQgAAH3CKAluFcnSAQBCEAAAhBwgwBaghv1gBQQgAAEIAAB9wigJbhXJ0gEAQhAAAIQcIMAWoIb9YAUEIAABCAAAfcIoCW4VydIBAEIQAACEHCDAFqCG/WAFBCAAAQgAAH3CKAluFcnSAQBCEAAAhBwgwBaghv1gBQQgAAEIAAB9wigJbhXJ0gEAQhAAAIQcIMAWoIb9YAUEIAABCAAAfcIpEhLGDt2bLly5YYMGWIIFBUVjR49Oi8vr2rVqp07d163bp0lc/LkycGDB+fm5mZlZfXu3XvHjh02CAcEIJBBBGj1GVRZiAqB4gikQktYvnz59OnT27Zta4UYN27chAkTJk+erKD69et369atsLDQhEqTmD9//ty5c5cuXXrkyJFevXqdOXPG3ogDAhDICAK0+oyoJoSEQIkEkq4l6E1/5513Pv/887Vr1zbSyJAwadKkUaNG9enTp3Xr1rNmzTp27NicOXMUeujQoRkzZowfP75r167t2rWbPXv2mjVrFi9eXGIxiAABCLhDgFbvTl0gCQTKSCDpWsKgQYN69uypt74VdMuWLQUFBd27dzc+lStX7tSp07Jly3S5YsWK06dP2yANSUiNMEH2duPQwMRhzy8klEsIQCCNBGj1aYRP1hBILIEKiU0uJDUNHHz88ceyPXr9pSLosl69etZT7q1bt+pSQZUqVbJWBxPNxLeRjUNDnk888USIJ5cQgEDaCdDq014FCACBBBJIoi1h+/btDz30kEYNqlSpEi6xJjNaT41BeC+tvxzFBY0cOVLDE+anjLy34IYABNJFgFafLvLkC4EkEUiilqDhg71797Zv377C+d+SJUt+8YtfyGmsCF4LgaIZT81kPHXq1IEDB2xpbZD1MQ6NU9Tw/EJCuYQABNJCgFafFuxkCoHkEUiiltClSxfNPVz5j98111yjaYy6uuyyy6QNLFq0yJRKaoEUiI4dO+pSKkXFihVt0O7du9euXWuCkoeAlCEAgUQRoNUniiTpQMARAkmcl5Cdna25h7ac2v8gJyfH+Gi545gxY5qf/8lRrVq1fv36KWbNmjX79+8/bNgwxaxTp87w4cPbtGnjnfloU8MBAQg4SIBW72ClIBIEykIgiVpCFLFGjBhx/PjxgQMHanChQ4cOCxcuVOdi4k+cOFGjEn379lUEfZfMnDmzfPnyUZIiCAIQyAgCtPqMqCaEhEAIgXKaHhjilXGXWhEpI4RmMmqiQsYJbwT+5JNPHp73lxr1Gx8u2Drx9nYtW7bM0IIgdqYTyJTWlClyxvg8aHD2kRdX1Wp4ueIf3PnZM/92lcyoMd5LNAiUkUD01pTEeQlllJvbIQABCEAAAhBILwG0hPTyJ3cIQAACEICAuwTQEtytGySDAAQgAAEIpJcAWkJ6+ZM7BCAAAQhAwF0CaAnu1g2SQQACEIAABNJLAC0hvfzJHQIQgAAEIOAuAbQEd+sGySAAAQhAAALpJYCWkF7+5A4BCEAAAhBwlwBagrt1g2QQgAAEIACB9BJAS0gvf3KHAAQgAAEIuEsALcHdukEyCEAAAhCAQHoJoCWklz+5QwACEIAABNwlgJbgbt0gGQQgAAEIQCC9BNAS0suf3CEAAQhAAALuEkBLcLdukAwCEIAABCCQXgJoCenlT+4QgAAEIAABdwmgJbhbN0gGAQhAAAIQSC8BtIT08id3CEAAAhCAgLsE0BLcrRskgwAEIAABCKSXAFpCevmTOwQgAAEIQMBdAmgJ7tYNkkEAAhCAAATSSwAtIb38yR0CEIAABCDgLgG0BHfrBskgAAEIQAAC6SWAlpBe/uQOAQhAAAIQcJcAWoK7dYNkEIAABCAAgfQSQEtIL39yhwAEIAABCLhLAC3B3bpBMghAAAIQgEB6CaAlpJc/uUMAAhCAAATcJYCW4G7dIBkEIAABCEAgvQTQEtLLn9whAAEIQAAC7hJAS3C3bpAMAhCAAAQgkF4CaAnp5U/uEIAABCAAAXcJVHBXNJ9KdubMmU2bNtnCNWvWrHz58vYSBwQgAAEIQMAdAmgJqa4LqQjfnfJaVm6eMj66f9f0QT1btmyZaiHIDwIQgAAEIBADAbSEGCAlOopUhBr1Gyc6VdKDAAQgAAEIJJgA8xISDJTkIAABCEAAAr4hgJbgm6qkIBCAAAQgAIEEE0BLSDBQkoMABCAAAQj4hgBagm+qkoJAAAIQgAAEEkwguVrC1KlT27ZtW+P876tf/eobb7xhxC8qKho9enReXl7VqlU7d+68bt06W6yTJ08OHjw4Nzc3Kyurd+/eO3bssEE4IAAB9wnQ6t2vIySEQOwEkqslNGrU6Omnn/7o/O+mm276xje+YRSCcePGTZgwYfLkycuXL69fv363bt0KCwuN0EOGDJk/f/7cuXOXLl165MiRXr16aYOB2MtDTAhAIL0EaPXp5U/uEEgsgeRqCbfeeustt9zS4vzvqaeeql69+gcffCBDwqRJk0aNGtWnT5/WrVvPmjXr2LFjc+bMUcEOHTo0Y8aM8ePHd+3atV27drNnz16zZs3ixYsTW2ZSgwAEkkeAVp88tqQMgdQTSK6WYMsje4DMA0ePHtW4w5YtWwoKCrp3725CK1eu3KlTp2XLlulyxYoVp0+ftkEakpAaYYJsUsahgYnDnl9IKJcQgEDaCdDq014FCACBshNIupYgY4BMCFIFBgwYoKGEK664QiqC5K5Xr56VXm7jqf+VKlWqXbt2eJD1MY6xY8fW/McvPz8/JDRTLovOnt28efMnn3yi/0VFmSI1ckKgBAK0+hIAEQyBzCGQ9L0Xtf3wypUrDx48+NJLL91zzz1LliwxcMqVK2cpaQzCe2n95SguaOTIkUOHDjUxZVPIUEXh6OcFo1/emtPw0L6NK7PzW3kLjhsCmUuAVp+5dYfkEAghkHRbgmwDOtDommuu0df/VVdd9fOf/1zTFSWEMR4Yafbu3WtMCwo6derUgQMHrJQ2yPoYh4wTZumE+R8SmkGXWTnndmuuWrtuBsmMqBCIToBWH50PoRDIIAJJ1xK8LGQY0HyCpk2bShtYtGiRCZJaIANDx44dddm+ffuKFSvaoN27d69du9YEedPBDQEIZAoBWn2m1BRyQiAigeSOODz66KM333yzhgO00FGzF999990333xTgwta7jhmzJjm539yVKtWrV+/fpJPMw369+8/bNiwnJycOnXqDB8+vE2bNlrvEFF0PCEAAQcJ0OodrBREgkCpCSRXS9izZ8/dd98tk4Be/9peSSqCtkaQrCNGjDh+/PjAgQM1uNChQ4eFCxdmZ2ebMkycOLFChQp9+/ZVhC5dusycObN8+fKlLh43QgACKSZAq08xcLKDQFIJlJM9MKkZpCBxzV6UFqK9FjRHIQXZlTELrWh4eN5fzMnRu9a+X6F6Tt0mLazjcMHWibe30+SvMubC7RAoHYFMaU2ZImeMtaBVIY+8uKpWw8sV/+DOz575t6tkRo3xXqJBoIwEoremlM5LKGNJuB0CEIAABCAAgVQSQEtIJW3yggAEIAABCGQSgeTOS8gkEsgKAQhAILUEvvjiiw0bNijPTz/91AeDv6mFR24pIoCWkCLQZAMBCEAghIBUhAFTFmTXu7Rg/Yc1mzARIQQPl04QYMTBiWpACAhAIJgEpCJo0mJWToNgFp9Su08ALcH9OkJCCEAAAhCAQHoIoCWkhzu5QgACEIAABNwngJbgfh0hIQQgAAEIQCA9BJi9mB7u5AoBCASTgF3XoOKztCGYz0BmlRotIbPqC2khAIHMJmDXNagYLG3I7LoMhvRoCcGoZ0oJAQg4Q8Csa5A4hXu2OyMUgkAgMoFY5yVcdtllf//7371pHDx4UJ5eH9wQgAAEIAABCPiJQKy2hL/97W9nzpzxlvzkyZM7d+70+uAuO4Gis2c3b95s0mnWrBnnYZYdKSlAAAIQgECpCZSsJbz66qsm9bfeektHLxq3NIa33367SZMmpc44IDcK1KZNm0xhY3nrH/28YPTLW3MaHjq6f9f0QT05HDIgzwnFhAAEIOAmgZK1hNtuu02ilytX7p577rFlqFixolSE8ePHWx8cXgJWOZBhYOzrG6pfkhf7Wz8rJ8+cK+1NEDcEIAABCEAg9QRK1hLOnj0rsZo2bbp8+fLc3NzUi5iJOcp+8N0pr2Xl5u3buDI7vxVv/UysRGSGAAQgAIGStQTDaMuWLcCKi4BUBCkHR/bvMnfZCQeyLhQVxZUSkSEAAQhAAALpIRCrliDpNBFBv7179xrrgpH317/+dXoEz7Rc7YQDY13INPGRFwIQgAAEgkggVi3hiSeeePLJJ6+55poGDRpojkIQUZW5zGbCgbUuxJieneKg+LHMf4wxWaJBAAIQgAAESiQQq5Ywbdq0mTNn3n333SWmSITEErBTHGKf/5hYAUgNAhCAAAQCSyBWLeHUqVMdO3YMLKb0FtxMcUivDOQOAQhAAAIBJBDr3ov33XffnDlzAgiIIkMAAhCAAAQCSyBWW8KJEyemT5++ePHitm3barMEy2vChAnWjQMCEIAABCAAAT8RiFVLWL169dVXX62Sr1271pafaYwWBQ4IQAACEICA/wjEqiX84Q9/8F/hKREEIAABCEAAAlEIxDovIUoSBEEAAhCAAAQg4EsCsdoSbrzxxojjC++8844vuVAoCEAAAhCAAARi1RLMpATD6/Tp0ytXrtQEBe/5T6CEAAQgAAEIQMBnBGLVEiZOnBhS8tGjRx85ciTEk0sIQAACEIAABHxDoPTzEu666y4OcUjec2BOh/rkk084HSp5kEkZAhCAAASiE4jVlhCeyvvvv1+lSpVwf3wSQoDToRKCkUQg4AiBL774YsOGDRLm008/LeJYWEdqBTFiIBCrltCnTx+bmh7x3bt3f/TRR4899pj1xJFwAqU7HSrhYpAgBCBQdgJSEQZMWZBd79KC9R/WbNKm7AmSAgRSQyBWLaFmzZpWoIsvvrhly5Y6IrJ79+7WEwcEIAABCEQhIBWhVsPLC/dsjxKHIAi4RiBWLeE3v/mNa6IjDwQgAAEfE7CDFKaMrVq1qlAh1h7bx1goWooJxPfMrVixQnYzbZxwxRVXtGvXLsWykh0EIACB4BCwgxQqcuGebdMGXdSmDUMVwal/V0oaq5awd+/eO+644913361Vq5bmJRw6dEj7LM2dO/eSSy5xpSjIAQEIQMAlAl5jQOkmLZpBCpfKhCyBIxCrljB48ODDhw+vW7dOVi9BWr9+vbZUevDBB//nf/4ncMwoMAQgAIEYCHiNAbFPWjx79oxUCiVfOsUiBrmIAoE4CMSqJbz55ps6NtqoCEpeIw5Tpkxh9mIcpIkKAQgEj4A1BsQ+afHovl1jF5zIbXw8dsUieFwpceoIxLqr0tmzZytWrOiVS5fy9PrghgAEIACBshPIuqSRVkNk5TQoe1KkAIEyEohVS7jpppseeuihXbt2mfx27tz58MMPd+nSpYzZczsEIAABCEAAAs4SiFVLmDx5cmFhYZMmTS6//PJmzZo1bdpUl88++2z0go0dO/baa6/Nzs6uW7fubbfdpv2GbXxNgdRJEHl5eVWrVu3cubNmPNigkydPahpEbm5uVlZW7969d+zYYYOC7LB7NgvjmTNngoyCsrtMgFbvcu0gGwTiJRCrlpCfn//xxx+/9tprQ4YM0aTF119/XasiGzVqFD2/JUuWDBo06IMPPli0aJGm+2oew9GjR80t48aNmzBhgpSP5cuX169fv1u3blI7TJCymD9/vhZQLF26VAdK9erVi5eiyJzfs3nlw/P+8t0pr23atCk6eUIhkC4CtPp0kSdfCCSDQMmzF995553vf//7etPXqFFD73L9JIdWQl555ZXTpk274YYbooilOY82VPsyyaIg3eJrX/uaDAmTJk0aNWqU2fh51qxZ9erVmzNnzgMPPKCUZ8yY8cILL3Tt2lX3zp49WwqKJk726NHDJhVYh9mzObDFp+AZQYBWnxHVhJAQiJFAybYEvc7vv/9+qQjeFLVhs97oMgZ4PaO79fpXhDp16uj/li1bCgoK7BKJypUrd+rUadmyZQqSGnH69GkbpCGJ1q1bmyBv+hqV0MpM+/MG4YYABBwhQKt3pCIQAwKlJlCylrBq1aqvf/3r4RnoRa43erh/RB8ZD4YOHXr99dfrla8IUhH0X/YDG1lu46n/lSpVql27dniQ9ZFDY5/SVMxPxgZvEG4IQMAFArR6F2oBGSBQRgIlawl79uwJWQNpstSO4vv27Ysxe41ZrF69OmQLJu30bG9Xh+K9tP5yRAwaOXKkPlPMb/t2V05P0fwJTS3Ub/PmzZwN661E3AEkEJBWH8CapciBIlDyvISGDRuuWbNG6xpCuOit36BBTMt5tWDh1Vdffe+99+xsR01XVGoyG9gUtAO0MS0o6NSpUwcOHLDmBAV17NgxJHcNUugX4pn2S00q1NTCrNy8fRtXZuef26SSHwSCSSA4rT6kfsu+K3NIglxCIL0ESrYl3HLLLY8//viJEye8gh4/fvzHP/6xVh94PcPdMgPoe+L3v/+9pkBq8aSNILe0AS18MD5SCzQv2qgC7du3l+nCBu3evXvt2rXhWoJNygWH14RQLSevRv3GVWvXdUEwZIBA6gkEpNUXB9bsyvzIi6v0959zl5w4/qWes7i78IeAswRKtiX86Ec/0mu+RYsWet+3bNlS4wJqBtqeWa9GLVKIXjAtg9TKhVdeeUVbJphpB5pJoA0SlIiWO44ZM6b5+Z8c1apV69evn1JThP79+w8bNiwnJ0dTHYcPH65j0Mx6h+h5pTEUE0Ia4ZO1awQC0upDsFsTgg5fqF43XzsnKkLsuzKHpMYlBNwhULKWoIEALTH43ve+p6kA+kqQ6HrHa13ic889551+GLFIU6dOlb82TbKhWg9577336nLEiBEySAwcOFCDCx06dFi4cKE0CRNt4sSJmvTQt29fRdD2jjNnzixfvrxNwU2HRhlkQjiy///3pnRTSKSCQAoIBKfVe2Hag504fMGLBbcPCJSsJaiQjRs31jZKep3ro1mKgr7/7aSB6AiMVhExjlQN7b2oX3holSpVtKtjiRs7ht+IDwQgkHYCgW315mAn7AdpfwIRILEEYtISTJbSDLTdcmKzJzUIQAACEIAABJwlUPLsRWdFRzAIQAACEIAABJJKAC0hqXhJHAIQgAAEIJDBBNASMrjyEB0CEIAABCCQVAJxzEtIqhwkHjsBc4S0ia/drtxfABJ70YgJAQhEJHD27BmtsTRBrVq10iqwiNHwhEDCCfCoJRxp0hM8f4T01pyGh47u3zV9UE9tYpH0LMkAAhBIK4Gj+3aNXXAit/Hxwj3bpg26SLvIpFUcMg8QAbSEjKxsjpDOyGpDaAiUgUDWJY3MZk1lSINbIRA3AeYlxI2MGyAAAQhAAAIBIYCWEJCKppgQgAAEIACBuAkw4hA3MnuDTrLQZpS65JxoywQHBCCQVALeaYzKiJmMSaVN4iKAllD6x4BDnkrPjjshAIFSEbDTGHU3MxlLhZCb4iOAlhAfr5DYHPIUAoRLCEAg2QSYxphswqTvJcC8BC8N3BCAAAQgAAEIXCCAlnCBBS4IQAACEIAABLwE0BK8NHBDAAIQgAAEIHCBAFrCBRa4IAABCEAAAhDwEmD2opdGhrk50CHDKgxxIQABCGQaAbSETKsxj7wc6OCBgRMCEIAABBJPAC0h8UxTmSIHOqSSNnlBwEvgiy++2LBhg/HRgY1FRUXeUNwQ8AcBtAR/1COlgAAEUk1AKsKAKQuy612qjAvWf1izCec0proKyC8FBNASUgCZLCAAAX8SkIpgzmks3LPdnyWkVIEnwBqHwD8CAIAABCAAAQgUQwAtoRgweEMAAhCAAAQCT4ARh1gfAXsCpG5o1qxZ+fLlY72TeBCAAAQgAIHMJICWEGu92RMgj+7fNX1Qz5YtW8Z6J/EgAAEIQAACmUkALSGOejMnQMZxQ6qisr1SqkiTDwQgAIFgEUBL8EN9s72SH2qRMkAgTgJnz57RPg3mplatWlWoQH8eJ0Gix0CApyoGSJkQhe2VMqGWkBECiSRwdN+usQtO5DY+fnj3lmE9Pm3RooVJHY0hkZQDnxZaQuAfAQBAAAIZSyDrkkbasEG7NYxdsFrqgspRuGfbtEEXtWnDFk8ZW6mOCY6W4FiFIA4EIACB+AkYdSH++7gDAiUQQEsoARDBEIAABLwE7PENnN3gxYLbrwTQEvxas5QLAhBICgF7fANnNySFL4k6RoC9Fx2rEMSBAAScJ2COb8jKaeC8pAgIgbISwJYQN0G7OcHmzZs5KjZufNwAAQhAAAKZQwAtIe66spsT7Nu4Mju/Vdz3J/MGq8EoE7aRTiZp0oYABCAQCAJoCaWpZrM5wZH9u0pzczLvsRoM20gnEzNpQwACEAgKAbQEv9U02yv5rUYpDwQgAIH0EWD2YvrYkzMEIAABCEDAbQJoCW7XD9JBAAIQgAAE0kcguVrCe++9d+utt+bl5ZUrV+7ll1+2xSwqKho9erT8q1at2rlz53Xr1tmgkydPDh48ODc3Nysrq3fv3jt27LBBOCAAAfcJ0OrdryMkhEDsBJKrJRw9evSqq66aPHlyiEDjxo2bMGGC/JcvX16/fv1u3boVFhaaOEOGDJk/f/7cuXOXLl165MiRXr16nTlzJuR2LiEAAWcJ0OqdrRoEg0ApCCR39uLN538hYsmQMGnSpFGjRvXp00dBs2bNqlev3pw5cx544IFDhw7NmDHjhRde6Nq1q4Jmz56dn5+/ePHiHj16hCTCJQQg4CYBX7Z6uyuzmLMxs5sPHlIliUBybQkRhd6yZUtBQUH37t1NaOXKlTt16rRs2TJdrlix4vTp0zZIQxKtW7c2QSFJaWDisOcXEsolBCDgFIFMb/VmV+ZHXlylv/+cu+TE8RNO4UUYCCSPQBq0BKkIKo/sB7ZUchtP/a9UqVLt2rXDg6yPcYwdO7bmP36yN4SEcgkBCDhFIENbvUwIa87/ZD+oXjdfZzTrj42ZnXq0ECbZBJI74hBFes1ntKEag/BeWn85igsaOXLk0KFDTUzZFFAUvNBwQ8BNAt5mXlzTluTFBaW+1Wf0wU7eURJRbdWqVYUKaevw3XwgkSoWAml4aDRdUZLp26JBg/8/K2Xv3r3GtKCgU6dOHThwwJoTFNSxY8fwkmicQr9w/4T7aO7kpk2blCynNiScLQkGh0BmtXpvvZiDnQr3bPd6ZoTbqjiStnDPtmmDLmrTpk1GSI6QThFIw4hD06ZN1WUsWrTIgJBasGTJEqMKtG/fvmLFijZo9+7da9eujaglpAyiVITvTnnt4Xl/eXzOEk2GSFm+ZAQBPxHIrFbvG/JGxdEoiRy+KRQFSTGB5NoStJTRfIirVJq+tHLlyjp16lx66aVa7jhmzJjm539yVKtWrV+/foqjmQb9+/cfNmxYTk6OYg4fPlzKr1nvkGIu3uyycvNq1G/s4KkNXiFD3Bz7FAKEy5QR8EerTxkuMoKA4wSSqyV89NFHN954o0FgphHcc889M2fOHDFixPHjxwcOHKjBhQ4dOixcuDA7O9tEmzhxogbP+vbtqwhdunRR5PLlyzsO0UHxwo99skMnkpbjIh2sMt+IRKtPb1WePXtGcy0lAys201sRvsk9uVqC9lXURKRwWJrEpL0X9QsPqlKlyrPnf+FB+MRFIOTYJzN0IrsIx0XGhZHI8RKg1cdLLLHxj+7bNXbBidzGxwvWf1izCRMREks3iKklV0sIIlGHy2yGThwWENEgAIEEEMi6pJHmImTijMsEFJ4kEk0ALSHRRB1Lz05QYI2GYzWDOBCAAAQygABaQgZUUllEtBMU9m1cmZ3fqixJcS8EgkDAu80AQ/tBqHHKGJ0AWkJ0Pn4INRMUMmuNhh+4U4bMJODdZoCh/cysQ6ROJAG0hETSJC0IQMAHBMw2AyoIQ/s+qE2KUEYCadhVqYwSczsEIAABCEAAAqkhgC0hMme7uwCT/iIDwhcCEIAABAJAAC0hciXb3QWY9BcZEL4QgEDmELBbLWlupqS2xz5xBFTm1GHaJEVLKBZ9Jm7MXGxhCIAABAJMwLvVUoWs2rmNmwsGR0AF+ImIo+hoCXHAIioEIACBDCVgt1qqkJ2rPZcytBSInXoCzF5MPXNyhAAEIAABCGQGAWwJmVFPyZDSztBU4pz/lAzCpAkBCEAg0wmgJWR6DZZefjtDk/OfSg+ROyEAAQj4mgBagq+rt6TCcf5TSYQIhwAEIBBoAsxLCHT1U3gIQAACEIBAFAJoCVHgEAQBCEAAAhAINAG0hEBXP4WHAAQgAAEIRCGAlhAFDkEQgAAEIACBQBNg9mLgqr/o7FkdTqFic0RF4OqeAkMAAhCIkwBaQpzAMj/60c8LRr+8NafhIY6oyPzKpAQQSAABHe6wYcMGmxCHO1gUOEQALSGIj0FWTl6N+o2P7N8VUnj2WQoBwiUEgkBAKsKAKQuy612qwnK4QxBqPK4yoiXEhcvnkdlnyecVTPEg4CFgD4r89NNPq9fNN4c7WE9FxKjgoRVcJ1pCcOveltw7U6HaeTODDcIBAQj4lYD3oMiaTdqYYlpPjAp+rfd4y4WWEC8xH8ZnpoIPK5UiQSAGAvagSG9c4+n1wR1kAmgJQa79C2UvbqbChRi4IOBrAnYGn8zvRUVFvi4rhYNAHATQEuKAFZyodgxCRea4yODUe5BLamfwFaz/0JrfgwyEskPAEEBL4EmIQMCOQXBcZAQ6ePmUgCb5awZf4Z7tPi0fxYJAaQigJXyJml0KyI5DZgziS3S4gAAEAkPAu9hBhWa9Q2BqPrSgaAlfImKXArLj0Je4cAEBCASMgF3soHKz3iFglf+l4qIlfAmHLrJyI+84FBqPawhAAAK+JsBiB19Xb6yFQ0uIlRTxIAABCASTgHf0gaGHoD0DaAlBq3HKCwEIQCA+Anb0gaGH+MD5IjZawrlqZNKiLx5mCgEBCCSLAKMPySLrfLpoCeeqiEmLzj+oCAiBxBOwOykpaTZTSjxfUvQFAbSE/69GJi1GfJ5j3F7JGmOUCLswRSSJp4ME7E5Kko3NlBysIERygQBaggu14K4MMW6vZI0x7MLkbl0iWSQCZiclhbCZUiQ8+EHgIrQEHoISCJjtlbxGBd0QbjAwxpgS0iIYAhDwCwHveI1d+BDR0y8lDmg50BICWvHxFtsaFXTjkb07Rva88rLLLtNAgy7Lly8f11aVDE/EC5/4EHCQgB2vObx7y7Aen7Zo0UJCanrHhIV/za7fmNUQDlZZ6URCSygdtyDeZfdsPrJ/1+iXV+Y0PKQdKi+uVjOnYdPwrSrDVQHrI5Vi7Osbql+Sx/BEEB8jyuwjAvbki7ELVuc2Pq6SmekdOg7DW8qIBoaInt67cDtCAC3BkYrIMDHsSdMVqufUqN9YekNIAcJnKlgfo1LoLnuLVSDkEz6WYaPhgAAE3CRg10lGnN5hrQ5eA4P19JoiVDo7eOFmSQMolaNawnPPPffMM8/s3r37yiuvnDRp0g033JCMurEvp7gM5smQxDdp2ukLQlot59xe1+E+sagUvgFCQWInkJpWH7s8xAwn4N2EMfra0ZCY1evmy8AQ0VOKhTVFeNWI8NzxSQsBF7WEefPmDRkyRF3Gdddd98tf/vLmm29ev379pZdemihAXuXAmL7DDeaJyito6djpCxZpuI9lEq5A2CDrsJUlH8wMFov/HMlu9V5i1tYd/T3nvQW3IWA3YdRl9LWjEWNG9FRS1hRhOds6Mj7hBgZvhPBQmw6OshNwUUuYMGFC//7977vvPhVPhoS33npr6tSpY8eOLWNp7fvGjotb03f4120Z8wry7XYwwkII9zFBURSI8MoKnzKpRIzeYCNH8bHCRHSEpxAxWohn6e4KSaQUl3HlG1fkUgiTqFuS1Ortu0QOiVqhwrkez86wi/6eS1TRfJaOfaNHHFzwFjZizIie9i5rbLB1pCBrYLC1KU8bwYbK00bwVrf8jRphQ+VjPY07yn/vXZmijiRWZue0hFOnTq1YseKHP/yhrbbu3bsvW7bMXhrHyfM/4z506JAchw8fDokTcrlx48b+T8+sWuuSA9s+rZ53eeXsWmdOnTy8e3P5i84c2bP94sJDKXZIvLTkW8ZMEyx2tRqnTxyzFXHs84K1ayseOXLkb3/723/OfddbWUf27Rw+bVONunmqvvJVqstx/OC+x+7o3KRJExs5ik/IwxByGZ5CSISIl6W7K2JScXnGla838owf3tu8efPoeZl2VFRUFD1aYkOT1+rXrVt3/5hfVa1d9/Otfy1fJbtmvYaSXO4aDVtWrX38zOlTh3d+VrH8udIcLtha4fAhua0jgZ4JTCoZ4rmT5p6/rhj54TFVk60jofvi1ImVK1eqW9Dcpp/+9l3VpjxtBBsqTxvBW93HD+z9Qd/O+qKwoYppPeWO/rN3xX5L9ARTEOqV+flH79PAffRMS2j16g6c+u3cuVPl+dOf/mSleuqpp7TGxl4ax49//OPoxSYUAhAoNYHt27eHtLikXtLqS11T3AiBRBEortU7Z0swBS5Xrpwtubon76XxHzly5NChQ4377Nmzn3/+eU5OTng0m0iSHFLB8vPzBbdGjRpJyiKxySJwYnmGpOYDvGpuhYWFeXl5IUVLwaW3/aam1btWX8gT/TGDT5L4RG/1zmkJubm52qWnoKDA4ti7d2+9evXspXFUPv+znrVq1bLu1DukImSKlmDgIHBSH5JMx1uzZs2k8glPPL2t3rX6Qp7wJ8TrAx8vjXB36fhEafUXh+eRXp9KlSq1b99+0aJFVgy5O3bsaC9xQAACPiNAq/dZhVIcPxFwzpYguBpKuPvuu6+55pqvfvWr06dP37Zt24ABA/wEnbJAAAIhBGj1IUC4hIAjBMqPHj3aEVGsGK1bt9YkgzFjxvzsZz87fvz4Cy+8cNVVV9lQ1xwaH+ncubNZYeWabBHlQeCIWBLlCd7SkUxXq3etvpAn+vMDn9TzKadpC9FzJRQCEIAABCAAgWAScG5eQjCrgVJDAAIQgAAEHCSAluBgpSASBCAAAQhAwAkCaAlOVANCQAACEIAABBwkgJbgYKUgEgQgAAEIQMAJAmgJsVaDjpu69tprs7Oz69ate9ttt33yySf2Ts0A1VIRbVdXtWpVrXfQ1vE2yBGHhNfGdjpp08jjrMDaqfeuu+7SCpdq1apdffXVOtHDWYF1nsqPfvSjpk2bqtIvu+yyJ598UnuAuibte++9d+utt+rJVO2//PLL9mmM8gDogJTBgwdrm6OsrKzevXvv2LHD3uVjh0670AlzpjYvv/xybQCvoyVSX14dhCsZqlSpoj1j/vjHP6ZeAJtjlO7OxkmLI6QrS4sMyrS4niot8kTpixIjj/oLfrEQ6NGjx29+85u1a9fq3JGePXvqJGudPmJufPrpp6U9vPTSS2vWrLn99tsbNGignURjSTM1cT788EMdidS2bduHHnrIZYG1zXbjxo3vvffeP//5z1u2bFm8eLHOLHFW4J/85CfSZv73f/9Xov7ud7+rXr26zi91TdrXX3991KhRejLVWcyfP98+b1GeWO1N0rBhQ21l9vHHH994441ahKw+yN7oV8cbb7yhB0/Hz3722WevvPKKvgSGDRuW4sLOnTu3YsWKzz///Pr169VUpaVt3bo1xTLY7KJ0dzZO6h3hXVnqZVCOUXqqtMgTpS9KiDwXJSSVoCWiTaPV7S5ZskQF1xdk/fr11e0aCCdOnNBWl9OmTXOEifbk1zGA6vQ7depktARnBf7BD35w/fXXh3NzU2Bpit/5znestH369JEVRJduSuvVEqJIePDgQb2o9Loy5dIH08UXX/zmm2/aYgbEMW7cOH3Tp7iwX/nKV6Si2Uz/6Z/+SUfj2ss0OrzdXRrFCO/K0iVMcT1VuuQpri9KlDyMOJTGJGPOqq5Tp45u1qekTp3Q8dYmIZ0vofdx+FHXpckmEfcMGjRIz1DXrl1tYs4K/Oqrr2rDzX//93/Xl1y7du30UWVkdlNgKTRvv/22DrmXkKtWrVq6dOktt9wit5vS2tqPLqGGeE6fPm0fZg1VaLMjdx5mbymS6lYDN607qbl4EzdnZ1vyCpLbEfLe7s4rc4rd4V1ZigWw2RXXU9kIKXYU1xclSgwXd2hOVNmSlI4UNO0mq4pRB6oszMFU3vOo5JapMEm5x5WsPgplN16+fLn3LmcF3rx589SpU8X20UcflWnxwQcflMr17W9/202B9T2h3lMffNoM7syZMzrf/Fvf+pbjz4N5DKLwVJCOVKhdu7Z9YPQwm/jWx/cODTo8++yz48ePT2VJ9+/fr6copBtxgXxId5dKJt68InZl3gipdBfXU6VSBm9exfVF3jhlcaMlxE3v+9///urVq/Xt6L2zxENvvZFT49Z51hpiWLhwoSZDhefooMCyhMuWoJ25Ja1sCZoEKqVBWoIR3jWB582bN3v27Dlz5lx55ZWaqqKZofryvueee9yUttQPgF4SXvLh6WSKj+YXP/HEExGllRqtB88E7dq16+tf/7oMWvfdd1/EyEn19KJ2hHzE7i6pEMITj96VhcdPtk/0nirZuYenH70vCo8frw9aQnzENP1b5iZNHW/UqJG5U5MS5JDWr0mLxifiUdfxZZOI2LIeSxJNljaJ6UtFYk+ePNmsznBQYAG84oorbNFbtWplpt25SfiRRx7RsPEdd9whgdu0aSPrkWZfS0twU1pLVY4oEipIpu8DBw5Yc4IeIX+cyKq3naksLwrj1txe45CKoAmb5pC58GhJ9Ynx7OykyhCeeHh3Fx4nBT7FdWVajyNLXgoECMmiuJ4qJFrKLovrixIlAPMSYiUp1V4dze9///t33nlHM5vsbXKrb9X0QOOjTlazGl3oWLt06aI1F/rMNT99Ld15551ya9memwJfd9113vWlGvLXkgdRdZPwsWPHNLPPPgbqrfSF4ay0Vs7oEkqn1OxF+zDv3r1bi3pceJi98pfOrdewhoci/oyxTVM1tYz5n//5n7WUyVuzpcsu3rtcOzu7uO4u3nIlJH5xXVlaVASVqLieKiGFLUUixfVFpUgq8i16GvjFQuB73/ueFi+8++676jrNT3VjbtQCBwVJgdBbWYPT0jSdWglphLRrHHTppsCai6CjNTXAv3Hjxv/+7//Wlgky6TtLWGYDrRg0KyFV9XoJjRgxwjVpNS38L+d/avwTJkyQ0yyui/IAaJq97GRahqoZLTfddFNAVkJKRWjWrJnKq/0h/tG+d5vaTNl/sxJyxowZWgmpASythNQuDinLPSSjKN1dSMzUX3q7stTnrhyj9FRpkSdKX5QQeVgJGSvGcCVL3xzmZn1EahsWfaBrtt3XvvY16QqxJprCeN6m5azACxYs0JxQYdQ33/Tp0y0eBwWWIqhpH9o2Q1+iMs9oWwLZP117Hv7whz+EPLfqUCRkFJ46q102M83w125RvXr12rZtm60FHzvUlkNA6TL15Z0yZYrsZ7IryKRhFlqnXgaTYzgN292lSySbr7crs54pdhTXU6VYDJNdlL4oIfJwcnR4c8AHAhCAAAQgAIFzBC4MrMIDAhCAAAQgAAEIeAmgJXhp4IYABCAAAQhA4AIBtIQLLHBBAAIQgAAEIOAlgJbgpYEbAhCAAAQgAIELBNASLrDABQEIQAACEICAlwBagpcGbghAAAIQgAAELhBAS7jAAhcEIAABCEAAAl4CaAleGrghAAEIQOAcAe38qNOntKd7WXB4E9HGtUrw4MGDZUnQ3Ku9tLU9ZdnTIYVYCKAlxEIpcHHuvfdetWf9tGWythfUdq06ASjhFNTUTS7aNl9n5uogPnvitulclLu2zrX5autc+egWhcrT2wHZODgg4GMCOnzrgQceUJPU/qTa7LVHjx7vv/++Ka/axcsvv+xy2XUgiJqwNrNPnpAzZ840XYr+V69eXeeSaPd0m53pcLQ9ufWR45ZbblFkHRlqPNE/vHCMGy0hnAk+5wjo/Fw1ab2Jf/WrX2k70oEDByaDy/33369cpAq88sorOh/2rrvu8uais5j/67/+y/rMmjVLRyfYSxwQCBqBb37zm6tWrVJD0FloOpxWr7TPP//cHQg66y6KMNp5WpqNXslR4pQ9qEaNGupS9NOpJdKi+vbt6z1DLj8/37sbt04B1el9Onmn7Pn6OAW0BB9XbpmKZj5WdPBP9+7db7/99oULF5rkdAJ1//79dU6j9vlv2bLlz3/+c+Ov0ytkEti/f78uZXiQW7YBE6QjlXUar3GH/NeRTuo41Er/5V/+ZdCgQTphyBtBhw54m7Q+FOTjjYAbAsEhIFv90qVLf/rTn+p4ax338JWvfGXkyJE9e/YUAXP49b/+67/qHWzcn3322Te+8Q2Z6PRJfe211+r4LgtKEcaMGfOd73wnOztbZgkdmGKDdI5Ru3btdDSJjpDVW9b6F9fqFUF2x9tuu01tXDp9ixYt5FNcIt4RB1kNb731Vh1QrkOtrrzyytdff93kpZOu9HEvmSX53XffbfoTBR09evTb3/62/NVXjB8/3kSO+F8E1KXo17x585/85CfqiFavXm1j6miSv//973/605+Mj7oU9W9169a1EXCEE0BLCGeCz5cIbN68+c0339SBwsZXBwVJdfjtb3+r9vz4448/+uijcitIpzTl5OToiBq533vvPbn139yi3kEHtBh3cf/1SfS73/2uQ4cO3gi9e/eWwqGeUZ76rzjqWbwRcEMgOAT0jtRPwwo6Vyyk1MuXL5ePVGp9Qxv3kSNH9LqVcmA+qdVwdHCXvUsvWqMHyEao8cS//vWvCtKbWC9Rqf4rVqyQBX748OE2fnGt3kR4++23N2zYoAPHdURqlERsanLok0ClUBehrwvpPSqXPCW8Ooqrr776o48+Up+zZ88eWQLMXY888oiOLps/f74+V9SfSEJvahHd0mxkdFGQjs6yEWTPuPPOO+23h7QEaUs2FEdkAgk5M4pEfEZAn+w6u11qvr4qzHOjc4cjllG9jKygJqhPnz46TlBuTSwaNmyYDlNet27d6dOn1QW88cYb4berR5DyoVxkUVAu+hDZsmWLiSaHfNTBKan/+I//kKf+P/zww+b7xkSzccJTxgcCviTw4osv6vtbrVJj/DIkaPTBFlPtRS9RexniuOKKK5599lnjKTuEhvaMW69/fUlPnTpVl7/85S91Fqhe8yZInqYNmkvvf2+rV1+h7357IGqURMwJpdL7lVSbNm2kiHjTlPuxxx7Tl7311BCkBNB4gQ5A19tdJ2ubIBkDZMjUiaw2pnWY17+6FP1kRZBBVD421BwmKWgyokiL0ieNyq5REh2PrkN9TTQTx96CQwSwJeg55BeBgKyamt785z//efDgwRre038badq0afoQueSSS/T6f/755+03ikZJpeYrmpqfbtch2nLoy0aHEV933XX2dq9Der1yUbuVqaBZs2bqI9QjeCNodEM2hoKCAv1H6/eSwR1AAtLINZSuGQlqkmpr+krW13BEDnrZjxgxQspBrVq11E5lLbDtVPHbtm1r7jL2eU2K1KXsAXpfGpVdlyGjhMW1esXUK19vcZNg9ERMHP1/8MEHNRygbkGvZzsiIAuBNAlJa346Pl4xNXSin97lVh6pMjJ42KRCHNIA1KXopy8KDaxosqemVXnjqOwajJC+9etf/1qDGtZK6o2D20sALcFLA/cFAlLG9dpWi/rFL36hD4UnnnjChGl8Qd/0emHL9KemqE98O2VJWoKMB5s2bVq7du0NN9wgrVxagvoyzTRW072QtMelCc/KRT/1FzNmzNi4ceO8efM84ecGMtRZfOtb32rVqpXc3iDcEAggARkSunXrpsG+ZcuWaU6A3rIRIchE/9JLLz311FN//OMf1U71IrftVPG9r0YpCrIoyFNfjRGTkmeUVq9Q9RX2xiiJ2Dhy3HfffRrK1EtaIw765JCdQ54SQyMj597w//ipQ9DHRoxpmvRlQjBdivquoUOH6nNFIxrerOVW9zVlyhQpCnx4hJCJeImWEBELnl8ioJ7oZz/7mT5i5KtOR9ZOmRw1y0mtUWq+jWqmJugTQV8kmmlstQQ5bJwoDo1xKFSGh5A4aslSNWjPIVi4hIBMBbIZGA568Wsk3jJRO5UOofmM0g80lU+LlWxQcQ6lJquebYAffPCBjRml1ds4xhElkZCYWm4wYMAArVTU6KRMkgqVaUSfGZpcaV7z5r/5XFHprDwas9ASj5DUirtUr2JLZOP069dP2on6K0lrPXEURwAtoTgy+F8gICOB5iHLfCcvNV3NLXrrrbfUUDWOaKZKmaj6KJHiP3v2bMWXj3R5fb5oZpO5NHFC/h87dkyjCfqpe5Lmoe8kDTqExNFqyX379unjI8SfSwgEioDG42+66Sa1L5noNSlHY3Djxo3TQgYDQS9XtTU1Jb1E5aN2qhewvsnVsvRSNNaC6LgUTR/iGuPTxGQtOtCHgY0fpdXbOMYRJRFvTM03Uh+iUmhZk9YiylKoUE1p1AxlGQ61SkKWBlkr9W0g1UcDEJJK1hEVUHZKaT+S05ua1y3Dw/kepUCJa/mGcrGIbDTN7dBMSaVmfXBEIVAs6yj3EBRAArLdSd/XfCKp/5qlqLWRWo+gbkuvdi8N2ffUqo1aIKVB4w4Kvf76671xvG6lqaVN+ulGqQLqm8JHHLWTkiZC6r/3RtwQCBoBvSzV6CZOnChdXN/B0tGlQE+ePNlw0LIFrTLQB7qMfPJRNL0LZfaTDV+TGLzz/IvjpvQ1hC8VQSmMGjXKa6iP3uq9CUZJxBtNvYR0AikH2pdFTf65555TqNZSao2igiSwCqj5iRqRNArBM888o1Jr0VPXrl3Vn2gQ05ua13348GHTpShxMXnyySdVFm8E49Z0De9ASXgEfCyBcnEN+djbcEAAAhCAAAQg4HsC2BJ8X8UUEAIQgAAEIFBKAmgJpQTHbRCAAAQgAAHfE0BL8H0VU0AIQAACEIBAKQmgJZQSHLdBAAIQgAAEfE8ALcH3VUwBIQABCEAAAqUkgJZQSnDcBgEIQAACEPA9AbQE31cxBYQABCAAAQiUkgBaQinBcRsEIAABCEDA9wTQEnxfxRQQAhCAAAQgUEoCaAmlBMdtEIAABCAAAd8TQEvwfRVTQAhAAAIQgEApCaAllBIct0EAAhCAAAR8T+D/AEnrsmNNfzEWAAAAAElFTkSuQmCC\">\n",
        "\n",
        "Now the average of $28.9$ has been shifted to $0$, and we have negative values! The advantage of this method is that the values of outliers are suppressed, and they have a reduced size.\n"
      ]
    },
    {
      "cell_type": "markdown",
      "metadata": {
        "id": "WGot2NoMEtm6"
      },
      "source": [
        "In our case, we'll use the `StandardScaler` function from `sklearn`. Let's import and define it:"
      ]
    },
    {
      "cell_type": "code",
      "execution_count": 20,
      "metadata": {
        "id": "UDYeYmfnEtm7"
      },
      "outputs": [],
      "source": [
        "from sklearn.preprocessing import StandardScaler\n",
        "numerical_transformer = StandardScaler()"
      ]
    },
    {
      "cell_type": "markdown",
      "metadata": {
        "id": "ANu2_tbtEtm7"
      },
      "source": [
        "Now let's look at the other type of data: **categorical data**."
      ]
    },
    {
      "cell_type": "markdown",
      "metadata": {
        "id": "SGqCv_isEtm7"
      },
      "source": [
        "### 2 - Categorical Data\n",
        "Here, we want to consider the different types of categories, which could be named, ordinal or nominal."
      ]
    },
    {
      "cell_type": "markdown",
      "metadata": {
        "id": "ti1Kh4OHEtm7"
      },
      "source": [
        "#### Named Categories\n",
        "\n",
        "Machine learning algorithms and neural networks at a low-level can't work on text values (it has no inherent meaning to them), and we need to convert these into a number representation for them: for example, if we look at `gender`, we have `Male` and `Female` as strings. We need to convert these into numeric equivalents. We can do this by hand in Python by running something like:\n",
        "\n",
        "```python\n",
        "df['Gender'] = df[df['Gender'] == 'Male] = 0\n",
        "df['Gender'] = df[df['Gender'] == 'Female] = 1\n",
        "```\n",
        "\n",
        "This becomes increasingly cumbersome and time-consuming if doing this over a large range of values: `sklearn` provides us some tools to do this for us: we can use the `LabelEncoder` or `OrdinalEncoder` to convert labels to numbers automatically!\n",
        "\n",
        "We'll use `OrdinalEncoder` instead of `LabelEncoder` as it can process multiple columns simultaneously! Let's import it to get ready:"
      ]
    },
    {
      "cell_type": "code",
      "execution_count": 21,
      "metadata": {
        "id": "0gdEDBB2Etm7"
      },
      "outputs": [],
      "source": [
        "from sklearn.preprocessing import OrdinalEncoder\n",
        "label_transformer = OrdinalEncoder()"
      ]
    },
    {
      "cell_type": "markdown",
      "metadata": {
        "id": "4hp7CwgFEtm7"
      },
      "source": [
        "#### Ordinal Categories\n",
        "\n",
        "`LabelEncoder` works well for cases where we only have two categories. However, what about cases where the order (i.e., ordinal data) of the values is important: for example, the order of income classes low, medium, and high should be 0, 1, 2, for example, and not 2, 0, 1? The `OrdinalEncoder` can handle this for us in cases where the order matters by explicitly which value should be mapped to a certain number.\n",
        "\n"
      ]
    },
    {
      "cell_type": "markdown",
      "metadata": {
        "id": "uxX1BNRNEtm7"
      },
      "source": [
        "#### Nominal Categories\n",
        "\n",
        "Finally, some categories are unordered, however, and we **do not** want them to be labeled as a rank. Rank implies a relative comparison where one item is considered higher or lower than another. For example, it would be problematic if we started treating blood type or ethnicity as ordinal data - as one class would be treated as a 'greater' value as another.\n",
        "\n",
        "In our data, we have work type (`Private, Self-employed, children, Govt_job, Never_worked`) as categorical data that we want as nominal (unordered) categories. We can use \"One Hot Encoding\" to process into \"one hot\" columns, where each category is a binary yes/no (1/0), such as in the table below. This means the machine learning algorithms will look at each class individually.\n",
        "\n",
        "| Work Category | →| work_private | work_selfEmployed | work_children | work_govt | work_never |\n",
        "| ------------- | - | ------------ | ----------------- | ------------- | --------- | ---------- |\n",
        "| private       |  | 1            | 0                 | 0             | 0         | 0          |\n",
        "| selfEmployed  |  | 0            | 1                 | 0             | 0         | 0          |\n",
        "| children      |  | 0            | 0                 | 1             | 0         | 0          |\n",
        "| govt          |  | 0            | 0                 | 0             | 1         | 0          |\n",
        "| children      |  | 0            | 0                 | 1             | 0         | 0          |\n",
        "| never         |  | 0            | 0                 | 0             | 0         | 1          |\n",
        "\n",
        "The final encoder `sklearn` tools we'll use for this is `OneHotEncoder`, so let's import that too:"
      ]
    },
    {
      "cell_type": "code",
      "execution_count": 22,
      "metadata": {
        "id": "T6derzdQEtm7"
      },
      "outputs": [],
      "source": [
        "from sklearn.preprocessing import OneHotEncoder\n",
        "nominal_transformer = OneHotEncoder()"
      ]
    },
    {
      "cell_type": "markdown",
      "metadata": {
        "id": "R2TzWl-OEtm8"
      },
      "source": [
        "### Defining our column types"
      ]
    },
    {
      "cell_type": "markdown",
      "metadata": {
        "id": "N2PCBL0aEtm8"
      },
      "source": [
        "We need to define all the columns in our dataset based on how we want to pre-process them: as numerical variables, as nominal (categorical) variables, or as named \"labelled\" (categorical) variables. We won't need to do anything with some variables so that we can include them as `pass_columns.`"
      ]
    },
    {
      "cell_type": "markdown",
      "metadata": {
        "id": "kxDDVzRTV4vL"
      },
      "source": [
        "In the cell below, can you create a list of column names that have numerical and nominal values that would be relevant to our training model?"
      ]
    },
    {
      "cell_type": "code",
      "execution_count": null,
      "metadata": {
        "id": "52s4IRiMV4vL"
      },
      "outputs": [],
      "source": []
    },
    {
      "cell_type": "markdown",
      "metadata": {
        "id": "zUSBLIgdV4vL"
      },
      "source": [
        "Below we define the numerical columns as `age`, `avg_glucose_level` and `bmi` and the nominal columns as `work_type` and `smoking_status`."
      ]
    },
    {
      "cell_type": "code",
      "execution_count": 23,
      "metadata": {
        "id": "JYj8k0PCEtm8"
      },
      "outputs": [],
      "source": [
        "numerical_columns = [\"age\", \"avg_glucose_level\", \"bmi\"]\n",
        "nominal_columns = [\"work_type\", \"smoking_status\"]"
      ]
    },
    {
      "cell_type": "markdown",
      "metadata": {
        "id": "2kc6wydzV4vL"
      },
      "source": [
        "The data within the columns `hypertension` and `heart_disease` are in a good form for machine learning training because each value corresponds to a 0 or a 1 if they have or do not have hypertension or heart disease.\n"
      ]
    },
    {
      "cell_type": "code",
      "execution_count": 24,
      "metadata": {
        "id": "cAuEjXXJV4vL"
      },
      "outputs": [],
      "source": [
        "pass_columns = [\"hypertension\", \"heart_disease\"]"
      ]
    },
    {
      "cell_type": "markdown",
      "metadata": {
        "id": "x9omIy9dnjA9"
      },
      "source": [
        "**Define the label_columns to include the suitable columns which have strings, and we want to convert to labels. Have a look at the DataFrame and decide!**"
      ]
    },
    {
      "cell_type": "code",
      "execution_count": null,
      "metadata": {
        "id": "OJalR-6PV4vL"
      },
      "outputs": [],
      "source": []
    },
    {
      "cell_type": "markdown",
      "metadata": {
        "id": "5gyLoR4GV4vL"
      },
      "source": [
        "Below we take `gender`, `ever_married` and `residence_type` as columns suitable for converting strings into labels."
      ]
    },
    {
      "cell_type": "code",
      "execution_count": 25,
      "metadata": {
        "id": "WkGor0U0oMFW"
      },
      "outputs": [],
      "source": [
        "label_columns = [\"gender\", \"ever_married\", \"residence_type\"]"
      ]
    },
    {
      "cell_type": "markdown",
      "metadata": {
        "id": "QshxSYUbEtm8"
      },
      "source": [
        "### 3c. using Data Pipelines\n",
        "\n",
        "We can use `sklearn` pipelines and column transformers in order to easily apply these methods to large datasets with different datatypes and many columns easily!\n",
        "\n",
        "A pipeline in machine learning refers to a sequence of data processing steps, including transformations and model fitting, that are applied in a specific order. It allows you to conveniently organize and automate multiple steps of data preprocessing, feature engineering, and model training. Each step in the pipeline can consist of various methods and transformations, such as scaling, imputation, feature selection, or model fitting.\n",
        "\n",
        "In the pipeline, we'll string several actions together, whilst column transformers let us choose which columns we might want to perform certain transformations to."
      ]
    },
    {
      "cell_type": "code",
      "execution_count": 26,
      "metadata": {
        "id": "gsooudy_Etm8"
      },
      "outputs": [],
      "source": [
        "# Import the relevant classes from Sklearn!\n",
        "from sklearn.pipeline import make_pipeline\n",
        "from sklearn.compose import ColumnTransformer"
      ]
    },
    {
      "cell_type": "markdown",
      "metadata": {
        "id": "Gk75HtHOEtm8"
      },
      "source": [
        "Let's define a run of our pipeline. In thge below cell we're defining which columns are numerical, nominal and label variables, and what the transformer is that we want to use to handle them. We've defined all of these in sections above."
      ]
    },
    {
      "cell_type": "code",
      "execution_count": 27,
      "metadata": {
        "id": "-h5NNX0QEtm8"
      },
      "outputs": [],
      "source": [
        "pipeline = ColumnTransformer(\n",
        "    [\n",
        "        (\"num\", numerical_transformer, numerical_columns),\n",
        "        (\"ord\", nominal_transformer, nominal_columns),\n",
        "        (\"lab\", label_transformer, label_columns),\n",
        "    ],\n",
        "    # We want to include columns in the dataframe that are already in a suitable format for ML!\n",
        "    remainder=\"passthrough\",\n",
        ")\n",
        "\n",
        "X_train_prep = pipeline.fit_transform(X_train)"
      ]
    },
    {
      "cell_type": "code",
      "execution_count": 28,
      "metadata": {
        "colab": {
          "base_uri": "https://localhost:8080/",
          "height": 244
        },
        "id": "LOgz84gTEtm8",
        "outputId": "b92d4f42-acab-4271-ceac-33fdcadc5712"
      },
      "outputs": [
        {
          "output_type": "execute_result",
          "data": {
            "text/plain": [
              "   num__age  num__avg_glucose_level  num__bmi  ord__work_type_Govt_job  \\\n",
              "0  1.721891               -0.452452 -0.239396                      0.0   \n",
              "1  0.348647               -0.652139  0.611146                      0.0   \n",
              "2 -0.360124               -0.284259 -0.030032                      0.0   \n",
              "3 -1.821965                1.107741 -1.979733                      0.0   \n",
              "4 -1.777666               -0.597638 -0.815146                      0.0   \n",
              "\n",
              "   ord__work_type_Never_worked  ord__work_type_Private  \\\n",
              "0                          0.0                     0.0   \n",
              "1                          0.0                     0.0   \n",
              "2                          0.0                     1.0   \n",
              "3                          0.0                     0.0   \n",
              "4                          0.0                     0.0   \n",
              "\n",
              "   ord__work_type_Self-employed  ord__work_type_children  \\\n",
              "0                           1.0                      0.0   \n",
              "1                           1.0                      0.0   \n",
              "2                           0.0                      0.0   \n",
              "3                           0.0                      1.0   \n",
              "4                           0.0                      1.0   \n",
              "\n",
              "   ord__smoking_status_Unknown  ord__smoking_status_formerly smoked  \\\n",
              "0                          0.0                                  0.0   \n",
              "1                          0.0                                  1.0   \n",
              "2                          1.0                                  0.0   \n",
              "3                          1.0                                  0.0   \n",
              "4                          1.0                                  0.0   \n",
              "\n",
              "   ord__smoking_status_never smoked  ord__smoking_status_smokes  lab__gender  \\\n",
              "0                               1.0                         0.0          1.0   \n",
              "1                               0.0                         0.0          0.0   \n",
              "2                               0.0                         0.0          1.0   \n",
              "3                               0.0                         0.0          0.0   \n",
              "4                               0.0                         0.0          0.0   \n",
              "\n",
              "   lab__ever_married  lab__residence_type  remainder__id  \\\n",
              "0                1.0                  0.0        23031.0   \n",
              "1                1.0                  0.0         8920.0   \n",
              "2                1.0                  0.0        16316.0   \n",
              "3                0.0                  0.0        48435.0   \n",
              "4                0.0                  1.0         8623.0   \n",
              "\n",
              "   remainder__hypertension  remainder__heart_disease  \n",
              "0                      0.0                       0.0  \n",
              "1                      0.0                       0.0  \n",
              "2                      0.0                       0.0  \n",
              "3                      0.0                       0.0  \n",
              "4                      0.0                       0.0  "
            ],
            "text/html": [
              "\n",
              "  <div id=\"df-0fce303e-d127-42d4-a866-c92779bc9d68\" class=\"colab-df-container\">\n",
              "    <div>\n",
              "<style scoped>\n",
              "    .dataframe tbody tr th:only-of-type {\n",
              "        vertical-align: middle;\n",
              "    }\n",
              "\n",
              "    .dataframe tbody tr th {\n",
              "        vertical-align: top;\n",
              "    }\n",
              "\n",
              "    .dataframe thead th {\n",
              "        text-align: right;\n",
              "    }\n",
              "</style>\n",
              "<table border=\"1\" class=\"dataframe\">\n",
              "  <thead>\n",
              "    <tr style=\"text-align: right;\">\n",
              "      <th></th>\n",
              "      <th>num__age</th>\n",
              "      <th>num__avg_glucose_level</th>\n",
              "      <th>num__bmi</th>\n",
              "      <th>ord__work_type_Govt_job</th>\n",
              "      <th>ord__work_type_Never_worked</th>\n",
              "      <th>ord__work_type_Private</th>\n",
              "      <th>ord__work_type_Self-employed</th>\n",
              "      <th>ord__work_type_children</th>\n",
              "      <th>ord__smoking_status_Unknown</th>\n",
              "      <th>ord__smoking_status_formerly smoked</th>\n",
              "      <th>ord__smoking_status_never smoked</th>\n",
              "      <th>ord__smoking_status_smokes</th>\n",
              "      <th>lab__gender</th>\n",
              "      <th>lab__ever_married</th>\n",
              "      <th>lab__residence_type</th>\n",
              "      <th>remainder__id</th>\n",
              "      <th>remainder__hypertension</th>\n",
              "      <th>remainder__heart_disease</th>\n",
              "    </tr>\n",
              "  </thead>\n",
              "  <tbody>\n",
              "    <tr>\n",
              "      <th>0</th>\n",
              "      <td>1.721891</td>\n",
              "      <td>-0.452452</td>\n",
              "      <td>-0.239396</td>\n",
              "      <td>0.0</td>\n",
              "      <td>0.0</td>\n",
              "      <td>0.0</td>\n",
              "      <td>1.0</td>\n",
              "      <td>0.0</td>\n",
              "      <td>0.0</td>\n",
              "      <td>0.0</td>\n",
              "      <td>1.0</td>\n",
              "      <td>0.0</td>\n",
              "      <td>1.0</td>\n",
              "      <td>1.0</td>\n",
              "      <td>0.0</td>\n",
              "      <td>23031.0</td>\n",
              "      <td>0.0</td>\n",
              "      <td>0.0</td>\n",
              "    </tr>\n",
              "    <tr>\n",
              "      <th>1</th>\n",
              "      <td>0.348647</td>\n",
              "      <td>-0.652139</td>\n",
              "      <td>0.611146</td>\n",
              "      <td>0.0</td>\n",
              "      <td>0.0</td>\n",
              "      <td>0.0</td>\n",
              "      <td>1.0</td>\n",
              "      <td>0.0</td>\n",
              "      <td>0.0</td>\n",
              "      <td>1.0</td>\n",
              "      <td>0.0</td>\n",
              "      <td>0.0</td>\n",
              "      <td>0.0</td>\n",
              "      <td>1.0</td>\n",
              "      <td>0.0</td>\n",
              "      <td>8920.0</td>\n",
              "      <td>0.0</td>\n",
              "      <td>0.0</td>\n",
              "    </tr>\n",
              "    <tr>\n",
              "      <th>2</th>\n",
              "      <td>-0.360124</td>\n",
              "      <td>-0.284259</td>\n",
              "      <td>-0.030032</td>\n",
              "      <td>0.0</td>\n",
              "      <td>0.0</td>\n",
              "      <td>1.0</td>\n",
              "      <td>0.0</td>\n",
              "      <td>0.0</td>\n",
              "      <td>1.0</td>\n",
              "      <td>0.0</td>\n",
              "      <td>0.0</td>\n",
              "      <td>0.0</td>\n",
              "      <td>1.0</td>\n",
              "      <td>1.0</td>\n",
              "      <td>0.0</td>\n",
              "      <td>16316.0</td>\n",
              "      <td>0.0</td>\n",
              "      <td>0.0</td>\n",
              "    </tr>\n",
              "    <tr>\n",
              "      <th>3</th>\n",
              "      <td>-1.821965</td>\n",
              "      <td>1.107741</td>\n",
              "      <td>-1.979733</td>\n",
              "      <td>0.0</td>\n",
              "      <td>0.0</td>\n",
              "      <td>0.0</td>\n",
              "      <td>0.0</td>\n",
              "      <td>1.0</td>\n",
              "      <td>1.0</td>\n",
              "      <td>0.0</td>\n",
              "      <td>0.0</td>\n",
              "      <td>0.0</td>\n",
              "      <td>0.0</td>\n",
              "      <td>0.0</td>\n",
              "      <td>0.0</td>\n",
              "      <td>48435.0</td>\n",
              "      <td>0.0</td>\n",
              "      <td>0.0</td>\n",
              "    </tr>\n",
              "    <tr>\n",
              "      <th>4</th>\n",
              "      <td>-1.777666</td>\n",
              "      <td>-0.597638</td>\n",
              "      <td>-0.815146</td>\n",
              "      <td>0.0</td>\n",
              "      <td>0.0</td>\n",
              "      <td>0.0</td>\n",
              "      <td>0.0</td>\n",
              "      <td>1.0</td>\n",
              "      <td>1.0</td>\n",
              "      <td>0.0</td>\n",
              "      <td>0.0</td>\n",
              "      <td>0.0</td>\n",
              "      <td>0.0</td>\n",
              "      <td>0.0</td>\n",
              "      <td>1.0</td>\n",
              "      <td>8623.0</td>\n",
              "      <td>0.0</td>\n",
              "      <td>0.0</td>\n",
              "    </tr>\n",
              "  </tbody>\n",
              "</table>\n",
              "</div>\n",
              "    <div class=\"colab-df-buttons\">\n",
              "\n",
              "  <div class=\"colab-df-container\">\n",
              "    <button class=\"colab-df-convert\" onclick=\"convertToInteractive('df-0fce303e-d127-42d4-a866-c92779bc9d68')\"\n",
              "            title=\"Convert this dataframe to an interactive table.\"\n",
              "            style=\"display:none;\">\n",
              "\n",
              "  <svg xmlns=\"http://www.w3.org/2000/svg\" height=\"24px\" viewBox=\"0 -960 960 960\">\n",
              "    <path d=\"M120-120v-720h720v720H120Zm60-500h600v-160H180v160Zm220 220h160v-160H400v160Zm0 220h160v-160H400v160ZM180-400h160v-160H180v160Zm440 0h160v-160H620v160ZM180-180h160v-160H180v160Zm440 0h160v-160H620v160Z\"/>\n",
              "  </svg>\n",
              "    </button>\n",
              "\n",
              "  <style>\n",
              "    .colab-df-container {\n",
              "      display:flex;\n",
              "      gap: 12px;\n",
              "    }\n",
              "\n",
              "    .colab-df-convert {\n",
              "      background-color: #E8F0FE;\n",
              "      border: none;\n",
              "      border-radius: 50%;\n",
              "      cursor: pointer;\n",
              "      display: none;\n",
              "      fill: #1967D2;\n",
              "      height: 32px;\n",
              "      padding: 0 0 0 0;\n",
              "      width: 32px;\n",
              "    }\n",
              "\n",
              "    .colab-df-convert:hover {\n",
              "      background-color: #E2EBFA;\n",
              "      box-shadow: 0px 1px 2px rgba(60, 64, 67, 0.3), 0px 1px 3px 1px rgba(60, 64, 67, 0.15);\n",
              "      fill: #174EA6;\n",
              "    }\n",
              "\n",
              "    .colab-df-buttons div {\n",
              "      margin-bottom: 4px;\n",
              "    }\n",
              "\n",
              "    [theme=dark] .colab-df-convert {\n",
              "      background-color: #3B4455;\n",
              "      fill: #D2E3FC;\n",
              "    }\n",
              "\n",
              "    [theme=dark] .colab-df-convert:hover {\n",
              "      background-color: #434B5C;\n",
              "      box-shadow: 0px 1px 3px 1px rgba(0, 0, 0, 0.15);\n",
              "      filter: drop-shadow(0px 1px 2px rgba(0, 0, 0, 0.3));\n",
              "      fill: #FFFFFF;\n",
              "    }\n",
              "  </style>\n",
              "\n",
              "    <script>\n",
              "      const buttonEl =\n",
              "        document.querySelector('#df-0fce303e-d127-42d4-a866-c92779bc9d68 button.colab-df-convert');\n",
              "      buttonEl.style.display =\n",
              "        google.colab.kernel.accessAllowed ? 'block' : 'none';\n",
              "\n",
              "      async function convertToInteractive(key) {\n",
              "        const element = document.querySelector('#df-0fce303e-d127-42d4-a866-c92779bc9d68');\n",
              "        const dataTable =\n",
              "          await google.colab.kernel.invokeFunction('convertToInteractive',\n",
              "                                                    [key], {});\n",
              "        if (!dataTable) return;\n",
              "\n",
              "        const docLinkHtml = 'Like what you see? Visit the ' +\n",
              "          '<a target=\"_blank\" href=https://colab.research.google.com/notebooks/data_table.ipynb>data table notebook</a>'\n",
              "          + ' to learn more about interactive tables.';\n",
              "        element.innerHTML = '';\n",
              "        dataTable['output_type'] = 'display_data';\n",
              "        await google.colab.output.renderOutput(dataTable, element);\n",
              "        const docLink = document.createElement('div');\n",
              "        docLink.innerHTML = docLinkHtml;\n",
              "        element.appendChild(docLink);\n",
              "      }\n",
              "    </script>\n",
              "  </div>\n",
              "\n",
              "\n",
              "    <div id=\"df-5cb9dc9e-ab95-4fc1-a8b3-402b39ae0526\">\n",
              "      <button class=\"colab-df-quickchart\" onclick=\"quickchart('df-5cb9dc9e-ab95-4fc1-a8b3-402b39ae0526')\"\n",
              "                title=\"Suggest charts\"\n",
              "                style=\"display:none;\">\n",
              "\n",
              "<svg xmlns=\"http://www.w3.org/2000/svg\" height=\"24px\"viewBox=\"0 0 24 24\"\n",
              "     width=\"24px\">\n",
              "    <g>\n",
              "        <path d=\"M19 3H5c-1.1 0-2 .9-2 2v14c0 1.1.9 2 2 2h14c1.1 0 2-.9 2-2V5c0-1.1-.9-2-2-2zM9 17H7v-7h2v7zm4 0h-2V7h2v10zm4 0h-2v-4h2v4z\"/>\n",
              "    </g>\n",
              "</svg>\n",
              "      </button>\n",
              "\n",
              "<style>\n",
              "  .colab-df-quickchart {\n",
              "      --bg-color: #E8F0FE;\n",
              "      --fill-color: #1967D2;\n",
              "      --hover-bg-color: #E2EBFA;\n",
              "      --hover-fill-color: #174EA6;\n",
              "      --disabled-fill-color: #AAA;\n",
              "      --disabled-bg-color: #DDD;\n",
              "  }\n",
              "\n",
              "  [theme=dark] .colab-df-quickchart {\n",
              "      --bg-color: #3B4455;\n",
              "      --fill-color: #D2E3FC;\n",
              "      --hover-bg-color: #434B5C;\n",
              "      --hover-fill-color: #FFFFFF;\n",
              "      --disabled-bg-color: #3B4455;\n",
              "      --disabled-fill-color: #666;\n",
              "  }\n",
              "\n",
              "  .colab-df-quickchart {\n",
              "    background-color: var(--bg-color);\n",
              "    border: none;\n",
              "    border-radius: 50%;\n",
              "    cursor: pointer;\n",
              "    display: none;\n",
              "    fill: var(--fill-color);\n",
              "    height: 32px;\n",
              "    padding: 0;\n",
              "    width: 32px;\n",
              "  }\n",
              "\n",
              "  .colab-df-quickchart:hover {\n",
              "    background-color: var(--hover-bg-color);\n",
              "    box-shadow: 0 1px 2px rgba(60, 64, 67, 0.3), 0 1px 3px 1px rgba(60, 64, 67, 0.15);\n",
              "    fill: var(--button-hover-fill-color);\n",
              "  }\n",
              "\n",
              "  .colab-df-quickchart-complete:disabled,\n",
              "  .colab-df-quickchart-complete:disabled:hover {\n",
              "    background-color: var(--disabled-bg-color);\n",
              "    fill: var(--disabled-fill-color);\n",
              "    box-shadow: none;\n",
              "  }\n",
              "\n",
              "  .colab-df-spinner {\n",
              "    border: 2px solid var(--fill-color);\n",
              "    border-color: transparent;\n",
              "    border-bottom-color: var(--fill-color);\n",
              "    animation:\n",
              "      spin 1s steps(1) infinite;\n",
              "  }\n",
              "\n",
              "  @keyframes spin {\n",
              "    0% {\n",
              "      border-color: transparent;\n",
              "      border-bottom-color: var(--fill-color);\n",
              "      border-left-color: var(--fill-color);\n",
              "    }\n",
              "    20% {\n",
              "      border-color: transparent;\n",
              "      border-left-color: var(--fill-color);\n",
              "      border-top-color: var(--fill-color);\n",
              "    }\n",
              "    30% {\n",
              "      border-color: transparent;\n",
              "      border-left-color: var(--fill-color);\n",
              "      border-top-color: var(--fill-color);\n",
              "      border-right-color: var(--fill-color);\n",
              "    }\n",
              "    40% {\n",
              "      border-color: transparent;\n",
              "      border-right-color: var(--fill-color);\n",
              "      border-top-color: var(--fill-color);\n",
              "    }\n",
              "    60% {\n",
              "      border-color: transparent;\n",
              "      border-right-color: var(--fill-color);\n",
              "    }\n",
              "    80% {\n",
              "      border-color: transparent;\n",
              "      border-right-color: var(--fill-color);\n",
              "      border-bottom-color: var(--fill-color);\n",
              "    }\n",
              "    90% {\n",
              "      border-color: transparent;\n",
              "      border-bottom-color: var(--fill-color);\n",
              "    }\n",
              "  }\n",
              "</style>\n",
              "\n",
              "      <script>\n",
              "        async function quickchart(key) {\n",
              "          const quickchartButtonEl =\n",
              "            document.querySelector('#' + key + ' button');\n",
              "          quickchartButtonEl.disabled = true;  // To prevent multiple clicks.\n",
              "          quickchartButtonEl.classList.add('colab-df-spinner');\n",
              "          try {\n",
              "            const charts = await google.colab.kernel.invokeFunction(\n",
              "                'suggestCharts', [key], {});\n",
              "          } catch (error) {\n",
              "            console.error('Error during call to suggestCharts:', error);\n",
              "          }\n",
              "          quickchartButtonEl.classList.remove('colab-df-spinner');\n",
              "          quickchartButtonEl.classList.add('colab-df-quickchart-complete');\n",
              "        }\n",
              "        (() => {\n",
              "          let quickchartButtonEl =\n",
              "            document.querySelector('#df-5cb9dc9e-ab95-4fc1-a8b3-402b39ae0526 button');\n",
              "          quickchartButtonEl.style.display =\n",
              "            google.colab.kernel.accessAllowed ? 'block' : 'none';\n",
              "        })();\n",
              "      </script>\n",
              "    </div>\n",
              "\n",
              "    </div>\n",
              "  </div>\n"
            ],
            "application/vnd.google.colaboratory.intrinsic+json": {
              "type": "dataframe",
              "variable_name": "prep_df",
              "summary": "{\n  \"name\": \"prep_df\",\n  \"rows\": 4088,\n  \"fields\": [\n    {\n      \"column\": \"num__age\",\n      \"properties\": {\n        \"dtype\": \"number\",\n        \"std\": 1.0001223316415417,\n        \"min\": -1.9070171061744619,\n        \"max\": 1.7218905523931876,\n        \"num_unique_values\": 104,\n        \"samples\": [\n          -0.2715279612242956,\n          -1.8520873515770022,\n          0.5258394442226976\n        ],\n        \"semantic_type\": \"\",\n        \"description\": \"\"\n      }\n    },\n    {\n      \"column\": \"num__avg_glucose_level\",\n      \"properties\": {\n        \"dtype\": \"number\",\n        \"std\": 1.0001223316415357,\n        \"min\": -1.1241053854460266,\n        \"max\": 3.623258963649789,\n        \"num_unique_values\": 3338,\n        \"samples\": [\n          -0.35283178530356624,\n          -0.15627204938541828,\n          -0.4354762197236967\n        ],\n        \"semantic_type\": \"\",\n        \"description\": \"\"\n      }\n    },\n    {\n      \"column\": \"num__bmi\",\n      \"properties\": {\n        \"dtype\": \"number\",\n        \"std\": 1.0001223316415317,\n        \"min\": -2.2937794227800294,\n        \"max\": 8.998789389313716,\n        \"num_unique_values\": 395,\n        \"samples\": [\n          0.03539467751277118,\n          -2.0713302109543124,\n          1.069129250114632\n        ],\n        \"semantic_type\": \"\",\n        \"description\": \"\"\n      }\n    },\n    {\n      \"column\": \"ord__work_type_Govt_job\",\n      \"properties\": {\n        \"dtype\": \"number\",\n        \"std\": 0.33487449155535226,\n        \"min\": 0.0,\n        \"max\": 1.0,\n        \"num_unique_values\": 2,\n        \"samples\": [\n          1.0,\n          0.0\n        ],\n        \"semantic_type\": \"\",\n        \"description\": \"\"\n      }\n    },\n    {\n      \"column\": \"ord__work_type_Never_worked\",\n      \"properties\": {\n        \"dtype\": \"number\",\n        \"std\": 0.0643601799130758,\n        \"min\": 0.0,\n        \"max\": 1.0,\n        \"num_unique_values\": 2,\n        \"samples\": [\n          1.0,\n          0.0\n        ],\n        \"semantic_type\": \"\",\n        \"description\": \"\"\n      }\n    },\n    {\n      \"column\": \"ord__work_type_Private\",\n      \"properties\": {\n        \"dtype\": \"number\",\n        \"std\": 0.49577648519581075,\n        \"min\": 0.0,\n        \"max\": 1.0,\n        \"num_unique_values\": 2,\n        \"samples\": [\n          1.0,\n          0.0\n        ],\n        \"semantic_type\": \"\",\n        \"description\": \"\"\n      }\n    },\n    {\n      \"column\": \"ord__work_type_Self-employed\",\n      \"properties\": {\n        \"dtype\": \"number\",\n        \"std\": 0.3735239880857791,\n        \"min\": 0.0,\n        \"max\": 1.0,\n        \"num_unique_values\": 2,\n        \"samples\": [\n          0.0,\n          1.0\n        ],\n        \"semantic_type\": \"\",\n        \"description\": \"\"\n      }\n    },\n    {\n      \"column\": \"ord__work_type_children\",\n      \"properties\": {\n        \"dtype\": \"number\",\n        \"std\": 0.34101123780683035,\n        \"min\": 0.0,\n        \"max\": 1.0,\n        \"num_unique_values\": 2,\n        \"samples\": [\n          1.0,\n          0.0\n        ],\n        \"semantic_type\": \"\",\n        \"description\": \"\"\n      }\n    },\n    {\n      \"column\": \"ord__smoking_status_Unknown\",\n      \"properties\": {\n        \"dtype\": \"number\",\n        \"std\": 0.45890912469031786,\n        \"min\": 0.0,\n        \"max\": 1.0,\n        \"num_unique_values\": 2,\n        \"samples\": [\n          1.0,\n          0.0\n        ],\n        \"semantic_type\": \"\",\n        \"description\": \"\"\n      }\n    },\n    {\n      \"column\": \"ord__smoking_status_formerly smoked\",\n      \"properties\": {\n        \"dtype\": \"number\",\n        \"std\": 0.3754722903257585,\n        \"min\": 0.0,\n        \"max\": 1.0,\n        \"num_unique_values\": 2,\n        \"samples\": [\n          1.0,\n          0.0\n        ],\n        \"semantic_type\": \"\",\n        \"description\": \"\"\n      }\n    },\n    {\n      \"column\": \"ord__smoking_status_never smoked\",\n      \"properties\": {\n        \"dtype\": \"number\",\n        \"std\": 0.4841189079653586,\n        \"min\": 0.0,\n        \"max\": 1.0,\n        \"num_unique_values\": 2,\n        \"samples\": [\n          0.0,\n          1.0\n        ],\n        \"semantic_type\": \"\",\n        \"description\": \"\"\n      }\n    },\n    {\n      \"column\": \"ord__smoking_status_smokes\",\n      \"properties\": {\n        \"dtype\": \"number\",\n        \"std\": 0.361097936604373,\n        \"min\": 0.0,\n        \"max\": 1.0,\n        \"num_unique_values\": 2,\n        \"samples\": [\n          1.0,\n          0.0\n        ],\n        \"semantic_type\": \"\",\n        \"description\": \"\"\n      }\n    },\n    {\n      \"column\": \"lab__gender\",\n      \"properties\": {\n        \"dtype\": \"number\",\n        \"std\": 0.4936316261966346,\n        \"min\": 0.0,\n        \"max\": 2.0,\n        \"num_unique_values\": 3,\n        \"samples\": [\n          1.0,\n          0.0\n        ],\n        \"semantic_type\": \"\",\n        \"description\": \"\"\n      }\n    },\n    {\n      \"column\": \"lab__ever_married\",\n      \"properties\": {\n        \"dtype\": \"number\",\n        \"std\": 0.47539770436730633,\n        \"min\": 0.0,\n        \"max\": 1.0,\n        \"num_unique_values\": 2,\n        \"samples\": [\n          0.0,\n          1.0\n        ],\n        \"semantic_type\": \"\",\n        \"description\": \"\"\n      }\n    },\n    {\n      \"column\": \"lab__residence_type\",\n      \"properties\": {\n        \"dtype\": \"number\",\n        \"std\": 0.4999836000637105,\n        \"min\": 0.0,\n        \"max\": 1.0,\n        \"num_unique_values\": 2,\n        \"samples\": [\n          1.0,\n          0.0\n        ],\n        \"semantic_type\": \"\",\n        \"description\": \"\"\n      }\n    },\n    {\n      \"column\": \"remainder__id\",\n      \"properties\": {\n        \"dtype\": \"number\",\n        \"std\": 21194.337089607357,\n        \"min\": 67.0,\n        \"max\": 72940.0,\n        \"num_unique_values\": 4088,\n        \"samples\": [\n          41284.0,\n          32437.0\n        ],\n        \"semantic_type\": \"\",\n        \"description\": \"\"\n      }\n    },\n    {\n      \"column\": \"remainder__hypertension\",\n      \"properties\": {\n        \"dtype\": \"number\",\n        \"std\": 0.29548159810037744,\n        \"min\": 0.0,\n        \"max\": 1.0,\n        \"num_unique_values\": 2,\n        \"samples\": [\n          1.0,\n          0.0\n        ],\n        \"semantic_type\": \"\",\n        \"description\": \"\"\n      }\n    },\n    {\n      \"column\": \"remainder__heart_disease\",\n      \"properties\": {\n        \"dtype\": \"number\",\n        \"std\": 0.22712734184860134,\n        \"min\": 0.0,\n        \"max\": 1.0,\n        \"num_unique_values\": 2,\n        \"samples\": [\n          1.0,\n          0.0\n        ],\n        \"semantic_type\": \"\",\n        \"description\": \"\"\n      }\n    }\n  ]\n}"
            }
          },
          "metadata": {},
          "execution_count": 28
        }
      ],
      "source": [
        "prep_df = pd.DataFrame(X_train_prep)\n",
        "prep_df.columns = pipeline.get_feature_names_out()\n",
        "prep_df.head()"
      ]
    },
    {
      "cell_type": "markdown",
      "metadata": {
        "id": "7tHWohZ4vtg2"
      },
      "source": [
        "Given the risk of data leakage, we only transform the test data. (See [this exercise](https://github.com/chris-lovejoy/CodingForMedicine/blob/main/exercises/Breast_cancer_features.ipynb) for more on data leakage.)"
      ]
    },
    {
      "cell_type": "code",
      "execution_count": 29,
      "metadata": {
        "id": "rVSTHtCxEtm8"
      },
      "outputs": [],
      "source": [
        "# Now we need to scale the test data which we haven't yet touched\n",
        "X_test_prep = pipeline.transform(X_test)"
      ]
    },
    {
      "cell_type": "markdown",
      "metadata": {
        "id": "mTdAx2hiEtm9"
      },
      "source": [
        "## Part 4: Making our First Model\n",
        "\n",
        "Now we have imported, cleaned, and transformed our data - it is finally in a form that we can make models to help us predict future strokes.\n",
        "\n",
        "To begin with, we will use a logistic Regression to make these predictions. We'll start with this because it's a relatively simple model, and a helpful general principle is **start simple until it works, then gradually get more complex**."
      ]
    },
    {
      "cell_type": "code",
      "execution_count": 30,
      "metadata": {
        "colab": {
          "base_uri": "https://localhost:8080/",
          "height": 219
        },
        "id": "Ag--e0fhEtm9",
        "outputId": "8ec12f5d-ed9d-44db-f2de-021a06595c11"
      },
      "outputs": [
        {
          "output_type": "stream",
          "name": "stderr",
          "text": [
            "/usr/local/lib/python3.11/dist-packages/sklearn/linear_model/_logistic.py:465: ConvergenceWarning: lbfgs failed to converge (status=1):\n",
            "STOP: TOTAL NO. OF ITERATIONS REACHED LIMIT.\n",
            "\n",
            "Increase the number of iterations (max_iter) or scale the data as shown in:\n",
            "    https://scikit-learn.org/stable/modules/preprocessing.html\n",
            "Please also refer to the documentation for alternative solver options:\n",
            "    https://scikit-learn.org/stable/modules/linear_model.html#logistic-regression\n",
            "  n_iter_i = _check_optimize_result(\n"
          ]
        },
        {
          "output_type": "execute_result",
          "data": {
            "text/plain": [
              "LogisticRegression()"
            ],
            "text/html": [
              "<style>#sk-container-id-1 {\n",
              "  /* Definition of color scheme common for light and dark mode */\n",
              "  --sklearn-color-text: #000;\n",
              "  --sklearn-color-text-muted: #666;\n",
              "  --sklearn-color-line: gray;\n",
              "  /* Definition of color scheme for unfitted estimators */\n",
              "  --sklearn-color-unfitted-level-0: #fff5e6;\n",
              "  --sklearn-color-unfitted-level-1: #f6e4d2;\n",
              "  --sklearn-color-unfitted-level-2: #ffe0b3;\n",
              "  --sklearn-color-unfitted-level-3: chocolate;\n",
              "  /* Definition of color scheme for fitted estimators */\n",
              "  --sklearn-color-fitted-level-0: #f0f8ff;\n",
              "  --sklearn-color-fitted-level-1: #d4ebff;\n",
              "  --sklearn-color-fitted-level-2: #b3dbfd;\n",
              "  --sklearn-color-fitted-level-3: cornflowerblue;\n",
              "\n",
              "  /* Specific color for light theme */\n",
              "  --sklearn-color-text-on-default-background: var(--sg-text-color, var(--theme-code-foreground, var(--jp-content-font-color1, black)));\n",
              "  --sklearn-color-background: var(--sg-background-color, var(--theme-background, var(--jp-layout-color0, white)));\n",
              "  --sklearn-color-border-box: var(--sg-text-color, var(--theme-code-foreground, var(--jp-content-font-color1, black)));\n",
              "  --sklearn-color-icon: #696969;\n",
              "\n",
              "  @media (prefers-color-scheme: dark) {\n",
              "    /* Redefinition of color scheme for dark theme */\n",
              "    --sklearn-color-text-on-default-background: var(--sg-text-color, var(--theme-code-foreground, var(--jp-content-font-color1, white)));\n",
              "    --sklearn-color-background: var(--sg-background-color, var(--theme-background, var(--jp-layout-color0, #111)));\n",
              "    --sklearn-color-border-box: var(--sg-text-color, var(--theme-code-foreground, var(--jp-content-font-color1, white)));\n",
              "    --sklearn-color-icon: #878787;\n",
              "  }\n",
              "}\n",
              "\n",
              "#sk-container-id-1 {\n",
              "  color: var(--sklearn-color-text);\n",
              "}\n",
              "\n",
              "#sk-container-id-1 pre {\n",
              "  padding: 0;\n",
              "}\n",
              "\n",
              "#sk-container-id-1 input.sk-hidden--visually {\n",
              "  border: 0;\n",
              "  clip: rect(1px 1px 1px 1px);\n",
              "  clip: rect(1px, 1px, 1px, 1px);\n",
              "  height: 1px;\n",
              "  margin: -1px;\n",
              "  overflow: hidden;\n",
              "  padding: 0;\n",
              "  position: absolute;\n",
              "  width: 1px;\n",
              "}\n",
              "\n",
              "#sk-container-id-1 div.sk-dashed-wrapped {\n",
              "  border: 1px dashed var(--sklearn-color-line);\n",
              "  margin: 0 0.4em 0.5em 0.4em;\n",
              "  box-sizing: border-box;\n",
              "  padding-bottom: 0.4em;\n",
              "  background-color: var(--sklearn-color-background);\n",
              "}\n",
              "\n",
              "#sk-container-id-1 div.sk-container {\n",
              "  /* jupyter's `normalize.less` sets `[hidden] { display: none; }`\n",
              "     but bootstrap.min.css set `[hidden] { display: none !important; }`\n",
              "     so we also need the `!important` here to be able to override the\n",
              "     default hidden behavior on the sphinx rendered scikit-learn.org.\n",
              "     See: https://github.com/scikit-learn/scikit-learn/issues/21755 */\n",
              "  display: inline-block !important;\n",
              "  position: relative;\n",
              "}\n",
              "\n",
              "#sk-container-id-1 div.sk-text-repr-fallback {\n",
              "  display: none;\n",
              "}\n",
              "\n",
              "div.sk-parallel-item,\n",
              "div.sk-serial,\n",
              "div.sk-item {\n",
              "  /* draw centered vertical line to link estimators */\n",
              "  background-image: linear-gradient(var(--sklearn-color-text-on-default-background), var(--sklearn-color-text-on-default-background));\n",
              "  background-size: 2px 100%;\n",
              "  background-repeat: no-repeat;\n",
              "  background-position: center center;\n",
              "}\n",
              "\n",
              "/* Parallel-specific style estimator block */\n",
              "\n",
              "#sk-container-id-1 div.sk-parallel-item::after {\n",
              "  content: \"\";\n",
              "  width: 100%;\n",
              "  border-bottom: 2px solid var(--sklearn-color-text-on-default-background);\n",
              "  flex-grow: 1;\n",
              "}\n",
              "\n",
              "#sk-container-id-1 div.sk-parallel {\n",
              "  display: flex;\n",
              "  align-items: stretch;\n",
              "  justify-content: center;\n",
              "  background-color: var(--sklearn-color-background);\n",
              "  position: relative;\n",
              "}\n",
              "\n",
              "#sk-container-id-1 div.sk-parallel-item {\n",
              "  display: flex;\n",
              "  flex-direction: column;\n",
              "}\n",
              "\n",
              "#sk-container-id-1 div.sk-parallel-item:first-child::after {\n",
              "  align-self: flex-end;\n",
              "  width: 50%;\n",
              "}\n",
              "\n",
              "#sk-container-id-1 div.sk-parallel-item:last-child::after {\n",
              "  align-self: flex-start;\n",
              "  width: 50%;\n",
              "}\n",
              "\n",
              "#sk-container-id-1 div.sk-parallel-item:only-child::after {\n",
              "  width: 0;\n",
              "}\n",
              "\n",
              "/* Serial-specific style estimator block */\n",
              "\n",
              "#sk-container-id-1 div.sk-serial {\n",
              "  display: flex;\n",
              "  flex-direction: column;\n",
              "  align-items: center;\n",
              "  background-color: var(--sklearn-color-background);\n",
              "  padding-right: 1em;\n",
              "  padding-left: 1em;\n",
              "}\n",
              "\n",
              "\n",
              "/* Toggleable style: style used for estimator/Pipeline/ColumnTransformer box that is\n",
              "clickable and can be expanded/collapsed.\n",
              "- Pipeline and ColumnTransformer use this feature and define the default style\n",
              "- Estimators will overwrite some part of the style using the `sk-estimator` class\n",
              "*/\n",
              "\n",
              "/* Pipeline and ColumnTransformer style (default) */\n",
              "\n",
              "#sk-container-id-1 div.sk-toggleable {\n",
              "  /* Default theme specific background. It is overwritten whether we have a\n",
              "  specific estimator or a Pipeline/ColumnTransformer */\n",
              "  background-color: var(--sklearn-color-background);\n",
              "}\n",
              "\n",
              "/* Toggleable label */\n",
              "#sk-container-id-1 label.sk-toggleable__label {\n",
              "  cursor: pointer;\n",
              "  display: flex;\n",
              "  width: 100%;\n",
              "  margin-bottom: 0;\n",
              "  padding: 0.5em;\n",
              "  box-sizing: border-box;\n",
              "  text-align: center;\n",
              "  align-items: start;\n",
              "  justify-content: space-between;\n",
              "  gap: 0.5em;\n",
              "}\n",
              "\n",
              "#sk-container-id-1 label.sk-toggleable__label .caption {\n",
              "  font-size: 0.6rem;\n",
              "  font-weight: lighter;\n",
              "  color: var(--sklearn-color-text-muted);\n",
              "}\n",
              "\n",
              "#sk-container-id-1 label.sk-toggleable__label-arrow:before {\n",
              "  /* Arrow on the left of the label */\n",
              "  content: \"▸\";\n",
              "  float: left;\n",
              "  margin-right: 0.25em;\n",
              "  color: var(--sklearn-color-icon);\n",
              "}\n",
              "\n",
              "#sk-container-id-1 label.sk-toggleable__label-arrow:hover:before {\n",
              "  color: var(--sklearn-color-text);\n",
              "}\n",
              "\n",
              "/* Toggleable content - dropdown */\n",
              "\n",
              "#sk-container-id-1 div.sk-toggleable__content {\n",
              "  max-height: 0;\n",
              "  max-width: 0;\n",
              "  overflow: hidden;\n",
              "  text-align: left;\n",
              "  /* unfitted */\n",
              "  background-color: var(--sklearn-color-unfitted-level-0);\n",
              "}\n",
              "\n",
              "#sk-container-id-1 div.sk-toggleable__content.fitted {\n",
              "  /* fitted */\n",
              "  background-color: var(--sklearn-color-fitted-level-0);\n",
              "}\n",
              "\n",
              "#sk-container-id-1 div.sk-toggleable__content pre {\n",
              "  margin: 0.2em;\n",
              "  border-radius: 0.25em;\n",
              "  color: var(--sklearn-color-text);\n",
              "  /* unfitted */\n",
              "  background-color: var(--sklearn-color-unfitted-level-0);\n",
              "}\n",
              "\n",
              "#sk-container-id-1 div.sk-toggleable__content.fitted pre {\n",
              "  /* unfitted */\n",
              "  background-color: var(--sklearn-color-fitted-level-0);\n",
              "}\n",
              "\n",
              "#sk-container-id-1 input.sk-toggleable__control:checked~div.sk-toggleable__content {\n",
              "  /* Expand drop-down */\n",
              "  max-height: 200px;\n",
              "  max-width: 100%;\n",
              "  overflow: auto;\n",
              "}\n",
              "\n",
              "#sk-container-id-1 input.sk-toggleable__control:checked~label.sk-toggleable__label-arrow:before {\n",
              "  content: \"▾\";\n",
              "}\n",
              "\n",
              "/* Pipeline/ColumnTransformer-specific style */\n",
              "\n",
              "#sk-container-id-1 div.sk-label input.sk-toggleable__control:checked~label.sk-toggleable__label {\n",
              "  color: var(--sklearn-color-text);\n",
              "  background-color: var(--sklearn-color-unfitted-level-2);\n",
              "}\n",
              "\n",
              "#sk-container-id-1 div.sk-label.fitted input.sk-toggleable__control:checked~label.sk-toggleable__label {\n",
              "  background-color: var(--sklearn-color-fitted-level-2);\n",
              "}\n",
              "\n",
              "/* Estimator-specific style */\n",
              "\n",
              "/* Colorize estimator box */\n",
              "#sk-container-id-1 div.sk-estimator input.sk-toggleable__control:checked~label.sk-toggleable__label {\n",
              "  /* unfitted */\n",
              "  background-color: var(--sklearn-color-unfitted-level-2);\n",
              "}\n",
              "\n",
              "#sk-container-id-1 div.sk-estimator.fitted input.sk-toggleable__control:checked~label.sk-toggleable__label {\n",
              "  /* fitted */\n",
              "  background-color: var(--sklearn-color-fitted-level-2);\n",
              "}\n",
              "\n",
              "#sk-container-id-1 div.sk-label label.sk-toggleable__label,\n",
              "#sk-container-id-1 div.sk-label label {\n",
              "  /* The background is the default theme color */\n",
              "  color: var(--sklearn-color-text-on-default-background);\n",
              "}\n",
              "\n",
              "/* On hover, darken the color of the background */\n",
              "#sk-container-id-1 div.sk-label:hover label.sk-toggleable__label {\n",
              "  color: var(--sklearn-color-text);\n",
              "  background-color: var(--sklearn-color-unfitted-level-2);\n",
              "}\n",
              "\n",
              "/* Label box, darken color on hover, fitted */\n",
              "#sk-container-id-1 div.sk-label.fitted:hover label.sk-toggleable__label.fitted {\n",
              "  color: var(--sklearn-color-text);\n",
              "  background-color: var(--sklearn-color-fitted-level-2);\n",
              "}\n",
              "\n",
              "/* Estimator label */\n",
              "\n",
              "#sk-container-id-1 div.sk-label label {\n",
              "  font-family: monospace;\n",
              "  font-weight: bold;\n",
              "  display: inline-block;\n",
              "  line-height: 1.2em;\n",
              "}\n",
              "\n",
              "#sk-container-id-1 div.sk-label-container {\n",
              "  text-align: center;\n",
              "}\n",
              "\n",
              "/* Estimator-specific */\n",
              "#sk-container-id-1 div.sk-estimator {\n",
              "  font-family: monospace;\n",
              "  border: 1px dotted var(--sklearn-color-border-box);\n",
              "  border-radius: 0.25em;\n",
              "  box-sizing: border-box;\n",
              "  margin-bottom: 0.5em;\n",
              "  /* unfitted */\n",
              "  background-color: var(--sklearn-color-unfitted-level-0);\n",
              "}\n",
              "\n",
              "#sk-container-id-1 div.sk-estimator.fitted {\n",
              "  /* fitted */\n",
              "  background-color: var(--sklearn-color-fitted-level-0);\n",
              "}\n",
              "\n",
              "/* on hover */\n",
              "#sk-container-id-1 div.sk-estimator:hover {\n",
              "  /* unfitted */\n",
              "  background-color: var(--sklearn-color-unfitted-level-2);\n",
              "}\n",
              "\n",
              "#sk-container-id-1 div.sk-estimator.fitted:hover {\n",
              "  /* fitted */\n",
              "  background-color: var(--sklearn-color-fitted-level-2);\n",
              "}\n",
              "\n",
              "/* Specification for estimator info (e.g. \"i\" and \"?\") */\n",
              "\n",
              "/* Common style for \"i\" and \"?\" */\n",
              "\n",
              ".sk-estimator-doc-link,\n",
              "a:link.sk-estimator-doc-link,\n",
              "a:visited.sk-estimator-doc-link {\n",
              "  float: right;\n",
              "  font-size: smaller;\n",
              "  line-height: 1em;\n",
              "  font-family: monospace;\n",
              "  background-color: var(--sklearn-color-background);\n",
              "  border-radius: 1em;\n",
              "  height: 1em;\n",
              "  width: 1em;\n",
              "  text-decoration: none !important;\n",
              "  margin-left: 0.5em;\n",
              "  text-align: center;\n",
              "  /* unfitted */\n",
              "  border: var(--sklearn-color-unfitted-level-1) 1pt solid;\n",
              "  color: var(--sklearn-color-unfitted-level-1);\n",
              "}\n",
              "\n",
              ".sk-estimator-doc-link.fitted,\n",
              "a:link.sk-estimator-doc-link.fitted,\n",
              "a:visited.sk-estimator-doc-link.fitted {\n",
              "  /* fitted */\n",
              "  border: var(--sklearn-color-fitted-level-1) 1pt solid;\n",
              "  color: var(--sklearn-color-fitted-level-1);\n",
              "}\n",
              "\n",
              "/* On hover */\n",
              "div.sk-estimator:hover .sk-estimator-doc-link:hover,\n",
              ".sk-estimator-doc-link:hover,\n",
              "div.sk-label-container:hover .sk-estimator-doc-link:hover,\n",
              ".sk-estimator-doc-link:hover {\n",
              "  /* unfitted */\n",
              "  background-color: var(--sklearn-color-unfitted-level-3);\n",
              "  color: var(--sklearn-color-background);\n",
              "  text-decoration: none;\n",
              "}\n",
              "\n",
              "div.sk-estimator.fitted:hover .sk-estimator-doc-link.fitted:hover,\n",
              ".sk-estimator-doc-link.fitted:hover,\n",
              "div.sk-label-container:hover .sk-estimator-doc-link.fitted:hover,\n",
              ".sk-estimator-doc-link.fitted:hover {\n",
              "  /* fitted */\n",
              "  background-color: var(--sklearn-color-fitted-level-3);\n",
              "  color: var(--sklearn-color-background);\n",
              "  text-decoration: none;\n",
              "}\n",
              "\n",
              "/* Span, style for the box shown on hovering the info icon */\n",
              ".sk-estimator-doc-link span {\n",
              "  display: none;\n",
              "  z-index: 9999;\n",
              "  position: relative;\n",
              "  font-weight: normal;\n",
              "  right: .2ex;\n",
              "  padding: .5ex;\n",
              "  margin: .5ex;\n",
              "  width: min-content;\n",
              "  min-width: 20ex;\n",
              "  max-width: 50ex;\n",
              "  color: var(--sklearn-color-text);\n",
              "  box-shadow: 2pt 2pt 4pt #999;\n",
              "  /* unfitted */\n",
              "  background: var(--sklearn-color-unfitted-level-0);\n",
              "  border: .5pt solid var(--sklearn-color-unfitted-level-3);\n",
              "}\n",
              "\n",
              ".sk-estimator-doc-link.fitted span {\n",
              "  /* fitted */\n",
              "  background: var(--sklearn-color-fitted-level-0);\n",
              "  border: var(--sklearn-color-fitted-level-3);\n",
              "}\n",
              "\n",
              ".sk-estimator-doc-link:hover span {\n",
              "  display: block;\n",
              "}\n",
              "\n",
              "/* \"?\"-specific style due to the `<a>` HTML tag */\n",
              "\n",
              "#sk-container-id-1 a.estimator_doc_link {\n",
              "  float: right;\n",
              "  font-size: 1rem;\n",
              "  line-height: 1em;\n",
              "  font-family: monospace;\n",
              "  background-color: var(--sklearn-color-background);\n",
              "  border-radius: 1rem;\n",
              "  height: 1rem;\n",
              "  width: 1rem;\n",
              "  text-decoration: none;\n",
              "  /* unfitted */\n",
              "  color: var(--sklearn-color-unfitted-level-1);\n",
              "  border: var(--sklearn-color-unfitted-level-1) 1pt solid;\n",
              "}\n",
              "\n",
              "#sk-container-id-1 a.estimator_doc_link.fitted {\n",
              "  /* fitted */\n",
              "  border: var(--sklearn-color-fitted-level-1) 1pt solid;\n",
              "  color: var(--sklearn-color-fitted-level-1);\n",
              "}\n",
              "\n",
              "/* On hover */\n",
              "#sk-container-id-1 a.estimator_doc_link:hover {\n",
              "  /* unfitted */\n",
              "  background-color: var(--sklearn-color-unfitted-level-3);\n",
              "  color: var(--sklearn-color-background);\n",
              "  text-decoration: none;\n",
              "}\n",
              "\n",
              "#sk-container-id-1 a.estimator_doc_link.fitted:hover {\n",
              "  /* fitted */\n",
              "  background-color: var(--sklearn-color-fitted-level-3);\n",
              "}\n",
              "</style><div id=\"sk-container-id-1\" class=\"sk-top-container\"><div class=\"sk-text-repr-fallback\"><pre>LogisticRegression()</pre><b>In a Jupyter environment, please rerun this cell to show the HTML representation or trust the notebook. <br />On GitHub, the HTML representation is unable to render, please try loading this page with nbviewer.org.</b></div><div class=\"sk-container\" hidden><div class=\"sk-item\"><div class=\"sk-estimator fitted sk-toggleable\"><input class=\"sk-toggleable__control sk-hidden--visually\" id=\"sk-estimator-id-1\" type=\"checkbox\" checked><label for=\"sk-estimator-id-1\" class=\"sk-toggleable__label fitted sk-toggleable__label-arrow\"><div><div>LogisticRegression</div></div><div><a class=\"sk-estimator-doc-link fitted\" rel=\"noreferrer\" target=\"_blank\" href=\"https://scikit-learn.org/1.6/modules/generated/sklearn.linear_model.LogisticRegression.html\">?<span>Documentation for LogisticRegression</span></a><span class=\"sk-estimator-doc-link fitted\">i<span>Fitted</span></span></div></label><div class=\"sk-toggleable__content fitted\"><pre>LogisticRegression()</pre></div> </div></div></div></div>"
            ]
          },
          "metadata": {},
          "execution_count": 30
        }
      ],
      "source": [
        "from sklearn.linear_model import LogisticRegression\n",
        "\n",
        "logistic_regression = LogisticRegression()\n",
        "logistic_regression.fit(X_train_prep, y_train)"
      ]
    },
    {
      "cell_type": "markdown",
      "metadata": {
        "id": "N4hR09EPV4vM"
      },
      "source": [
        "Let's use the accuracy score to see how the model's doing. Accuracy is simply **what percentage/ratio of all samples in the text set does the model get correct?**"
      ]
    },
    {
      "cell_type": "code",
      "execution_count": 31,
      "metadata": {
        "colab": {
          "base_uri": "https://localhost:8080/"
        },
        "id": "ywQvv1U6Etm9",
        "outputId": "e9b4d8d8-0b0d-4969-bdb6-667ed04cfa45"
      },
      "outputs": [
        {
          "output_type": "stream",
          "name": "stdout",
          "text": [
            "0.9471624266144814\n"
          ]
        }
      ],
      "source": [
        "from sklearn.metrics import accuracy_score, classification_report, f1_score\n",
        "\n",
        "# we can now predict some strokes in our test dataset - which our model has not seen!\n",
        "y_pred = logistic_regression.predict(X_test_prep)\n",
        "print(accuracy_score(y_test, y_pred))"
      ]
    },
    {
      "cell_type": "markdown",
      "metadata": {
        "id": "nBEcKViHEtm9"
      },
      "source": [
        "#### 🤔 Something Fishy Afoot\n",
        "\n",
        "Hmmm... our model has a pretty good \"accuracy\" - however, if we look deeper, something odd is going on.\n",
        "\n",
        "Let's have a look at what our model is guessing."
      ]
    },
    {
      "cell_type": "code",
      "execution_count": 32,
      "metadata": {
        "colab": {
          "base_uri": "https://localhost:8080/"
        },
        "id": "CkqsqnIQEtm9",
        "outputId": "c098bf6f-8181-4868-fe93-66263d5ab4e9"
      },
      "outputs": [
        {
          "output_type": "execute_result",
          "data": {
            "text/plain": [
              "np.int64(1)"
            ]
          },
          "metadata": {},
          "execution_count": 32
        }
      ],
      "source": [
        "y_pred.sum()  # Add's up how many 1's there are (i.e. how many people we have predicted have had a stroke)"
      ]
    },
    {
      "cell_type": "markdown",
      "metadata": {
        "id": "wp--CBJ1Etm9"
      },
      "source": [
        "Essentially our model just guesses `0` / no stroke every time and gets a pretty good accuracy.\n",
        "\n",
        "For imbalanced class problems (a common and important issue in medicine!), we need to dive deeper as other metrics are more useful to understand how well our model truly works. You may remember from previous exercises the F1 Score ~ which provides a metric of how well a model is at making true positives/negatives and false positives/negatives. Unfortunately, there will always be a trade-off between these - and one we need to keep in mind when designing machine learning models in healthcare.\n",
        "\n",
        "The F1 score captures a weighted balance of both Precision and Recall:\n",
        "\n",
        "$$\\text{F1 Score} = 2\\times\\frac{\\text{Precision} \\times \\text{Recall}}{\\text{Precision} + \\text{Recall}} = \\frac{2TP}{2TP + FP + FN}$$\n",
        "\n",
        "We have to make decisions when we tune our model if we want more *false positives* or more *false negatives* - with real-world implications. If we were deploying our model, we would have to decide if we would rather have fewer false positives - and run the risk of missing potential strokes - or predict more people were having strokes when they aren't and run the risk of over-investigation and unrequired treatment/intervention.\n",
        "\n",
        "If you would like to learn more about this, it is well worth looking at the [Machine Learning University's explainer on Precision and Recall](https://mlu-explain.github.io/precision-recall/), which nicely demonstrates how the precision-recall tradeoff works visually."
      ]
    },
    {
      "cell_type": "code",
      "execution_count": 33,
      "metadata": {
        "colab": {
          "base_uri": "https://localhost:8080/"
        },
        "id": "aOLMVZg0Etm9",
        "outputId": "0ec06f4d-bcfc-44fa-da62-c099c7a6ea5b"
      },
      "outputs": [
        {
          "output_type": "stream",
          "name": "stdout",
          "text": [
            "F1 Score: 0.0\n"
          ]
        }
      ],
      "source": [
        "print(f\"F1 Score: {f1_score(y_test, y_pred)}\")"
      ]
    },
    {
      "cell_type": "markdown",
      "metadata": {
        "id": "-hOZVaH0Etm9"
      },
      "source": [
        "The F1 Score is 0 in this case, as the model doesn't predict any cases of stroke - and so the numerator is 0 (no true positives!).\n",
        "\n",
        "Let's check more complicated models also to see if they suffer from the same issue - to check that this isn't purely a result of [Logistic Regression](https://mlu-explain.github.io/logistic-regression/) being unable to capture complicated relationships.\n",
        "\n",
        "It's common practice to use a range of classification algorithms and see how they all perform. Here, we'll use a Support Vector Machine, Random Forest, and Gradient Boosting model. They all work in different ways but can be used to yield the same output: converting our input variables into an output \"class\"."
      ]
    },
    {
      "cell_type": "markdown",
      "metadata": {
        "id": "1BMh8xnGV4vN"
      },
      "source": [
        "First, we import the models:"
      ]
    },
    {
      "cell_type": "code",
      "execution_count": 34,
      "metadata": {
        "id": "sfbYlyuCEtm9"
      },
      "outputs": [],
      "source": [
        "from sklearn.svm import SVC\n",
        "from sklearn.ensemble import RandomForestClassifier, GradientBoostingClassifier\n",
        "from sklearn.neighbors import KNeighborsClassifier\n"
      ]
    },
    {
      "cell_type": "markdown",
      "metadata": {
        "id": "jegd_UJRV4vN"
      },
      "source": [
        "Then we define variables using each of the models:"
      ]
    },
    {
      "cell_type": "code",
      "execution_count": 35,
      "metadata": {
        "id": "-JFd-TCyV4vO"
      },
      "outputs": [],
      "source": [
        "svm = SVC()\n",
        "forest = RandomForestClassifier()\n",
        "gbm = GradientBoostingClassifier()"
      ]
    },
    {
      "cell_type": "markdown",
      "metadata": {
        "id": "5V2u-GgUV4vO"
      },
      "source": [
        "And finally, we can loop over each of the models, fitting them to our data, generating predictions on our test set, and checking the performance of those predictions by calculating the F1 score:"
      ]
    },
    {
      "cell_type": "code",
      "execution_count": 36,
      "metadata": {
        "colab": {
          "base_uri": "https://localhost:8080/"
        },
        "id": "51Hnq7wVV4vO",
        "outputId": "f9324adf-3444-4c77-8781-83da3d44a1b8"
      },
      "outputs": [
        {
          "output_type": "stream",
          "name": "stdout",
          "text": [
            "F1 Score (SVC): 0.0\n",
            "F1 Score (RandomForestClassifier): 0.0\n",
            "F1 Score (GradientBoostingClassifier): 0.03636363636363636\n"
          ]
        }
      ],
      "source": [
        "for model in (svm, forest, gbm):\n",
        "    model.fit(X_train_prep, y_train)\n",
        "    y_pred = model.predict(X_test_prep)\n",
        "\n",
        "    print(f\"F1 Score ({type(model).__name__}): {f1_score(y_test, y_pred)}\")"
      ]
    },
    {
      "cell_type": "markdown",
      "metadata": {
        "id": "SbEp12-WEtm9"
      },
      "source": [
        "## Part 5: Tackling unbalanced datasets\n",
        "An unbalanced dataset is where a *class* or outcome is much less common than another: in this case, most people don't have strokes. This can lead machine learning models to tend to predict a common class (`no stroke`) over a minority/rare class (`stroke`) as it has received many more examples of one class over another and cannot learn what differentiates the two.\n",
        "\n",
        "There are various ways of approaching unbalanced datasets like these, which we will explore now:\n",
        "\n",
        "### Get more data\n",
        "In an ideal world, we could simply collect more data representing the *minority* class. However, this is not always easy or feasible. For example, we would have to wait many months or years to collect lots of data for strokes,!\n",
        "\n",
        "### Weighting/Model penalization\n",
        "We can 'penalize' our model to put greater weight on a minority class. This forces the model to pay more attention to the minority class.\n",
        "\n",
        "### Resampling\n",
        "Resampling is essentially manipulating our dataset so there is a ratio of classes closer to 50:50. There are two approaches within this:\n",
        " 1. **Undersampling** - where we take a sample (either randomly or through more intelligent means) of the **majority** class to limit the ratio.\n",
        " 2. **Oversampling** - where we expand the number of **minority** classes. We can do this by duplicating instances of the minority class or synthesizing examples of this class.\n",
        "\n",
        "This is nicely visualised below <sup>([ref](https://blog.strands.com/unbalanced-datasets))</sup>\n",
        "\n",
        "<img src=\"https://blog.strands.com/hs-fs/hubfs/Screenshot%202019-07-18%20at%2014.15.15.png?width=1200&name=Screenshot%202019-07-18%20at%2014.15.15.png\" width=700>\n",
        "\n",
        "\n",
        "\n"
      ]
    },
    {
      "cell_type": "markdown",
      "metadata": {
        "id": "jdKEhENDEtm-"
      },
      "source": [
        "### Getting More Data\n",
        "\n",
        "Sadly, we can't get more data in this case - but what we can do is make sure the *train* and *test* set have equal numbers of each class. Fortunately `sklearn` makes this easy to do when we split our model, so we don't have to worry about one size being bigger than the other!"
      ]
    },
    {
      "cell_type": "code",
      "execution_count": 37,
      "metadata": {
        "id": "2YKYd1_BEtm-"
      },
      "outputs": [],
      "source": [
        "# In this case - we are forcing the percentages of strokes to be the same in the train and test class\n",
        "# This is done be setting the stratify command to our outcome column of strokes\n",
        "X_train, X_test, y_train, y_test = train_test_split(X, y, test_size=0.2, stratify=y)\n",
        "\n",
        "# We now need to pass our data through our pipeline again!\n",
        "X_train_prep = pipeline.fit_transform(X_train)\n",
        "X_test_prep = pipeline.transform(X_test)"
      ]
    },
    {
      "cell_type": "markdown",
      "metadata": {
        "id": "SDjD2ql2Etm-"
      },
      "source": [
        "Sadly, this is unlikely to make much difference - as by pure chance there would likely be a similar number of strokes in the test and train set anyway.\n",
        "\n",
        "### Model Penalisation\n",
        "\n",
        "We can teach our model to pay more attention to each class by putting a 'weight' on each. Fortunately this is easy to do in sklearn with the `class_weight` attribute! By setting it to balanced, we ensure that each class is given the same weight."
      ]
    },
    {
      "cell_type": "code",
      "execution_count": 38,
      "metadata": {
        "colab": {
          "base_uri": "https://localhost:8080/"
        },
        "id": "bUi3sZb5Etm-",
        "outputId": "c30415f9-acc8-495f-d481-de6f7eb66a91"
      },
      "outputs": [
        {
          "output_type": "stream",
          "name": "stdout",
          "text": [
            "Accuracy Score (Logistic Regression): 0.7182\n",
            "F1 Score (Logistic Regression): 0.2258\n"
          ]
        },
        {
          "output_type": "stream",
          "name": "stderr",
          "text": [
            "/usr/local/lib/python3.11/dist-packages/sklearn/linear_model/_logistic.py:465: ConvergenceWarning: lbfgs failed to converge (status=1):\n",
            "STOP: TOTAL NO. OF ITERATIONS REACHED LIMIT.\n",
            "\n",
            "Increase the number of iterations (max_iter) or scale the data as shown in:\n",
            "    https://scikit-learn.org/stable/modules/preprocessing.html\n",
            "Please also refer to the documentation for alternative solver options:\n",
            "    https://scikit-learn.org/stable/modules/linear_model.html#logistic-regression\n",
            "  n_iter_i = _check_optimize_result(\n"
          ]
        }
      ],
      "source": [
        "# === Class Weighting ===\n",
        "# We will begin with adjusting class weights as this is easy to do in the first instance\n",
        "logistic_regression = LogisticRegression(class_weight=\"balanced\")\n",
        "\n",
        "# Fit our model\n",
        "logistic_regression.fit(X_train_prep, y_train)\n",
        "\n",
        "# Make some predictions\n",
        "y_pred = logistic_regression.predict(X_test_prep)\n",
        "\n",
        "# See how well it performs\n",
        "print(f\"Accuracy Score (Logistic Regression): {accuracy_score(y_test, y_pred):.4f}\")\n",
        "print(f\"F1 Score (Logistic Regression): {f1_score(y_test, y_pred):.4f}\")"
      ]
    },
    {
      "cell_type": "code",
      "execution_count": 39,
      "metadata": {
        "colab": {
          "base_uri": "https://localhost:8080/"
        },
        "id": "5TGv94WEEtm-",
        "outputId": "66dec0dc-ad8c-4647-9bb8-753488812aad"
      },
      "outputs": [
        {
          "output_type": "stream",
          "name": "stdout",
          "text": [
            "F1 Score (SVC): 0.07692307692307693\n",
            "F1 Score (RandomForestClassifier): 0.0\n"
          ]
        }
      ],
      "source": [
        "# Lets try more complicated models\n",
        "svm = SVC(class_weight=\"balanced\")\n",
        "forest = RandomForestClassifier(class_weight=\"balanced\")\n",
        "\n",
        "for model in (svm, forest):\n",
        "    model.fit(X_train_prep, y_train)\n",
        "    y_pred = model.predict(X_test_prep)\n",
        "\n",
        "    print(f\"F1 Score ({type(model).__name__}): {f1_score(y_test, y_pred)}\")"
      ]
    },
    {
      "cell_type": "markdown",
      "metadata": {
        "id": "_gnKq3WnEtm-"
      },
      "source": [
        "We can see that we finally have an F1 score greater than 0m, and our Logistic regression model performs best.\n",
        "\n",
        "### Under and Over Sampling"
      ]
    },
    {
      "cell_type": "markdown",
      "metadata": {
        "id": "js-R9e21udsv"
      },
      "source": [
        "We can also combine data undersampling and oversampling on a training dataset.\n",
        "Data undersampling will delete examples from the majority class, whereas data oversampling will add examples to the minority class. These two approaches can be combined and used on a single training dataset.\n",
        "\n",
        "We're going to use the `imblearn` package here, which has some tools to help deal with imbalanced datasets."
      ]
    },
    {
      "cell_type": "code",
      "execution_count": 40,
      "metadata": {
        "id": "7lZWy3LfV4vO"
      },
      "outputs": [],
      "source": [
        "from imblearn.under_sampling import RandomUnderSampler\n",
        "from imblearn.over_sampling import RandomOverSampler"
      ]
    },
    {
      "cell_type": "markdown",
      "metadata": {
        "id": "fOmG7Ze_V4vP"
      },
      "source": [
        "When we define our samplers, we can define the `sampling_strategy` variable. The sampling_strategy parameter specifies the ratio or proportion of the minority/majority class samples that the resampling techniques should achieve. `sampling_strategy=0.1` means that the under-sampling technique will randomly select samples from the majority class (the class with more instances) until it reaches a ratio of 0.1 (10%) between the minority and majority class."
      ]
    },
    {
      "cell_type": "code",
      "execution_count": 41,
      "metadata": {
        "id": "81MTogtLEtm-"
      },
      "outputs": [],
      "source": [
        "under = RandomUnderSampler(sampling_strategy=0.1)\n",
        "over = RandomOverSampler(sampling_strategy=0.5)\n",
        "model = LogisticRegression()\n",
        "\n",
        "X_under, y_under = under.fit_resample(X_train_prep, y_train)\n",
        "X_combined, y_combined = over.fit_resample(X_under, y_under)"
      ]
    },
    {
      "cell_type": "markdown",
      "metadata": {
        "id": "0HKBUZf8uwyP"
      },
      "source": [
        "**Run the following models (which are some common classification algorithms) using the combined technique. What do you think about the obtained accuracy?**"
      ]
    },
    {
      "cell_type": "code",
      "execution_count": 42,
      "metadata": {
        "colab": {
          "base_uri": "https://localhost:8080/"
        },
        "id": "l1pKQ6KsEtm-",
        "outputId": "e0ee372d-77d0-4ca1-ce37-1772f64027df"
      },
      "outputs": [
        {
          "output_type": "stream",
          "name": "stderr",
          "text": [
            "/usr/local/lib/python3.11/dist-packages/sklearn/linear_model/_logistic.py:465: ConvergenceWarning: lbfgs failed to converge (status=1):\n",
            "STOP: TOTAL NO. OF ITERATIONS REACHED LIMIT.\n",
            "\n",
            "Increase the number of iterations (max_iter) or scale the data as shown in:\n",
            "    https://scikit-learn.org/stable/modules/preprocessing.html\n",
            "Please also refer to the documentation for alternative solver options:\n",
            "    https://scikit-learn.org/stable/modules/linear_model.html#logistic-regression\n",
            "  n_iter_i = _check_optimize_result(\n"
          ]
        },
        {
          "output_type": "stream",
          "name": "stdout",
          "text": [
            "F1 Score (LogisticRegression): 0.24472573839662448\n",
            "F1 Score (SVC): 0.0\n",
            "F1 Score (RandomForestClassifier): 0.1927710843373494\n",
            "F1 Score (KNeighborsClassifier): 0.09154929577464789\n",
            "F1 Score (GradientBoostingClassifier): 0.2885572139303483\n"
          ]
        }
      ],
      "source": [
        "logreg = LogisticRegression()\n",
        "svm = SVC()\n",
        "forest = RandomForestClassifier()\n",
        "knn = KNeighborsClassifier()\n",
        "gbm = GradientBoostingClassifier()\n",
        "\n",
        "for model in (logreg, svm, forest, knn, gbm):\n",
        "    model.fit(X_combined, y_combined)\n",
        "    y_pred = model.predict(X_test_prep)\n",
        "\n",
        "    print(f\"F1 Score ({type(model).__name__}): {f1_score(y_test, y_pred)}\")"
      ]
    },
    {
      "cell_type": "markdown",
      "metadata": {
        "id": "lENJTl1mV4vP"
      },
      "source": [
        "**Question**: What do you think of the final model performance? Why do you think it is the way it is?"
      ]
    },
    {
      "cell_type": "markdown",
      "metadata": {
        "id": "KTzcuJfXEtm-"
      },
      "source": [
        "# Next Steps\n",
        "Have a go at modifying our pipeline, including:\n",
        "\n",
        "- Engineering your own features\n",
        "- Different parameters (such as different train/test splits)\n",
        "- Try changing the sampling_strategy values (away from 0.1 and 0.5) and see what the impact is on performance\n",
        "- Different models (see below)\n",
        "\n",
        "Popular classifiers to try as alternative models include:\n",
        "\n",
        "- [Random Forest](https://scikit-learn.org/stable/modules/generated/sklearn.ensemble.RandomForestClassifier.html)\n",
        "- [K-nearest neighbours](https://scikit-learn.org/stable/modules/generated/sklearn.neighbors.KNeighborsClassifier.html)\n",
        "- [suppor vector machines (SVMs)](https://scikit-learn.org/stable/modules/generated/sklearn.svm.SVC.html)\n",
        "- [Gradient Boosting Machines (aka XGBoost)](https://scikit-learn.org/stable/modules/generated/sklearn.ensemble.GradientBoostingClassifier.html)\n",
        "\n",
        "These links will take you to the documentation. See if you can work out how to import them and then train the model based on the description and examples that they provide.\n"
      ]
    },
    {
      "cell_type": "markdown",
      "metadata": {
        "id": "7YYNohEjEtm-"
      },
      "source": [
        "Fill out the form below and we'll provide feedback on your code.\n",
        "\n",
        "**Any feedback on the exercise? Any questions? Want feedback on your code? Please fill out the form [here](https://docs.google.com/forms/d/e/1FAIpQLSdoOjVom8YKf11LxJ_bWN40afFMsWcoJ-xOrKhMbfBzgxTS9A/viewform).**"
      ]
    }
  ],
  "metadata": {
    "colab": {
      "provenance": []
    },
    "kernelspec": {
      "display_name": "Python 3 (ipykernel)",
      "language": "python",
      "name": "python3"
    },
    "language_info": {
      "codemirror_mode": {
        "name": "ipython",
        "version": 3
      },
      "file_extension": ".py",
      "mimetype": "text/x-python",
      "name": "python",
      "nbconvert_exporter": "python",
      "pygments_lexer": "ipython3",
      "version": "3.10.10"
    },
    "vscode": {
      "interpreter": {
        "hash": "2e6ddcdc73d423b0f01f8ea8dade5820db75de1f7bd936da71df45ce5b0f95b6"
      }
    }
  },
  "nbformat": 4,
  "nbformat_minor": 0
}